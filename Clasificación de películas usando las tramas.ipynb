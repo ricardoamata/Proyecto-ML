{
 "cells": [
  {
   "cell_type": "markdown",
   "metadata": {},
   "source": [
    "# Clasificación de películas usando las tramas"
   ]
  },
  {
   "cell_type": "markdown",
   "metadata": {},
   "source": [
    "## Clasificación de géneros"
   ]
  },
  {
   "cell_type": "code",
   "execution_count": 6,
   "metadata": {},
   "outputs": [],
   "source": [
    "import os\n",
    "os.environ['TF_CPP_MIN_LOG_LEVEL'] = '3'\n",
    "\n",
    "import re\n",
    "import numpy as np\n",
    "import pandas as pd\n",
    "import matplotlib.pyplot as plt\n",
    "\n",
    "np.warnings.filterwarnings('ignore')\n",
    "\n",
    "from nltk import word_tokenize, sent_tokenize\n",
    "from nltk.stem import WordNetLemmatizer\n",
    "\n",
    "from sklearn.feature_extraction.text import CountVectorizer, TfidfVectorizer\n",
    "from sklearn.model_selection import train_test_split\n",
    "from sklearn.metrics import confusion_matrix, accuracy_score, mean_squared_error\n",
    "from sklearn.svm import LinearSVC\n",
    "from sklearn.multiclass import OneVsRestClassifier\n",
    "from sklearn.linear_model import LinearRegression\n",
    "\n",
    "import tensorflow as tf\n",
    "import tensorflow.compat.v1 as tfv1\n",
    "import tensorflow_hub as hub\n",
    "\n",
    "tf.logging.set_verbosity(tf.logging.ERROR)\n",
    "\n",
    "from tqdm import tqdm_notebook as tqdm\n",
    "\n",
    "plt.style.use('ggplot')"
   ]
  },
  {
   "cell_type": "code",
   "execution_count": 2,
   "metadata": {},
   "outputs": [],
   "source": [
    "wiki_plots = pd.read_csv(\"wiki_movie_plots_deduped.csv\")\n",
    "wiki_plots.rename(columns={'Origin/Ethnicity':'Origin'}, inplace=True) # para mayor comodidad\n",
    "wiki_plots = wiki_plots.drop_duplicates(subset='Plot', keep='first')"
   ]
  },
  {
   "cell_type": "markdown",
   "metadata": {},
   "source": [
    "### Reducción de los géneros\n",
    "\n",
    "Se eliminan todos los géneros repetidos y se cambia el formato para multiples géneros a uno donde se escriben los nombres de los géneros separados por un \"|\""
   ]
  },
  {
   "cell_type": "code",
   "execution_count": 3,
   "metadata": {},
   "outputs": [],
   "source": [
    "\"\"\"\n",
    "This code is taken from:https://www.kaggle.com/aminejallouli/genre-classification-based-on-wiki-movies-plots\n",
    "and it's a little bit modified.\n",
    "\"\"\"\n",
    "wiki_plots['GenreCorrected'] =wiki_plots['Genre'] \n",
    "wiki_plots['GenreCorrected']=wiki_plots['GenreCorrected'].str.strip()\n",
    "wiki_plots['GenreCorrected']=wiki_plots['GenreCorrected'].str.replace(' - ', '|')\n",
    "wiki_plots['GenreCorrected']=wiki_plots['GenreCorrected'].str.replace(' / ', '|')\n",
    "wiki_plots['GenreCorrected']=wiki_plots['GenreCorrected'].str.replace('/', '|')\n",
    "wiki_plots['GenreCorrected']=wiki_plots['GenreCorrected'].str.replace(' & ', '|')\n",
    "wiki_plots['GenreCorrected']=wiki_plots['GenreCorrected'].str.replace(', ', '|')\n",
    "wiki_plots['GenreCorrected']=wiki_plots['GenreCorrected'].str.replace('; ', '|')\n",
    "wiki_plots['GenreCorrected']=wiki_plots['GenreCorrected'].str.replace('bio-pic', 'biography')\n",
    "wiki_plots['GenreCorrected']=wiki_plots['GenreCorrected'].str.replace('biopic', 'biography')\n",
    "wiki_plots['GenreCorrected']=wiki_plots['GenreCorrected'].str.replace('biographical', 'biography')\n",
    "wiki_plots['GenreCorrected']=wiki_plots['GenreCorrected'].str.replace('biodrama', 'biography')\n",
    "wiki_plots['GenreCorrected']=wiki_plots['GenreCorrected'].str.replace('bio-drama', 'biography')\n",
    "wiki_plots['GenreCorrected']=wiki_plots['GenreCorrected'].str.replace('biographic', 'biography')\n",
    "wiki_plots['GenreCorrected']=wiki_plots['GenreCorrected'].str.replace(' \\(film genre\\)', '')\n",
    "wiki_plots['GenreCorrected']=wiki_plots['GenreCorrected'].str.replace('animated','animation')\n",
    "wiki_plots['GenreCorrected']=wiki_plots['GenreCorrected'].str.replace('anime','animation')\n",
    "wiki_plots['GenreCorrected']=wiki_plots['GenreCorrected'].str.replace('children\\'s','children')\n",
    "wiki_plots['GenreCorrected']=wiki_plots['GenreCorrected'].str.replace('comedey','comedy')\n",
    "wiki_plots['GenreCorrected']=wiki_plots['GenreCorrected'].str.replace('\\[not in citation given\\]','')\n",
    "wiki_plots['GenreCorrected']=wiki_plots['GenreCorrected'].str.replace(' set 4,000 years ago in the canadian arctic','')\n",
    "wiki_plots['GenreCorrected']=wiki_plots['GenreCorrected'].str.replace('historical','history')\n",
    "wiki_plots['GenreCorrected']=wiki_plots['GenreCorrected'].str.replace('romantic','romance')\n",
    "wiki_plots['GenreCorrected']=wiki_plots['GenreCorrected'].str.replace('3-d','animation')\n",
    "wiki_plots['GenreCorrected']=wiki_plots['GenreCorrected'].str.replace('3d','animation')\n",
    "wiki_plots['GenreCorrected']=wiki_plots['GenreCorrected'].str.replace('viacom 18 motion pictures','')\n",
    "wiki_plots['GenreCorrected']=wiki_plots['GenreCorrected'].str.replace('sci-fi','science_fiction')\n",
    "wiki_plots['GenreCorrected']=wiki_plots['GenreCorrected'].str.replace('ttriller','thriller')\n",
    "wiki_plots['GenreCorrected']=wiki_plots['GenreCorrected'].str.replace('.','')\n",
    "wiki_plots['GenreCorrected']=wiki_plots['GenreCorrected'].str.replace('based on radio serial','')\n",
    "wiki_plots['GenreCorrected']=wiki_plots['GenreCorrected'].str.replace(' on the early years of hitler','')\n",
    "wiki_plots['GenreCorrected']=wiki_plots['GenreCorrected'].str.replace('sci fi','science_fiction')\n",
    "wiki_plots['GenreCorrected']=wiki_plots['GenreCorrected'].str.replace('science fiction','science_fiction')\n",
    "wiki_plots['GenreCorrected']=wiki_plots['GenreCorrected'].str.replace(' (30min)','')\n",
    "wiki_plots['GenreCorrected']=wiki_plots['GenreCorrected'].str.replace('16 mm film','short')\n",
    "wiki_plots['GenreCorrected']=wiki_plots['GenreCorrected'].str.replace('\\[140\\]','drama')\n",
    "wiki_plots['GenreCorrected']=wiki_plots['GenreCorrected'].str.replace('\\[144\\]','')\n",
    "wiki_plots['GenreCorrected']=wiki_plots['GenreCorrected'].str.replace(' for ','')\n",
    "wiki_plots['GenreCorrected']=wiki_plots['GenreCorrected'].str.replace('adventures','adventure')\n",
    "wiki_plots['GenreCorrected']=wiki_plots['GenreCorrected'].str.replace('kung fu','martial_arts')\n",
    "wiki_plots['GenreCorrected']=wiki_plots['GenreCorrected'].str.replace('kung-fu','martial_arts')\n",
    "wiki_plots['GenreCorrected']=wiki_plots['GenreCorrected'].str.replace('martial arts','martial_arts')\n",
    "wiki_plots['GenreCorrected']=wiki_plots['GenreCorrected'].str.replace('world war ii','war')\n",
    "wiki_plots['GenreCorrected']=wiki_plots['GenreCorrected'].str.replace('world war i','war')\n",
    "wiki_plots['GenreCorrected']=wiki_plots['GenreCorrected'].str.replace('biography about montreal canadiens star|maurice richard','biography')\n",
    "wiki_plots['GenreCorrected']=wiki_plots['GenreCorrected'].str.replace('bholenath movies|cinekorn entertainment','')\n",
    "wiki_plots['GenreCorrected']=wiki_plots['GenreCorrected'].str.replace(' \\(volleyball\\)','')\n",
    "wiki_plots['GenreCorrected']=wiki_plots['GenreCorrected'].str.replace('spy film','spy')\n",
    "wiki_plots['GenreCorrected']=wiki_plots['GenreCorrected'].str.replace('anthology film','anthology')\n",
    "wiki_plots['GenreCorrected']=wiki_plots['GenreCorrected'].str.replace('biography fim','biography')\n",
    "wiki_plots['GenreCorrected']=wiki_plots['GenreCorrected'].str.replace('avant-garde','avant_garde')\n",
    "wiki_plots['GenreCorrected']=wiki_plots['GenreCorrected'].str.replace('biker film','biker')\n",
    "wiki_plots['GenreCorrected']=wiki_plots['GenreCorrected'].str.replace('buddy cop','buddy')\n",
    "wiki_plots['GenreCorrected']=wiki_plots['GenreCorrected'].str.replace('buddy film','buddy')\n",
    "wiki_plots['GenreCorrected']=wiki_plots['GenreCorrected'].str.replace('comedy 2-reeler','comedy')\n",
    "wiki_plots['GenreCorrected']=wiki_plots['GenreCorrected'].str.replace('films','')\n",
    "wiki_plots['GenreCorrected']=wiki_plots['GenreCorrected'].str.replace('film','')\n",
    "wiki_plots['GenreCorrected']=wiki_plots['GenreCorrected'].str.replace('biography of pioneering american photographer eadweard muybridge','biography')\n",
    "wiki_plots['GenreCorrected']=wiki_plots['GenreCorrected'].str.replace('british-german co-production','')\n",
    "wiki_plots['GenreCorrected']=wiki_plots['GenreCorrected'].str.replace('bruceploitation','martial_arts')\n",
    "wiki_plots['GenreCorrected']=wiki_plots['GenreCorrected'].str.replace('comedy-drama adaptation of the mordecai richler novel','comedy-drama')\n",
    "wiki_plots['GenreCorrected']=wiki_plots['GenreCorrected'].str.replace('movies by the mob\\|knkspl','')\n",
    "wiki_plots['GenreCorrected']=wiki_plots['GenreCorrected'].str.replace('movies','')\n",
    "wiki_plots['GenreCorrected']=wiki_plots['GenreCorrected'].str.replace('movie','')\n",
    "wiki_plots['GenreCorrected']=wiki_plots['GenreCorrected'].str.replace('coming of age','coming_of_age')\n",
    "wiki_plots['GenreCorrected']=wiki_plots['GenreCorrected'].str.replace('coming-of-age','coming_of_age')\n",
    "wiki_plots['GenreCorrected']=wiki_plots['GenreCorrected'].str.replace('drama about child soldiers','drama')\n",
    "wiki_plots['GenreCorrected']=wiki_plots['GenreCorrected'].str.replace('(( based).+)','')\n",
    "wiki_plots['GenreCorrected']=wiki_plots['GenreCorrected'].str.replace('(( co-produced).+)','')\n",
    "wiki_plots['GenreCorrected']=wiki_plots['GenreCorrected'].str.replace('(( adapted).+)','')\n",
    "wiki_plots['GenreCorrected']=wiki_plots['GenreCorrected'].str.replace('(( about).+)','')\n",
    "wiki_plots['GenreCorrected']=wiki_plots['GenreCorrected'].str.replace('musical b','musical')\n",
    "wiki_plots['GenreCorrected']=wiki_plots['GenreCorrected'].str.replace('animationchildren','animation|children')\n",
    "wiki_plots['GenreCorrected']=wiki_plots['GenreCorrected'].str.replace(' period','period')\n",
    "wiki_plots['GenreCorrected']=wiki_plots['GenreCorrected'].str.replace('drama loosely','drama')\n",
    "wiki_plots['GenreCorrected']=wiki_plots['GenreCorrected'].str.replace(' \\(aquatics|swimming\\)','')\n",
    "wiki_plots['GenreCorrected']=wiki_plots['GenreCorrected'].str.replace(' \\(aquatics|swimming\\)','')\n",
    "wiki_plots['GenreCorrected']=wiki_plots['GenreCorrected'].str.replace(\"yogesh dattatraya gosavi's directorial debut \\[9\\]\",'')\n",
    "wiki_plots['GenreCorrected']=wiki_plots['GenreCorrected'].str.replace(\"war-time\",\"war\")\n",
    "wiki_plots['GenreCorrected']=wiki_plots['GenreCorrected'].str.replace(\"wartime\",\"war\")\n",
    "wiki_plots['GenreCorrected']=wiki_plots['GenreCorrected'].str.replace(\"ww1\",\"war\")\n",
    "wiki_plots['GenreCorrected']=wiki_plots['GenreCorrected'].str.replace('unknown','')\n",
    "wiki_plots['GenreCorrected']=wiki_plots['GenreCorrected'].str.replace(\"wwii\",\"war\")\n",
    "wiki_plots['GenreCorrected']=wiki_plots['GenreCorrected'].str.replace('psychological','psycho')\n",
    "wiki_plots['GenreCorrected']=wiki_plots['GenreCorrected'].str.replace('rom-coms','romance')\n",
    "wiki_plots['GenreCorrected']=wiki_plots['GenreCorrected'].str.replace('true crime','crime')\n",
    "wiki_plots['GenreCorrected']=wiki_plots['GenreCorrected'].str.replace('\\|007','')\n",
    "wiki_plots['GenreCorrected']=wiki_plots['GenreCorrected'].str.replace('slice of life','slice_of_life')\n",
    "wiki_plots['GenreCorrected']=wiki_plots['GenreCorrected'].str.replace('computer animation','animation')\n",
    "wiki_plots['GenreCorrected']=wiki_plots['GenreCorrected'].str.replace('gun fu','martial_arts')\n",
    "wiki_plots['GenreCorrected']=wiki_plots['GenreCorrected'].str.replace('j-horror','horror')\n",
    "wiki_plots['GenreCorrected']=wiki_plots['GenreCorrected'].str.replace(' \\(shogi|chess\\)','')\n",
    "wiki_plots['GenreCorrected']=wiki_plots['GenreCorrected'].str.replace('afghan war drama','war drama')\n",
    "wiki_plots['GenreCorrected']=wiki_plots['GenreCorrected'].str.replace('\\|6 separate stories','')\n",
    "wiki_plots['GenreCorrected']=wiki_plots['GenreCorrected'].str.replace(' \\(30min\\)','')\n",
    "wiki_plots['GenreCorrected']=wiki_plots['GenreCorrected'].str.replace(' (road bicycle racing)','')\n",
    "wiki_plots['GenreCorrected']=wiki_plots['GenreCorrected'].str.replace(' v-cinema','')\n",
    "wiki_plots['GenreCorrected']=wiki_plots['GenreCorrected'].str.replace('tv miniseries','tv_miniseries')\n",
    "wiki_plots['GenreCorrected']=wiki_plots['GenreCorrected'].str.replace('\\|docudrama','\\|documentary|drama')\n",
    "wiki_plots['GenreCorrected']=wiki_plots['GenreCorrected'].str.replace(' in animation','|animation')\n",
    "wiki_plots['GenreCorrected']=wiki_plots['GenreCorrected'].str.replace('((adaptation).+)','')\n",
    "wiki_plots['GenreCorrected']=wiki_plots['GenreCorrected'].str.replace('((adaptated).+)','')\n",
    "wiki_plots['GenreCorrected']=wiki_plots['GenreCorrected'].str.replace('((adapted).+)','')\n",
    "wiki_plots['GenreCorrected']=wiki_plots['GenreCorrected'].str.replace('(( on ).+)','')\n",
    "wiki_plots['GenreCorrected']=wiki_plots['GenreCorrected'].str.replace('american football','sports')\n",
    "wiki_plots['GenreCorrected']=wiki_plots['GenreCorrected'].str.replace('dev\\|nusrat jahan','sports')\n",
    "wiki_plots['GenreCorrected']=wiki_plots['GenreCorrected'].str.replace('television miniseries','tv_miniseries')\n",
    "wiki_plots['GenreCorrected']=wiki_plots['GenreCorrected'].str.replace(' \\(artistic\\)','')\n",
    "wiki_plots['GenreCorrected']=wiki_plots['GenreCorrected'].str.replace(' \\|direct-to-dvd','')\n",
    "wiki_plots['GenreCorrected']=wiki_plots['GenreCorrected'].str.replace('history dram','history drama')\n",
    "wiki_plots['GenreCorrected']=wiki_plots['GenreCorrected'].str.replace('martial art','martial_arts')\n",
    "wiki_plots['GenreCorrected']=wiki_plots['GenreCorrected'].str.replace('psycho thriller,','psycho thriller')\n",
    "wiki_plots['GenreCorrected']=wiki_plots['GenreCorrected'].str.replace('\\|1 girl\\|3 suitors','')\n",
    "wiki_plots['GenreCorrected']=wiki_plots['GenreCorrected'].str.replace(' \\(road bicycle racing\\)','')\n",
    "filterE = wiki_plots['GenreCorrected']==\"ero\"\n",
    "wiki_plots.loc[filterE,'GenreCorrected']=\"adult\"\n",
    "filterE = wiki_plots['GenreCorrected']==\"music\"\n",
    "wiki_plots.loc[filterE,'GenreCorrected']=\"musical\"\n",
    "filterE = wiki_plots['GenreCorrected']==\"-\"\n",
    "wiki_plots.loc[filterE,'GenreCorrected']=''\n",
    "filterE = wiki_plots['GenreCorrected']==\"comedy–drama\"\n",
    "wiki_plots.loc[filterE,'GenreCorrected'] = \"comedy|drama\"\n",
    "filterE = wiki_plots['GenreCorrected']==\"comedy–horror\"\n",
    "wiki_plots.loc[filterE,'GenreCorrected'] = \"comedy|horror\"\n",
    "wiki_plots['GenreCorrected']=wiki_plots['GenreCorrected'].str.replace(' ','|')\n",
    "wiki_plots['GenreCorrected']=wiki_plots['GenreCorrected'].str.replace(',','|')\n",
    "wiki_plots['GenreCorrected']=wiki_plots['GenreCorrected'].str.replace('-','')\n",
    "wiki_plots['GenreCorrected']=wiki_plots['GenreCorrected'].str.replace('actionadventure','action|adventure')\n",
    "wiki_plots['GenreCorrected']=wiki_plots['GenreCorrected'].str.replace('actioncomedy','action|comedy')\n",
    "wiki_plots['GenreCorrected']=wiki_plots['GenreCorrected'].str.replace('actiondrama','action|drama')\n",
    "wiki_plots['GenreCorrected']=wiki_plots['GenreCorrected'].str.replace('actionlove','action|love')\n",
    "wiki_plots['GenreCorrected']=wiki_plots['GenreCorrected'].str.replace('actionmasala','action|masala')\n",
    "wiki_plots['GenreCorrected']=wiki_plots['GenreCorrected'].str.replace('actionchildren','action|children')\n",
    "\n",
    "wiki_plots['GenreCorrected']=wiki_plots['GenreCorrected'].str.replace('fantasychildren\\|','fantasy|children')\n",
    "wiki_plots['GenreCorrected']=wiki_plots['GenreCorrected'].str.replace('fantasycomedy','fantasy|comedy')\n",
    "wiki_plots['GenreCorrected']=wiki_plots['GenreCorrected'].str.replace('fantasyperiod','fantasy|period')\n",
    "wiki_plots['GenreCorrected']=wiki_plots['GenreCorrected'].str.replace('cbctv_miniseries','tv_miniseries')\n",
    "wiki_plots['GenreCorrected']=wiki_plots['GenreCorrected'].str.replace('dramacomedy','drama|comedy')\n",
    "wiki_plots['GenreCorrected']=wiki_plots['GenreCorrected'].str.replace('dramacomedysocial','drama|comedy|social')\n",
    "wiki_plots['GenreCorrected']=wiki_plots['GenreCorrected'].str.replace('dramathriller','drama|thriller')\n",
    "wiki_plots['GenreCorrected']=wiki_plots['GenreCorrected'].str.replace('comedydrama','comedy|drama')\n",
    "wiki_plots['GenreCorrected']=wiki_plots['GenreCorrected'].str.replace('dramathriller','drama|thriller')\n",
    "wiki_plots['GenreCorrected']=wiki_plots['GenreCorrected'].str.replace('comedyhorror','comedy|horror')\n",
    "wiki_plots['GenreCorrected']=wiki_plots['GenreCorrected'].str.replace('sciencefiction','science_fiction')\n",
    "wiki_plots['GenreCorrected']=wiki_plots['GenreCorrected'].str.replace('adventurecomedy','adventure|comedy')\n",
    "wiki_plots['GenreCorrected']=wiki_plots['GenreCorrected'].str.replace('animationdrama','animation|drama')\n",
    "wiki_plots['GenreCorrected']=wiki_plots['GenreCorrected'].str.replace('\\|\\|','|')\n",
    "wiki_plots['GenreCorrected']=wiki_plots['GenreCorrected'].str.replace('muslim','religious')\n",
    "wiki_plots['GenreCorrected']=wiki_plots['GenreCorrected'].str.replace('thriler','thriller')\n",
    "wiki_plots['GenreCorrected']=wiki_plots['GenreCorrected'].str.replace('crimethriller','crime|thriller')\n",
    "wiki_plots['GenreCorrected']=wiki_plots['GenreCorrected'].str.replace('fantay','fantasy')\n",
    "wiki_plots['GenreCorrected']=wiki_plots['GenreCorrected'].str.replace('actionthriller','action|thriller')\n",
    "wiki_plots['GenreCorrected']=wiki_plots['GenreCorrected'].str.replace('comedysocial','comedy|social')\n",
    "wiki_plots['GenreCorrected']=wiki_plots['GenreCorrected'].str.replace('martialarts','martial_arts')\n",
    "wiki_plots['GenreCorrected']=wiki_plots['GenreCorrected'].str.replace('\\|\\(children\\|poker\\|karuta\\)','')\n",
    "wiki_plots['GenreCorrected']=wiki_plots['GenreCorrected'].str.replace('epichistory','epic|history')\n",
    "\n",
    "wiki_plots['GenreCorrected']=wiki_plots['GenreCorrected'].str.replace('erotica','adult')\n",
    "wiki_plots['GenreCorrected']=wiki_plots['GenreCorrected'].str.replace('erotic','adult')\n",
    "\n",
    "wiki_plots['GenreCorrected']=wiki_plots['GenreCorrected'].str.replace('((\\|produced\\|).+)','')\n",
    "wiki_plots['GenreCorrected']=wiki_plots['GenreCorrected'].str.replace('chanbara','chambara')\n",
    "wiki_plots['GenreCorrected']=wiki_plots['GenreCorrected'].str.replace('comedythriller','comedy|thriller')\n",
    "wiki_plots['GenreCorrected']=wiki_plots['GenreCorrected'].str.replace('biblical','religious')\n",
    "wiki_plots['GenreCorrected']=wiki_plots['GenreCorrected'].str.replace('biblical','religious')\n",
    "wiki_plots['GenreCorrected']=wiki_plots['GenreCorrected'].str.replace('colour\\|yellow\\|productions\\|eros\\|international','')\n",
    "wiki_plots['GenreCorrected']=wiki_plots['GenreCorrected'].str.replace('\\|directtodvd','')\n",
    "wiki_plots['GenreCorrected']=wiki_plots['GenreCorrected'].str.replace('liveaction','live|action')\n",
    "wiki_plots['GenreCorrected']=wiki_plots['GenreCorrected'].str.replace('melodrama','drama')\n",
    "wiki_plots['GenreCorrected']=wiki_plots['GenreCorrected'].str.replace('superheroes','superheroe')\n",
    "wiki_plots['GenreCorrected']=wiki_plots['GenreCorrected'].str.replace('gangsterthriller','gangster|thriller')\n",
    "\n",
    "wiki_plots['GenreCorrected']=wiki_plots['GenreCorrected'].str.replace('heistcomedy','comedy')\n",
    "wiki_plots['GenreCorrected']=wiki_plots['GenreCorrected'].str.replace('heist','action')\n",
    "wiki_plots['GenreCorrected']=wiki_plots['GenreCorrected'].str.replace('historic','history')\n",
    "wiki_plots['GenreCorrected']=wiki_plots['GenreCorrected'].str.replace('historydisaster','history|disaster')\n",
    "wiki_plots['GenreCorrected']=wiki_plots['GenreCorrected'].str.replace('warcomedy','war|comedy')\n",
    "wiki_plots['GenreCorrected']=wiki_plots['GenreCorrected'].str.replace('westerncomedy','western|comedy')\n",
    "wiki_plots['GenreCorrected']=wiki_plots['GenreCorrected'].str.replace('ancientcostume','costume')\n",
    "wiki_plots['GenreCorrected']=wiki_plots['GenreCorrected'].str.replace('computeranimation','animation')\n",
    "wiki_plots['GenreCorrected']=wiki_plots['GenreCorrected'].str.replace('dramatic','drama')\n",
    "wiki_plots['GenreCorrected']=wiki_plots['GenreCorrected'].str.replace('familya','family')\n",
    "wiki_plots['GenreCorrected']=wiki_plots['GenreCorrected'].str.replace('familya','family')\n",
    "wiki_plots['GenreCorrected']=wiki_plots['GenreCorrected'].str.replace('dramedy','drama|comedy')\n",
    "wiki_plots['GenreCorrected']=wiki_plots['GenreCorrected'].str.replace('dramaa','drama')\n",
    "wiki_plots['GenreCorrected']=wiki_plots['GenreCorrected'].str.replace('famil\\|','family')\n",
    "\n",
    "wiki_plots['GenreCorrected']=wiki_plots['GenreCorrected'].str.replace('superheroe','superhero')\n",
    "wiki_plots['GenreCorrected']=wiki_plots['GenreCorrected'].str.replace('biogtaphy','biography')\n",
    "wiki_plots['GenreCorrected']=wiki_plots['GenreCorrected'].str.replace('devotionalbiography','devotional|biography')\n",
    "wiki_plots['GenreCorrected']=wiki_plots['GenreCorrected'].str.replace('docufiction','documentary|fiction')\n",
    "\n",
    "wiki_plots['GenreCorrected']=wiki_plots['GenreCorrected'].str.replace('familydrama','family|drama')\n",
    "\n",
    "wiki_plots['GenreCorrected']=wiki_plots['GenreCorrected'].str.replace('espionage','spy')\n",
    "wiki_plots['GenreCorrected']=wiki_plots['GenreCorrected'].str.replace('supeheroes','superhero')\n",
    "wiki_plots['GenreCorrected']=wiki_plots['GenreCorrected'].str.replace('romancefiction','romance|fiction')\n",
    "wiki_plots['GenreCorrected']=wiki_plots['GenreCorrected'].str.replace('horrorthriller','horror|thriller')\n",
    "\n",
    "wiki_plots['GenreCorrected']=wiki_plots['GenreCorrected'].str.replace('suspensethriller','suspense|thriller')\n",
    "wiki_plots['GenreCorrected']=wiki_plots['GenreCorrected'].str.replace('musicaliography','musical|biography')\n",
    "wiki_plots['GenreCorrected']=wiki_plots['GenreCorrected'].str.replace('triller','thriller')\n",
    "\n",
    "wiki_plots['GenreCorrected']=wiki_plots['GenreCorrected'].str.replace('\\|\\(fiction\\)','|fiction')\n",
    "\n",
    "wiki_plots['GenreCorrected']=wiki_plots['GenreCorrected'].str.replace('romanceaction','romance|action')\n",
    "wiki_plots['GenreCorrected']=wiki_plots['GenreCorrected'].str.replace('romancecomedy','romance|comedy')\n",
    "wiki_plots['GenreCorrected']=wiki_plots['GenreCorrected'].str.replace('romancehorror','romance|horror')\n",
    "\n",
    "wiki_plots['GenreCorrected']=wiki_plots['GenreCorrected'].str.replace('romcom','romance|comedy')\n",
    "wiki_plots['GenreCorrected']=wiki_plots['GenreCorrected'].str.replace('rom\\|com','romance|comedy')\n",
    "wiki_plots['GenreCorrected']=wiki_plots['GenreCorrected'].str.replace('satirical','satire')\n",
    "\n",
    "wiki_plots['GenreCorrected']=wiki_plots['GenreCorrected'].str.replace('science_fictionchildren','science_fiction|children')\n",
    "wiki_plots['GenreCorrected']=wiki_plots['GenreCorrected'].str.replace('homosexual','adult')\n",
    "wiki_plots['GenreCorrected']=wiki_plots['GenreCorrected'].str.replace('sexual','adult')\n",
    "\n",
    "wiki_plots['GenreCorrected']=wiki_plots['GenreCorrected'].str.replace('mockumentary','documentary')\n",
    "wiki_plots['GenreCorrected']=wiki_plots['GenreCorrected'].str.replace('periodic','period')\n",
    "wiki_plots['GenreCorrected']=wiki_plots['GenreCorrected'].str.replace('romanctic','romantic')\n",
    "wiki_plots['GenreCorrected']=wiki_plots['GenreCorrected'].str.replace('politics','political')\n",
    "wiki_plots['GenreCorrected']=wiki_plots['GenreCorrected'].str.replace('samurai','martial_arts')\n",
    "wiki_plots['GenreCorrected']=wiki_plots['GenreCorrected'].str.replace('tv_miniseries','series')\n",
    "wiki_plots['GenreCorrected']=wiki_plots['GenreCorrected'].str.replace('serial','series')\n",
    "\n",
    "filterE = wiki_plots['GenreCorrected']==\"musical–comedy\"\n",
    "wiki_plots.loc[filterE,'GenreCorrected'] = \"musical|comedy\"\n",
    "\n",
    "filterE = wiki_plots['GenreCorrected']==\"roman|porno\"\n",
    "wiki_plots.loc[filterE,'GenreCorrected'] = \"adult\"\n",
    "\n",
    "\n",
    "filterE = wiki_plots['GenreCorrected']==\"action—masala\"\n",
    "wiki_plots.loc[filterE,'GenreCorrected'] = \"action|masala\"\n",
    "\n",
    "\n",
    "filterE = wiki_plots['GenreCorrected']==\"horror–thriller\"\n",
    "wiki_plots.loc[filterE,'GenreCorrected'] = \"horror|thriller\"\n",
    "\n",
    "#wiki_plots['GenreCorrected']=wiki_plots['GenreCorrected'].str.replace('family','children')\n",
    "#wiki_plots['GenreCorrected']=wiki_plots['GenreCorrected'].str.replace('martial_arts','action')\n",
    "#wiki_plots['GenreCorrected']=wiki_plots['GenreCorrected'].str.replace('horror','thriller')\n",
    "#wiki_plots['GenreCorrected']=wiki_plots['GenreCorrected'].str.replace('war','action')\n",
    "#wiki_plots['GenreCorrected']=wiki_plots['GenreCorrected'].str.replace('adventure','action')\n",
    "#wiki_plots['GenreCorrected']=wiki_plots['GenreCorrected'].str.replace('science_fiction','action')\n",
    "#wiki_plots['GenreCorrected']=wiki_plots['GenreCorrected'].str.replace('western','action')\n",
    "wiki_plots['GenreCorrected']=wiki_plots['GenreCorrected'].str.replace('noir','black')\n",
    "wiki_plots['GenreCorrected']=wiki_plots['GenreCorrected'].str.replace('spy','action')\n",
    "wiki_plots['GenreCorrected']=wiki_plots['GenreCorrected'].str.replace('superhero','action')\n",
    "wiki_plots['GenreCorrected']=wiki_plots['GenreCorrected'].str.replace('social','')\n",
    "wiki_plots['GenreCorrected']=wiki_plots['GenreCorrected'].str.replace('suspense','thriller')\n",
    "\n",
    "\n",
    "filterE = wiki_plots['GenreCorrected']==\"drama|romance|adult|children\"\n",
    "wiki_plots.loc[filterE,'GenreCorrected'] = \"drama|romance|adult\"\n",
    "\n",
    "wiki_plots['GenreCorrected']=wiki_plots['GenreCorrected'].str.replace('\\|–\\|','|')\n",
    "wiki_plots['GenreCorrected']=wiki_plots['GenreCorrected'].str.strip(to_strip='\\|')\n",
    "wiki_plots['GenreCorrected']=wiki_plots['GenreCorrected'].str.replace('actionner','action')\n",
    "wiki_plots['GenreCorrected']=wiki_plots['GenreCorrected'].str.strip()\n",
    "\n",
    "def merge_similar(gn):\n",
    "    gn_list = gn.split('|')\n",
    "    gn_list = sorted(list(set(gn_list)))\n",
    "    return '|'.join(gn_list)\n",
    "\n",
    "wiki_plots['GenreCorrected']=wiki_plots['GenreCorrected'].apply(merge_similar)\n",
    "wiki_plots['GenreCorrected']=wiki_plots['GenreCorrected'].str.replace('^$','unknown')"
   ]
  },
  {
   "cell_type": "code",
   "execution_count": 4,
   "metadata": {},
   "outputs": [],
   "source": [
    "wiki_plots['GenreSplit'] = wiki_plots['GenreCorrected'].str.split('|')\n",
    "wiki_plots['GenreSplit'] = wiki_plots['GenreSplit'].apply(np.array)"
   ]
  },
  {
   "cell_type": "markdown",
   "metadata": {},
   "source": [
    "Eliminamos los generos que sean poco frecuentes, solo conservamos los 20 que mas ocurrencias tengan"
   ]
  },
  {
   "cell_type": "code",
   "execution_count": 5,
   "metadata": {},
   "outputs": [
    {
     "data": {
      "text/plain": [
       "array(['drama', 'comedy', 'romance', 'action', 'thriller', 'crime',\n",
       "       'horror', 'western', 'musical', 'science_fiction', 'animation',\n",
       "       'adventure', 'family', 'war', 'fantasy', 'mystery', 'biography',\n",
       "       'black', 'history', 'short', 'martial_arts', 'documentary',\n",
       "       'sports'], dtype=object)"
      ]
     },
     "execution_count": 5,
     "metadata": {},
     "output_type": "execute_result"
    }
   ],
   "source": [
    "genres = [genre for sublist in wiki_plots['GenreSplit'].values for genre in sublist]\n",
    "genres = pd.DataFrame({'Counts':genres})['Counts'].value_counts().to_frame().reset_index().rename(columns={'index':'Genre'})\n",
    "genres = genres[genres['Genre'] != 'unknown'].head(23)\n",
    "genres = np.array(genres['Genre'])\n",
    "genres"
   ]
  },
  {
   "cell_type": "code",
   "execution_count": 6,
   "metadata": {},
   "outputs": [],
   "source": [
    "wiki_plots['GenreSplit'] = wiki_plots['GenreSplit'].apply(lambda x: x[np.in1d(x, genres)])"
   ]
  },
  {
   "cell_type": "markdown",
   "metadata": {},
   "source": [
    "Obtenemos los vectores de salida de una manera parecida al one hot encoding pero teniendo multiples unos en\n",
    "cada vector"
   ]
  },
  {
   "cell_type": "code",
   "execution_count": 7,
   "metadata": {},
   "outputs": [
    {
     "data": {
      "text/plain": [
       "array([0, 0, 0, ..., 0, 0, 0])"
      ]
     },
     "execution_count": 7,
     "metadata": {},
     "output_type": "execute_result"
    }
   ],
   "source": [
    "dummy_clases = wiki_plots.query('GenreCorrected != \"unknown\"')['GenreSplit'].apply(lambda x: '|'.join(x)).str.get_dummies()\n",
    "dummy_clases['drama'].values"
   ]
  },
  {
   "cell_type": "markdown",
   "metadata": {},
   "source": [
    "### Limpieza de las tramas\n",
    "\n",
    "Ahora definimos una función para limpiar los textos de las tramas, primero se reemplazan todas las contracciones\n",
    "en ingles por la forma completa y se eliminan los simbolos raros"
   ]
  },
  {
   "cell_type": "code",
   "execution_count": 3,
   "metadata": {},
   "outputs": [],
   "source": [
    "def clean_text(text):\n",
    "    \"\"\"\n",
    "    This function is taken from:\n",
    "    https://www.kaggle.com/aminejallouli/genre-classification-based-on-wiki-movies-plots\n",
    "    \"\"\"\n",
    "    text = text.lower()\n",
    "    text = re.sub(r\"what's\", \"what is \", text)\n",
    "    text = re.sub(r\"\\'s\", \"\", text)\n",
    "    text = re.sub(r\"\\'ve\", \" have \", text)\n",
    "    text = re.sub(r\"can't\", \"can not \", text)\n",
    "    text = re.sub(r\"n't\", \" not \", text)\n",
    "    text = re.sub(r\"i'm\", \"i am \", text)\n",
    "    text = re.sub(r\"\\'re\", \" are \", text)\n",
    "    text = re.sub(r\"\\'d\", \" would \", text)\n",
    "    text = re.sub(r\"\\'ll\", \" will \", text)\n",
    "    text = re.sub(r\"\\'scuse\", \" excuse \", text)\n",
    "    text = re.sub(r\"\\[\\d+\\]\", \"\", text)\n",
    "    text = re.sub('[%s\\d]' % re.escape(\"\"\"!\"#$%&'()*+,-.:;<=>?@[\\]^`{|}~\"\"\"), \"\", text)\n",
    "    text = re.sub(r\"[-\\n]\", \" \", text)\n",
    "    text = text.strip(' ')\n",
    "    return text"
   ]
  },
  {
   "cell_type": "code",
   "execution_count": 4,
   "metadata": {},
   "outputs": [],
   "source": [
    "wiki_plots['FormattedPlot'] = wiki_plots['Plot'].apply(clean_text)"
   ]
  },
  {
   "cell_type": "markdown",
   "metadata": {},
   "source": [
    "### Codificacion de los textos\n",
    "\n",
    "Primero se divide el dataset en training y test en un 80/20, luego se tokenizan los textos y se lematizan\n",
    "despues se usa una codificación de tfidf para poder usar los datos en un algoritmo de aprendizaje"
   ]
  },
  {
   "cell_type": "code",
   "execution_count": 10,
   "metadata": {},
   "outputs": [],
   "source": [
    "data = wiki_plots.query('GenreCorrected != \"unknown\"').reset_index()\n",
    "\n",
    "X_train, X_test, y_train, y_test = train_test_split(data['FormattedPlot'].values, dummy_clases)\n",
    "\n",
    "stemmer = WordNetLemmatizer()\n",
    "for i in range(len(X_train)):\n",
    "    X_train[i] = [stemmer.lemmatize(word) for word in X_train[i].split(' ')]\n",
    "    X_train[i] = ' '.join(X_train[i])\n",
    "    \n",
    "for i in range(len(X_test)):\n",
    "    X_test[i] = [stemmer.lemmatize(word) for word in X_test[i].split(' ')]\n",
    "    X_test[i] = ' '.join(X_test[i])\n",
    "\n",
    "tfidf = TfidfVectorizer(smooth_idf=False, sublinear_tf=False, stop_words='english')\n",
    "X_train = tfidf.fit_transform(X_train)\n",
    "X_test = tfidf.transform(X_test).toarray()"
   ]
  },
  {
   "cell_type": "markdown",
   "metadata": {},
   "source": [
    "### Definición de los clasificadores\n",
    "\n",
    "Tenemos multiples posibles valores en la salida, en otras palabras una pélicula puede pertenecer a varios \n",
    "generos, por lo que no vamos a entrenar una softmax que solo prediga una clase, si no que que vamos a \n",
    "hacer un one vs rest para cada clase, de modo que para cada genero vamos a calcular la probabilidad de \n",
    "que una pélicula pertenesca a este, teniendo asi un clasificador para cada clase.\n",
    "\n",
    "Se usaran SVM lineales por que son buenos clasificando textos y generalizando"
   ]
  },
  {
   "cell_type": "code",
   "execution_count": 11,
   "metadata": {},
   "outputs": [],
   "source": [
    "def train_clasifiers(x, y, clases):\n",
    "    clasifiers = []\n",
    "    for c in clases:\n",
    "        clf = OneVsRestClassifier(LinearSVC(random_state=0, max_iter=25000))\n",
    "        clf.fit(x, y[c].values)\n",
    "        clasifiers.append(clf)\n",
    "    return clasifiers\n",
    "\n",
    "def predict(clasifiers, x, clases):\n",
    "    pred_clases = []\n",
    "    for i, clf in enumerate(clasifiers):\n",
    "        if clf.predict([x])[0] == 1:\n",
    "            pred_clases.append(clases[i])\n",
    "    return pred_clases\n",
    "\n",
    "def predict_vector(clf, X):\n",
    "    pred = np.zeros((len(X)))\n",
    "    for i, x in enumerate(X):\n",
    "        pred[i] = clf.predict([x])[0]\n",
    "    return pred\n",
    "\n",
    "def evalueate_models(clasifiers, X_test, y_test, clases):\n",
    "    score = np.zeros((len(clases)))\n",
    "    for i, c in enumerate(clases):\n",
    "        score[i] = accuracy_score(predict_vector(clasifiers[i], X_test), y_test[c].values)\n",
    "    return score"
   ]
  },
  {
   "cell_type": "code",
   "execution_count": 12,
   "metadata": {},
   "outputs": [],
   "source": [
    "clasifiers = train_clasifiers(X_train, y_train, genres)"
   ]
  },
  {
   "cell_type": "markdown",
   "metadata": {},
   "source": [
    "Hacemos una pequeña prueba con alguna pélicula"
   ]
  },
  {
   "cell_type": "code",
   "execution_count": 35,
   "metadata": {},
   "outputs": [
    {
     "name": "stdout",
     "output_type": "stream",
     "text": [
      "The House with Closed Shutters\n",
      "['drama']\n",
      "['drama', 'comedy']\n"
     ]
    }
   ],
   "source": [
    "i = 19\n",
    "print(data['Title'][i])\n",
    "print(data['GenreSplit'][i])\n",
    "print(predict(clasifiers, X_test[i], genres))"
   ]
  },
  {
   "cell_type": "markdown",
   "metadata": {},
   "source": [
    "Calculamos la accuracy en el test set"
   ]
  },
  {
   "cell_type": "code",
   "execution_count": 36,
   "metadata": {
    "scrolled": false
   },
   "outputs": [
    {
     "name": "stdout",
     "output_type": "stream",
     "text": [
      "0.9533036533644187\n"
     ]
    }
   ],
   "source": [
    "acc = evalueate_models(clasifiers, X_test, y_test, genres)\n",
    "print(np.mean(acc))"
   ]
  },
  {
   "cell_type": "markdown",
   "metadata": {},
   "source": [
    "## Regresión lineal para predecir el año de salida de una pélicula\n",
    "\n",
    "Primero preparamos los datos"
   ]
  },
  {
   "cell_type": "code",
   "execution_count": 5,
   "metadata": {},
   "outputs": [
    {
     "ename": "MemoryError",
     "evalue": "Unable to allocate array with shape (8468, 124303) and data type float64",
     "output_type": "error",
     "traceback": [
      "\u001b[0;31m---------------------------------------------------------------------------\u001b[0m",
      "\u001b[0;31mMemoryError\u001b[0m                               Traceback (most recent call last)",
      "\u001b[0;32m<ipython-input-5-8320a1cf5a78>\u001b[0m in \u001b[0;36m<module>\u001b[0;34m\u001b[0m\n\u001b[1;32m     13\u001b[0m \u001b[0mtfidf\u001b[0m \u001b[0;34m=\u001b[0m \u001b[0mTfidfVectorizer\u001b[0m\u001b[0;34m(\u001b[0m\u001b[0msmooth_idf\u001b[0m\u001b[0;34m=\u001b[0m\u001b[0;32mFalse\u001b[0m\u001b[0;34m,\u001b[0m \u001b[0msublinear_tf\u001b[0m\u001b[0;34m=\u001b[0m\u001b[0;32mFalse\u001b[0m\u001b[0;34m,\u001b[0m \u001b[0mstop_words\u001b[0m\u001b[0;34m=\u001b[0m\u001b[0;34m'english'\u001b[0m\u001b[0;34m)\u001b[0m\u001b[0;34m\u001b[0m\u001b[0;34m\u001b[0m\u001b[0m\n\u001b[1;32m     14\u001b[0m \u001b[0mX_train\u001b[0m \u001b[0;34m=\u001b[0m \u001b[0mtfidf\u001b[0m\u001b[0;34m.\u001b[0m\u001b[0mfit_transform\u001b[0m\u001b[0;34m(\u001b[0m\u001b[0mX_train\u001b[0m\u001b[0;34m)\u001b[0m\u001b[0;34m\u001b[0m\u001b[0;34m\u001b[0m\u001b[0m\n\u001b[0;32m---> 15\u001b[0;31m \u001b[0mX_test\u001b[0m \u001b[0;34m=\u001b[0m \u001b[0mtfidf\u001b[0m\u001b[0;34m.\u001b[0m\u001b[0mtransform\u001b[0m\u001b[0;34m(\u001b[0m\u001b[0mX_test\u001b[0m\u001b[0;34m)\u001b[0m\u001b[0;34m.\u001b[0m\u001b[0mtoarray\u001b[0m\u001b[0;34m(\u001b[0m\u001b[0;34m)\u001b[0m\u001b[0;34m\u001b[0m\u001b[0;34m\u001b[0m\u001b[0m\n\u001b[0m",
      "\u001b[0;32m~/.local/lib/python3.6/site-packages/scipy/sparse/compressed.py\u001b[0m in \u001b[0;36mtoarray\u001b[0;34m(self, order, out)\u001b[0m\n\u001b[1;32m   1022\u001b[0m         \u001b[0;32mif\u001b[0m \u001b[0mout\u001b[0m \u001b[0;32mis\u001b[0m \u001b[0;32mNone\u001b[0m \u001b[0;32mand\u001b[0m \u001b[0morder\u001b[0m \u001b[0;32mis\u001b[0m \u001b[0;32mNone\u001b[0m\u001b[0;34m:\u001b[0m\u001b[0;34m\u001b[0m\u001b[0;34m\u001b[0m\u001b[0m\n\u001b[1;32m   1023\u001b[0m             \u001b[0morder\u001b[0m \u001b[0;34m=\u001b[0m \u001b[0mself\u001b[0m\u001b[0;34m.\u001b[0m\u001b[0m_swap\u001b[0m\u001b[0;34m(\u001b[0m\u001b[0;34m'cf'\u001b[0m\u001b[0;34m)\u001b[0m\u001b[0;34m[\u001b[0m\u001b[0;36m0\u001b[0m\u001b[0;34m]\u001b[0m\u001b[0;34m\u001b[0m\u001b[0;34m\u001b[0m\u001b[0m\n\u001b[0;32m-> 1024\u001b[0;31m         \u001b[0mout\u001b[0m \u001b[0;34m=\u001b[0m \u001b[0mself\u001b[0m\u001b[0;34m.\u001b[0m\u001b[0m_process_toarray_args\u001b[0m\u001b[0;34m(\u001b[0m\u001b[0morder\u001b[0m\u001b[0;34m,\u001b[0m \u001b[0mout\u001b[0m\u001b[0;34m)\u001b[0m\u001b[0;34m\u001b[0m\u001b[0;34m\u001b[0m\u001b[0m\n\u001b[0m\u001b[1;32m   1025\u001b[0m         \u001b[0;32mif\u001b[0m \u001b[0;32mnot\u001b[0m \u001b[0;34m(\u001b[0m\u001b[0mout\u001b[0m\u001b[0;34m.\u001b[0m\u001b[0mflags\u001b[0m\u001b[0;34m.\u001b[0m\u001b[0mc_contiguous\u001b[0m \u001b[0;32mor\u001b[0m \u001b[0mout\u001b[0m\u001b[0;34m.\u001b[0m\u001b[0mflags\u001b[0m\u001b[0;34m.\u001b[0m\u001b[0mf_contiguous\u001b[0m\u001b[0;34m)\u001b[0m\u001b[0;34m:\u001b[0m\u001b[0;34m\u001b[0m\u001b[0;34m\u001b[0m\u001b[0m\n\u001b[1;32m   1026\u001b[0m             \u001b[0;32mraise\u001b[0m \u001b[0mValueError\u001b[0m\u001b[0;34m(\u001b[0m\u001b[0;34m'Output array must be C or F contiguous'\u001b[0m\u001b[0;34m)\u001b[0m\u001b[0;34m\u001b[0m\u001b[0;34m\u001b[0m\u001b[0m\n",
      "\u001b[0;32m~/.local/lib/python3.6/site-packages/scipy/sparse/base.py\u001b[0m in \u001b[0;36m_process_toarray_args\u001b[0;34m(self, order, out)\u001b[0m\n\u001b[1;32m   1184\u001b[0m             \u001b[0;32mreturn\u001b[0m \u001b[0mout\u001b[0m\u001b[0;34m\u001b[0m\u001b[0;34m\u001b[0m\u001b[0m\n\u001b[1;32m   1185\u001b[0m         \u001b[0;32melse\u001b[0m\u001b[0;34m:\u001b[0m\u001b[0;34m\u001b[0m\u001b[0;34m\u001b[0m\u001b[0m\n\u001b[0;32m-> 1186\u001b[0;31m             \u001b[0;32mreturn\u001b[0m \u001b[0mnp\u001b[0m\u001b[0;34m.\u001b[0m\u001b[0mzeros\u001b[0m\u001b[0;34m(\u001b[0m\u001b[0mself\u001b[0m\u001b[0;34m.\u001b[0m\u001b[0mshape\u001b[0m\u001b[0;34m,\u001b[0m \u001b[0mdtype\u001b[0m\u001b[0;34m=\u001b[0m\u001b[0mself\u001b[0m\u001b[0;34m.\u001b[0m\u001b[0mdtype\u001b[0m\u001b[0;34m,\u001b[0m \u001b[0morder\u001b[0m\u001b[0;34m=\u001b[0m\u001b[0morder\u001b[0m\u001b[0;34m)\u001b[0m\u001b[0;34m\u001b[0m\u001b[0;34m\u001b[0m\u001b[0m\n\u001b[0m\u001b[1;32m   1187\u001b[0m \u001b[0;34m\u001b[0m\u001b[0m\n\u001b[1;32m   1188\u001b[0m \u001b[0;34m\u001b[0m\u001b[0m\n",
      "\u001b[0;31mMemoryError\u001b[0m: Unable to allocate array with shape (8468, 124303) and data type float64"
     ]
    }
   ],
   "source": [
    "X_train, X_test, y_train, y_test = train_test_split(wiki_plots['FormattedPlot'].values, \n",
    "                                                    wiki_plots['Release Year'])\n",
    "\n",
    "stemmer = WordNetLemmatizer()\n",
    "for i in range(len(X_train)):\n",
    "    X_train[i] = [stemmer.lemmatize(word) for word in X_train[i].split(' ')]\n",
    "    X_train[i] = ' '.join(X_train[i])\n",
    "    \n",
    "for i in range(len(X_test)):\n",
    "    X_test[i] = [stemmer.lemmatize(word) for word in X_test[i].split(' ')]\n",
    "    X_test[i] = ' '.join(X_test[i])\n",
    "\n",
    "tfidf = TfidfVectorizer(smooth_idf=False, sublinear_tf=False, stop_words='english')\n",
    "X_train = tfidf.fit_transform(X_train)\n",
    "X_test = tfidf.transform(X_test).toarray()"
   ]
  },
  {
   "cell_type": "code",
   "execution_count": null,
   "metadata": {},
   "outputs": [],
   "source": []
  }
 ],
 "metadata": {
  "kernelspec": {
   "display_name": "Python 3",
   "language": "python",
   "name": "python3"
  },
  "language_info": {
   "codemirror_mode": {
    "name": "ipython",
    "version": 3
   },
   "file_extension": ".py",
   "mimetype": "text/x-python",
   "name": "python",
   "nbconvert_exporter": "python",
   "pygments_lexer": "ipython3",
   "version": "3.6.8"
  }
 },
 "nbformat": 4,
 "nbformat_minor": 2
}
