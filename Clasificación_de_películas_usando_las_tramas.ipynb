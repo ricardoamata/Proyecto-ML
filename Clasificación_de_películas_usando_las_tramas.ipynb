{
  "nbformat": 4,
  "nbformat_minor": 0,
  "metadata": {
    "kernelspec": {
      "display_name": "Python 3",
      "language": "python",
      "name": "python3"
    },
    "language_info": {
      "codemirror_mode": {
        "name": "ipython",
        "version": 3
      },
      "file_extension": ".py",
      "mimetype": "text/x-python",
      "name": "python",
      "nbconvert_exporter": "python",
      "pygments_lexer": "ipython3",
      "version": "3.6.8"
    },
    "colab": {
      "name": "Clasificación de películas usando las tramas.ipynb",
      "provenance": [],
      "collapsed_sections": [],
      "toc_visible": true
    }
  },
  "cells": [
    {
      "cell_type": "markdown",
      "metadata": {
        "id": "XYbZjrfRfGlZ",
        "colab_type": "text"
      },
      "source": [
        "# Clasificación de películas usando las tramas"
      ]
    },
    {
      "cell_type": "markdown",
      "metadata": {
        "id": "go23LF6IfGld",
        "colab_type": "text"
      },
      "source": [
        "## Clasificación de géneros"
      ]
    },
    {
      "cell_type": "code",
      "metadata": {
        "id": "kXFYDCRtfGlf",
        "colab_type": "code",
        "colab": {}
      },
      "source": [
        "import os\n",
        "import random\n",
        "\n",
        "import re\n",
        "import numpy as np\n",
        "import pandas as pd\n",
        "import matplotlib.pyplot as plt\n",
        "\n",
        "from nltk import word_tokenize, sent_tokenize\n",
        "from nltk.stem import WordNetLemmatizer\n",
        "\n",
        "from sklearn.feature_extraction.text import CountVectorizer, TfidfVectorizer\n",
        "from sklearn.model_selection import train_test_split\n",
        "from sklearn.metrics import confusion_matrix, accuracy_score, mean_squared_error\n",
        "from sklearn.svm import LinearSVC\n",
        "from sklearn.multiclass import OneVsRestClassifier\n",
        "from sklearn.linear_model import LinearRegression\n",
        "\n",
        "from IPython.display import HTML, display\n",
        "from tabulate import tabulate\n",
        "\n",
        "plt.style.use('ggplot')"
      ],
      "execution_count": 0,
      "outputs": []
    },
    {
      "cell_type": "code",
      "metadata": {
        "id": "lOcsDQwMfGll",
        "colab_type": "code",
        "colab": {}
      },
      "source": [
        "wiki_plots = pd.read_csv(\"wiki_movie_plots_deduped.csv\")\n",
        "wiki_plots.rename(columns={'Origin/Ethnicity':'Origin'}, inplace=True) # para mayor comodidad\n",
        "wiki_plots = wiki_plots.drop_duplicates(subset='Plot', keep='first')"
      ],
      "execution_count": 0,
      "outputs": []
    },
    {
      "cell_type": "markdown",
      "metadata": {
        "id": "CPMtMkgjfGlq",
        "colab_type": "text"
      },
      "source": [
        "### Reducción de los géneros\n",
        "\n",
        "Se eliminan todos los géneros repetidos y se cambia el formato para multiples géneros a uno donde se escriben los nombres de los géneros separados por un \"|\""
      ]
    },
    {
      "cell_type": "code",
      "metadata": {
        "id": "9R8Vi6_dfGlr",
        "colab_type": "code",
        "colab": {}
      },
      "source": [
        "\"\"\"\n",
        "This code is taken from:https://www.kaggle.com/aminejallouli/genre-classification-based-on-wiki-movies-plots\n",
        "and it's a little bit modified.\n",
        "\"\"\"\n",
        "wiki_plots['GenreCorrected'] =wiki_plots['Genre'] \n",
        "wiki_plots['GenreCorrected']=wiki_plots['GenreCorrected'].str.strip()\n",
        "wiki_plots['GenreCorrected']=wiki_plots['GenreCorrected'].str.replace(' - ', '|')\n",
        "wiki_plots['GenreCorrected']=wiki_plots['GenreCorrected'].str.replace(' / ', '|')\n",
        "wiki_plots['GenreCorrected']=wiki_plots['GenreCorrected'].str.replace('/', '|')\n",
        "wiki_plots['GenreCorrected']=wiki_plots['GenreCorrected'].str.replace(' & ', '|')\n",
        "wiki_plots['GenreCorrected']=wiki_plots['GenreCorrected'].str.replace(', ', '|')\n",
        "wiki_plots['GenreCorrected']=wiki_plots['GenreCorrected'].str.replace('; ', '|')\n",
        "wiki_plots['GenreCorrected']=wiki_plots['GenreCorrected'].str.replace('bio-pic', 'biography')\n",
        "wiki_plots['GenreCorrected']=wiki_plots['GenreCorrected'].str.replace('biopic', 'biography')\n",
        "wiki_plots['GenreCorrected']=wiki_plots['GenreCorrected'].str.replace('biographical', 'biography')\n",
        "wiki_plots['GenreCorrected']=wiki_plots['GenreCorrected'].str.replace('biodrama', 'biography')\n",
        "wiki_plots['GenreCorrected']=wiki_plots['GenreCorrected'].str.replace('bio-drama', 'biography')\n",
        "wiki_plots['GenreCorrected']=wiki_plots['GenreCorrected'].str.replace('biographic', 'biography')\n",
        "wiki_plots['GenreCorrected']=wiki_plots['GenreCorrected'].str.replace(' \\(film genre\\)', '')\n",
        "wiki_plots['GenreCorrected']=wiki_plots['GenreCorrected'].str.replace('animated','animation')\n",
        "wiki_plots['GenreCorrected']=wiki_plots['GenreCorrected'].str.replace('anime','animation')\n",
        "wiki_plots['GenreCorrected']=wiki_plots['GenreCorrected'].str.replace('children\\'s','children')\n",
        "wiki_plots['GenreCorrected']=wiki_plots['GenreCorrected'].str.replace('comedey','comedy')\n",
        "wiki_plots['GenreCorrected']=wiki_plots['GenreCorrected'].str.replace('\\[not in citation given\\]','')\n",
        "wiki_plots['GenreCorrected']=wiki_plots['GenreCorrected'].str.replace(' set 4,000 years ago in the canadian arctic','')\n",
        "wiki_plots['GenreCorrected']=wiki_plots['GenreCorrected'].str.replace('historical','history')\n",
        "wiki_plots['GenreCorrected']=wiki_plots['GenreCorrected'].str.replace('romantic','romance')\n",
        "wiki_plots['GenreCorrected']=wiki_plots['GenreCorrected'].str.replace('3-d','animation')\n",
        "wiki_plots['GenreCorrected']=wiki_plots['GenreCorrected'].str.replace('3d','animation')\n",
        "wiki_plots['GenreCorrected']=wiki_plots['GenreCorrected'].str.replace('viacom 18 motion pictures','')\n",
        "wiki_plots['GenreCorrected']=wiki_plots['GenreCorrected'].str.replace('sci-fi','science_fiction')\n",
        "wiki_plots['GenreCorrected']=wiki_plots['GenreCorrected'].str.replace('ttriller','thriller')\n",
        "wiki_plots['GenreCorrected']=wiki_plots['GenreCorrected'].str.replace('.','')\n",
        "wiki_plots['GenreCorrected']=wiki_plots['GenreCorrected'].str.replace('based on radio serial','')\n",
        "wiki_plots['GenreCorrected']=wiki_plots['GenreCorrected'].str.replace(' on the early years of hitler','')\n",
        "wiki_plots['GenreCorrected']=wiki_plots['GenreCorrected'].str.replace('sci fi','science_fiction')\n",
        "wiki_plots['GenreCorrected']=wiki_plots['GenreCorrected'].str.replace('science fiction','science_fiction')\n",
        "wiki_plots['GenreCorrected']=wiki_plots['GenreCorrected'].str.replace(' (30min)','')\n",
        "wiki_plots['GenreCorrected']=wiki_plots['GenreCorrected'].str.replace('16 mm film','short')\n",
        "wiki_plots['GenreCorrected']=wiki_plots['GenreCorrected'].str.replace('\\[140\\]','drama')\n",
        "wiki_plots['GenreCorrected']=wiki_plots['GenreCorrected'].str.replace('\\[144\\]','')\n",
        "wiki_plots['GenreCorrected']=wiki_plots['GenreCorrected'].str.replace(' for ','')\n",
        "wiki_plots['GenreCorrected']=wiki_plots['GenreCorrected'].str.replace('adventures','adventure')\n",
        "wiki_plots['GenreCorrected']=wiki_plots['GenreCorrected'].str.replace('kung fu','martial_arts')\n",
        "wiki_plots['GenreCorrected']=wiki_plots['GenreCorrected'].str.replace('kung-fu','martial_arts')\n",
        "wiki_plots['GenreCorrected']=wiki_plots['GenreCorrected'].str.replace('martial arts','martial_arts')\n",
        "wiki_plots['GenreCorrected']=wiki_plots['GenreCorrected'].str.replace('world war ii','war')\n",
        "wiki_plots['GenreCorrected']=wiki_plots['GenreCorrected'].str.replace('world war i','war')\n",
        "wiki_plots['GenreCorrected']=wiki_plots['GenreCorrected'].str.replace('biography about montreal canadiens star|maurice richard','biography')\n",
        "wiki_plots['GenreCorrected']=wiki_plots['GenreCorrected'].str.replace('bholenath movies|cinekorn entertainment','')\n",
        "wiki_plots['GenreCorrected']=wiki_plots['GenreCorrected'].str.replace(' \\(volleyball\\)','')\n",
        "wiki_plots['GenreCorrected']=wiki_plots['GenreCorrected'].str.replace('spy film','spy')\n",
        "wiki_plots['GenreCorrected']=wiki_plots['GenreCorrected'].str.replace('anthology film','anthology')\n",
        "wiki_plots['GenreCorrected']=wiki_plots['GenreCorrected'].str.replace('biography fim','biography')\n",
        "wiki_plots['GenreCorrected']=wiki_plots['GenreCorrected'].str.replace('avant-garde','avant_garde')\n",
        "wiki_plots['GenreCorrected']=wiki_plots['GenreCorrected'].str.replace('biker film','biker')\n",
        "wiki_plots['GenreCorrected']=wiki_plots['GenreCorrected'].str.replace('buddy cop','buddy')\n",
        "wiki_plots['GenreCorrected']=wiki_plots['GenreCorrected'].str.replace('buddy film','buddy')\n",
        "wiki_plots['GenreCorrected']=wiki_plots['GenreCorrected'].str.replace('comedy 2-reeler','comedy')\n",
        "wiki_plots['GenreCorrected']=wiki_plots['GenreCorrected'].str.replace('films','')\n",
        "wiki_plots['GenreCorrected']=wiki_plots['GenreCorrected'].str.replace('film','')\n",
        "wiki_plots['GenreCorrected']=wiki_plots['GenreCorrected'].str.replace('biography of pioneering american photographer eadweard muybridge','biography')\n",
        "wiki_plots['GenreCorrected']=wiki_plots['GenreCorrected'].str.replace('british-german co-production','')\n",
        "wiki_plots['GenreCorrected']=wiki_plots['GenreCorrected'].str.replace('bruceploitation','martial_arts')\n",
        "wiki_plots['GenreCorrected']=wiki_plots['GenreCorrected'].str.replace('comedy-drama adaptation of the mordecai richler novel','comedy-drama')\n",
        "wiki_plots['GenreCorrected']=wiki_plots['GenreCorrected'].str.replace('movies by the mob\\|knkspl','')\n",
        "wiki_plots['GenreCorrected']=wiki_plots['GenreCorrected'].str.replace('movies','')\n",
        "wiki_plots['GenreCorrected']=wiki_plots['GenreCorrected'].str.replace('movie','')\n",
        "wiki_plots['GenreCorrected']=wiki_plots['GenreCorrected'].str.replace('coming of age','coming_of_age')\n",
        "wiki_plots['GenreCorrected']=wiki_plots['GenreCorrected'].str.replace('coming-of-age','coming_of_age')\n",
        "wiki_plots['GenreCorrected']=wiki_plots['GenreCorrected'].str.replace('drama about child soldiers','drama')\n",
        "wiki_plots['GenreCorrected']=wiki_plots['GenreCorrected'].str.replace('(( based).+)','')\n",
        "wiki_plots['GenreCorrected']=wiki_plots['GenreCorrected'].str.replace('(( co-produced).+)','')\n",
        "wiki_plots['GenreCorrected']=wiki_plots['GenreCorrected'].str.replace('(( adapted).+)','')\n",
        "wiki_plots['GenreCorrected']=wiki_plots['GenreCorrected'].str.replace('(( about).+)','')\n",
        "wiki_plots['GenreCorrected']=wiki_plots['GenreCorrected'].str.replace('musical b','musical')\n",
        "wiki_plots['GenreCorrected']=wiki_plots['GenreCorrected'].str.replace('animationchildren','animation|children')\n",
        "wiki_plots['GenreCorrected']=wiki_plots['GenreCorrected'].str.replace(' period','period')\n",
        "wiki_plots['GenreCorrected']=wiki_plots['GenreCorrected'].str.replace('drama loosely','drama')\n",
        "wiki_plots['GenreCorrected']=wiki_plots['GenreCorrected'].str.replace(' \\(aquatics|swimming\\)','')\n",
        "wiki_plots['GenreCorrected']=wiki_plots['GenreCorrected'].str.replace(' \\(aquatics|swimming\\)','')\n",
        "wiki_plots['GenreCorrected']=wiki_plots['GenreCorrected'].str.replace(\"yogesh dattatraya gosavi's directorial debut \\[9\\]\",'')\n",
        "wiki_plots['GenreCorrected']=wiki_plots['GenreCorrected'].str.replace(\"war-time\",\"war\")\n",
        "wiki_plots['GenreCorrected']=wiki_plots['GenreCorrected'].str.replace(\"wartime\",\"war\")\n",
        "wiki_plots['GenreCorrected']=wiki_plots['GenreCorrected'].str.replace(\"ww1\",\"war\")\n",
        "wiki_plots['GenreCorrected']=wiki_plots['GenreCorrected'].str.replace('unknown','')\n",
        "wiki_plots['GenreCorrected']=wiki_plots['GenreCorrected'].str.replace(\"wwii\",\"war\")\n",
        "wiki_plots['GenreCorrected']=wiki_plots['GenreCorrected'].str.replace('psychological','psycho')\n",
        "wiki_plots['GenreCorrected']=wiki_plots['GenreCorrected'].str.replace('rom-coms','romance')\n",
        "wiki_plots['GenreCorrected']=wiki_plots['GenreCorrected'].str.replace('true crime','crime')\n",
        "wiki_plots['GenreCorrected']=wiki_plots['GenreCorrected'].str.replace('\\|007','')\n",
        "wiki_plots['GenreCorrected']=wiki_plots['GenreCorrected'].str.replace('slice of life','slice_of_life')\n",
        "wiki_plots['GenreCorrected']=wiki_plots['GenreCorrected'].str.replace('computer animation','animation')\n",
        "wiki_plots['GenreCorrected']=wiki_plots['GenreCorrected'].str.replace('gun fu','martial_arts')\n",
        "wiki_plots['GenreCorrected']=wiki_plots['GenreCorrected'].str.replace('j-horror','horror')\n",
        "wiki_plots['GenreCorrected']=wiki_plots['GenreCorrected'].str.replace(' \\(shogi|chess\\)','')\n",
        "wiki_plots['GenreCorrected']=wiki_plots['GenreCorrected'].str.replace('afghan war drama','war drama')\n",
        "wiki_plots['GenreCorrected']=wiki_plots['GenreCorrected'].str.replace('\\|6 separate stories','')\n",
        "wiki_plots['GenreCorrected']=wiki_plots['GenreCorrected'].str.replace(' \\(30min\\)','')\n",
        "wiki_plots['GenreCorrected']=wiki_plots['GenreCorrected'].str.replace(' (road bicycle racing)','')\n",
        "wiki_plots['GenreCorrected']=wiki_plots['GenreCorrected'].str.replace(' v-cinema','')\n",
        "wiki_plots['GenreCorrected']=wiki_plots['GenreCorrected'].str.replace('tv miniseries','tv_miniseries')\n",
        "wiki_plots['GenreCorrected']=wiki_plots['GenreCorrected'].str.replace('\\|docudrama','\\|documentary|drama')\n",
        "wiki_plots['GenreCorrected']=wiki_plots['GenreCorrected'].str.replace(' in animation','|animation')\n",
        "wiki_plots['GenreCorrected']=wiki_plots['GenreCorrected'].str.replace('((adaptation).+)','')\n",
        "wiki_plots['GenreCorrected']=wiki_plots['GenreCorrected'].str.replace('((adaptated).+)','')\n",
        "wiki_plots['GenreCorrected']=wiki_plots['GenreCorrected'].str.replace('((adapted).+)','')\n",
        "wiki_plots['GenreCorrected']=wiki_plots['GenreCorrected'].str.replace('(( on ).+)','')\n",
        "wiki_plots['GenreCorrected']=wiki_plots['GenreCorrected'].str.replace('american football','sports')\n",
        "wiki_plots['GenreCorrected']=wiki_plots['GenreCorrected'].str.replace('dev\\|nusrat jahan','sports')\n",
        "wiki_plots['GenreCorrected']=wiki_plots['GenreCorrected'].str.replace('television miniseries','tv_miniseries')\n",
        "wiki_plots['GenreCorrected']=wiki_plots['GenreCorrected'].str.replace(' \\(artistic\\)','')\n",
        "wiki_plots['GenreCorrected']=wiki_plots['GenreCorrected'].str.replace(' \\|direct-to-dvd','')\n",
        "wiki_plots['GenreCorrected']=wiki_plots['GenreCorrected'].str.replace('history dram','history drama')\n",
        "wiki_plots['GenreCorrected']=wiki_plots['GenreCorrected'].str.replace('martial art','martial_arts')\n",
        "wiki_plots['GenreCorrected']=wiki_plots['GenreCorrected'].str.replace('psycho thriller,','psycho thriller')\n",
        "wiki_plots['GenreCorrected']=wiki_plots['GenreCorrected'].str.replace('\\|1 girl\\|3 suitors','')\n",
        "wiki_plots['GenreCorrected']=wiki_plots['GenreCorrected'].str.replace(' \\(road bicycle racing\\)','')\n",
        "filterE = wiki_plots['GenreCorrected']==\"ero\"\n",
        "wiki_plots.loc[filterE,'GenreCorrected']=\"adult\"\n",
        "filterE = wiki_plots['GenreCorrected']==\"music\"\n",
        "wiki_plots.loc[filterE,'GenreCorrected']=\"musical\"\n",
        "filterE = wiki_plots['GenreCorrected']==\"-\"\n",
        "wiki_plots.loc[filterE,'GenreCorrected']=''\n",
        "filterE = wiki_plots['GenreCorrected']==\"comedy–drama\"\n",
        "wiki_plots.loc[filterE,'GenreCorrected'] = \"comedy|drama\"\n",
        "filterE = wiki_plots['GenreCorrected']==\"comedy–horror\"\n",
        "wiki_plots.loc[filterE,'GenreCorrected'] = \"comedy|horror\"\n",
        "wiki_plots['GenreCorrected']=wiki_plots['GenreCorrected'].str.replace(' ','|')\n",
        "wiki_plots['GenreCorrected']=wiki_plots['GenreCorrected'].str.replace(',','|')\n",
        "wiki_plots['GenreCorrected']=wiki_plots['GenreCorrected'].str.replace('-','')\n",
        "wiki_plots['GenreCorrected']=wiki_plots['GenreCorrected'].str.replace('actionadventure','action|adventure')\n",
        "wiki_plots['GenreCorrected']=wiki_plots['GenreCorrected'].str.replace('actioncomedy','action|comedy')\n",
        "wiki_plots['GenreCorrected']=wiki_plots['GenreCorrected'].str.replace('actiondrama','action|drama')\n",
        "wiki_plots['GenreCorrected']=wiki_plots['GenreCorrected'].str.replace('actionlove','action|love')\n",
        "wiki_plots['GenreCorrected']=wiki_plots['GenreCorrected'].str.replace('actionmasala','action|masala')\n",
        "wiki_plots['GenreCorrected']=wiki_plots['GenreCorrected'].str.replace('actionchildren','action|children')\n",
        "\n",
        "wiki_plots['GenreCorrected']=wiki_plots['GenreCorrected'].str.replace('fantasychildren\\|','fantasy|children')\n",
        "wiki_plots['GenreCorrected']=wiki_plots['GenreCorrected'].str.replace('fantasycomedy','fantasy|comedy')\n",
        "wiki_plots['GenreCorrected']=wiki_plots['GenreCorrected'].str.replace('fantasyperiod','fantasy|period')\n",
        "wiki_plots['GenreCorrected']=wiki_plots['GenreCorrected'].str.replace('cbctv_miniseries','tv_miniseries')\n",
        "wiki_plots['GenreCorrected']=wiki_plots['GenreCorrected'].str.replace('dramacomedy','drama|comedy')\n",
        "wiki_plots['GenreCorrected']=wiki_plots['GenreCorrected'].str.replace('dramacomedysocial','drama|comedy|social')\n",
        "wiki_plots['GenreCorrected']=wiki_plots['GenreCorrected'].str.replace('dramathriller','drama|thriller')\n",
        "wiki_plots['GenreCorrected']=wiki_plots['GenreCorrected'].str.replace('comedydrama','comedy|drama')\n",
        "wiki_plots['GenreCorrected']=wiki_plots['GenreCorrected'].str.replace('dramathriller','drama|thriller')\n",
        "wiki_plots['GenreCorrected']=wiki_plots['GenreCorrected'].str.replace('comedyhorror','comedy|horror')\n",
        "wiki_plots['GenreCorrected']=wiki_plots['GenreCorrected'].str.replace('sciencefiction','science_fiction')\n",
        "wiki_plots['GenreCorrected']=wiki_plots['GenreCorrected'].str.replace('adventurecomedy','adventure|comedy')\n",
        "wiki_plots['GenreCorrected']=wiki_plots['GenreCorrected'].str.replace('animationdrama','animation|drama')\n",
        "wiki_plots['GenreCorrected']=wiki_plots['GenreCorrected'].str.replace('\\|\\|','|')\n",
        "wiki_plots['GenreCorrected']=wiki_plots['GenreCorrected'].str.replace('muslim','religious')\n",
        "wiki_plots['GenreCorrected']=wiki_plots['GenreCorrected'].str.replace('thriler','thriller')\n",
        "wiki_plots['GenreCorrected']=wiki_plots['GenreCorrected'].str.replace('crimethriller','crime|thriller')\n",
        "wiki_plots['GenreCorrected']=wiki_plots['GenreCorrected'].str.replace('fantay','fantasy')\n",
        "wiki_plots['GenreCorrected']=wiki_plots['GenreCorrected'].str.replace('actionthriller','action|thriller')\n",
        "wiki_plots['GenreCorrected']=wiki_plots['GenreCorrected'].str.replace('comedysocial','comedy|social')\n",
        "wiki_plots['GenreCorrected']=wiki_plots['GenreCorrected'].str.replace('martialarts','martial_arts')\n",
        "wiki_plots['GenreCorrected']=wiki_plots['GenreCorrected'].str.replace('\\|\\(children\\|poker\\|karuta\\)','')\n",
        "wiki_plots['GenreCorrected']=wiki_plots['GenreCorrected'].str.replace('epichistory','epic|history')\n",
        "\n",
        "wiki_plots['GenreCorrected']=wiki_plots['GenreCorrected'].str.replace('erotica','adult')\n",
        "wiki_plots['GenreCorrected']=wiki_plots['GenreCorrected'].str.replace('erotic','adult')\n",
        "\n",
        "wiki_plots['GenreCorrected']=wiki_plots['GenreCorrected'].str.replace('((\\|produced\\|).+)','')\n",
        "wiki_plots['GenreCorrected']=wiki_plots['GenreCorrected'].str.replace('chanbara','chambara')\n",
        "wiki_plots['GenreCorrected']=wiki_plots['GenreCorrected'].str.replace('comedythriller','comedy|thriller')\n",
        "wiki_plots['GenreCorrected']=wiki_plots['GenreCorrected'].str.replace('biblical','religious')\n",
        "wiki_plots['GenreCorrected']=wiki_plots['GenreCorrected'].str.replace('biblical','religious')\n",
        "wiki_plots['GenreCorrected']=wiki_plots['GenreCorrected'].str.replace('colour\\|yellow\\|productions\\|eros\\|international','')\n",
        "wiki_plots['GenreCorrected']=wiki_plots['GenreCorrected'].str.replace('\\|directtodvd','')\n",
        "wiki_plots['GenreCorrected']=wiki_plots['GenreCorrected'].str.replace('liveaction','live|action')\n",
        "wiki_plots['GenreCorrected']=wiki_plots['GenreCorrected'].str.replace('melodrama','drama')\n",
        "wiki_plots['GenreCorrected']=wiki_plots['GenreCorrected'].str.replace('superheroes','superheroe')\n",
        "wiki_plots['GenreCorrected']=wiki_plots['GenreCorrected'].str.replace('gangsterthriller','gangster|thriller')\n",
        "\n",
        "wiki_plots['GenreCorrected']=wiki_plots['GenreCorrected'].str.replace('heistcomedy','comedy')\n",
        "wiki_plots['GenreCorrected']=wiki_plots['GenreCorrected'].str.replace('heist','action')\n",
        "wiki_plots['GenreCorrected']=wiki_plots['GenreCorrected'].str.replace('historic','history')\n",
        "wiki_plots['GenreCorrected']=wiki_plots['GenreCorrected'].str.replace('historydisaster','history|disaster')\n",
        "wiki_plots['GenreCorrected']=wiki_plots['GenreCorrected'].str.replace('warcomedy','war|comedy')\n",
        "wiki_plots['GenreCorrected']=wiki_plots['GenreCorrected'].str.replace('westerncomedy','western|comedy')\n",
        "wiki_plots['GenreCorrected']=wiki_plots['GenreCorrected'].str.replace('ancientcostume','costume')\n",
        "wiki_plots['GenreCorrected']=wiki_plots['GenreCorrected'].str.replace('computeranimation','animation')\n",
        "wiki_plots['GenreCorrected']=wiki_plots['GenreCorrected'].str.replace('dramatic','drama')\n",
        "wiki_plots['GenreCorrected']=wiki_plots['GenreCorrected'].str.replace('familya','family')\n",
        "wiki_plots['GenreCorrected']=wiki_plots['GenreCorrected'].str.replace('familya','family')\n",
        "wiki_plots['GenreCorrected']=wiki_plots['GenreCorrected'].str.replace('dramedy','drama|comedy')\n",
        "wiki_plots['GenreCorrected']=wiki_plots['GenreCorrected'].str.replace('dramaa','drama')\n",
        "wiki_plots['GenreCorrected']=wiki_plots['GenreCorrected'].str.replace('famil\\|','family')\n",
        "\n",
        "wiki_plots['GenreCorrected']=wiki_plots['GenreCorrected'].str.replace('superheroe','superhero')\n",
        "wiki_plots['GenreCorrected']=wiki_plots['GenreCorrected'].str.replace('biogtaphy','biography')\n",
        "wiki_plots['GenreCorrected']=wiki_plots['GenreCorrected'].str.replace('devotionalbiography','devotional|biography')\n",
        "wiki_plots['GenreCorrected']=wiki_plots['GenreCorrected'].str.replace('docufiction','documentary|fiction')\n",
        "\n",
        "wiki_plots['GenreCorrected']=wiki_plots['GenreCorrected'].str.replace('familydrama','family|drama')\n",
        "\n",
        "wiki_plots['GenreCorrected']=wiki_plots['GenreCorrected'].str.replace('espionage','spy')\n",
        "wiki_plots['GenreCorrected']=wiki_plots['GenreCorrected'].str.replace('supeheroes','superhero')\n",
        "wiki_plots['GenreCorrected']=wiki_plots['GenreCorrected'].str.replace('romancefiction','romance|fiction')\n",
        "wiki_plots['GenreCorrected']=wiki_plots['GenreCorrected'].str.replace('horrorthriller','horror|thriller')\n",
        "\n",
        "wiki_plots['GenreCorrected']=wiki_plots['GenreCorrected'].str.replace('suspensethriller','suspense|thriller')\n",
        "wiki_plots['GenreCorrected']=wiki_plots['GenreCorrected'].str.replace('musicaliography','musical|biography')\n",
        "wiki_plots['GenreCorrected']=wiki_plots['GenreCorrected'].str.replace('triller','thriller')\n",
        "\n",
        "wiki_plots['GenreCorrected']=wiki_plots['GenreCorrected'].str.replace('\\|\\(fiction\\)','|fiction')\n",
        "\n",
        "wiki_plots['GenreCorrected']=wiki_plots['GenreCorrected'].str.replace('romanceaction','romance|action')\n",
        "wiki_plots['GenreCorrected']=wiki_plots['GenreCorrected'].str.replace('romancecomedy','romance|comedy')\n",
        "wiki_plots['GenreCorrected']=wiki_plots['GenreCorrected'].str.replace('romancehorror','romance|horror')\n",
        "\n",
        "wiki_plots['GenreCorrected']=wiki_plots['GenreCorrected'].str.replace('romcom','romance|comedy')\n",
        "wiki_plots['GenreCorrected']=wiki_plots['GenreCorrected'].str.replace('rom\\|com','romance|comedy')\n",
        "wiki_plots['GenreCorrected']=wiki_plots['GenreCorrected'].str.replace('satirical','satire')\n",
        "\n",
        "wiki_plots['GenreCorrected']=wiki_plots['GenreCorrected'].str.replace('science_fictionchildren','science_fiction|children')\n",
        "wiki_plots['GenreCorrected']=wiki_plots['GenreCorrected'].str.replace('homosexual','adult')\n",
        "wiki_plots['GenreCorrected']=wiki_plots['GenreCorrected'].str.replace('sexual','adult')\n",
        "\n",
        "wiki_plots['GenreCorrected']=wiki_plots['GenreCorrected'].str.replace('mockumentary','documentary')\n",
        "wiki_plots['GenreCorrected']=wiki_plots['GenreCorrected'].str.replace('periodic','period')\n",
        "wiki_plots['GenreCorrected']=wiki_plots['GenreCorrected'].str.replace('romanctic','romantic')\n",
        "wiki_plots['GenreCorrected']=wiki_plots['GenreCorrected'].str.replace('politics','political')\n",
        "wiki_plots['GenreCorrected']=wiki_plots['GenreCorrected'].str.replace('samurai','martial_arts')\n",
        "wiki_plots['GenreCorrected']=wiki_plots['GenreCorrected'].str.replace('tv_miniseries','series')\n",
        "wiki_plots['GenreCorrected']=wiki_plots['GenreCorrected'].str.replace('serial','series')\n",
        "\n",
        "filterE = wiki_plots['GenreCorrected']==\"musical–comedy\"\n",
        "wiki_plots.loc[filterE,'GenreCorrected'] = \"musical|comedy\"\n",
        "\n",
        "filterE = wiki_plots['GenreCorrected']==\"roman|porno\"\n",
        "wiki_plots.loc[filterE,'GenreCorrected'] = \"adult\"\n",
        "\n",
        "\n",
        "filterE = wiki_plots['GenreCorrected']==\"action—masala\"\n",
        "wiki_plots.loc[filterE,'GenreCorrected'] = \"action|masala\"\n",
        "\n",
        "\n",
        "filterE = wiki_plots['GenreCorrected']==\"horror–thriller\"\n",
        "wiki_plots.loc[filterE,'GenreCorrected'] = \"horror|thriller\"\n",
        "\n",
        "#wiki_plots['GenreCorrected']=wiki_plots['GenreCorrected'].str.replace('family','children')\n",
        "#wiki_plots['GenreCorrected']=wiki_plots['GenreCorrected'].str.replace('martial_arts','action')\n",
        "#wiki_plots['GenreCorrected']=wiki_plots['GenreCorrected'].str.replace('horror','thriller')\n",
        "#wiki_plots['GenreCorrected']=wiki_plots['GenreCorrected'].str.replace('war','action')\n",
        "#wiki_plots['GenreCorrected']=wiki_plots['GenreCorrected'].str.replace('adventure','action')\n",
        "#wiki_plots['GenreCorrected']=wiki_plots['GenreCorrected'].str.replace('science_fiction','action')\n",
        "#wiki_plots['GenreCorrected']=wiki_plots['GenreCorrected'].str.replace('western','action')\n",
        "wiki_plots['GenreCorrected']=wiki_plots['GenreCorrected'].str.replace('noir','black')\n",
        "wiki_plots['GenreCorrected']=wiki_plots['GenreCorrected'].str.replace('spy','action')\n",
        "wiki_plots['GenreCorrected']=wiki_plots['GenreCorrected'].str.replace('superhero','action')\n",
        "wiki_plots['GenreCorrected']=wiki_plots['GenreCorrected'].str.replace('social','')\n",
        "wiki_plots['GenreCorrected']=wiki_plots['GenreCorrected'].str.replace('suspense','thriller')\n",
        "\n",
        "\n",
        "filterE = wiki_plots['GenreCorrected']==\"drama|romance|adult|children\"\n",
        "wiki_plots.loc[filterE,'GenreCorrected'] = \"drama|romance|adult\"\n",
        "\n",
        "wiki_plots['GenreCorrected']=wiki_plots['GenreCorrected'].str.replace('\\|–\\|','|')\n",
        "wiki_plots['GenreCorrected']=wiki_plots['GenreCorrected'].str.strip(to_strip='\\|')\n",
        "wiki_plots['GenreCorrected']=wiki_plots['GenreCorrected'].str.replace('actionner','action')\n",
        "wiki_plots['GenreCorrected']=wiki_plots['GenreCorrected'].str.strip()\n",
        "\n",
        "def merge_similar(gn):\n",
        "    gn_list = gn.split('|')\n",
        "    gn_list = sorted(list(set(gn_list)))\n",
        "    return '|'.join(gn_list)\n",
        "\n",
        "wiki_plots['GenreCorrected']=wiki_plots['GenreCorrected'].apply(merge_similar)\n",
        "#wiki_plots['GenreCorrected']=wiki_plots['GenreCorrected'].str.replace('^$','unknown')"
      ],
      "execution_count": 0,
      "outputs": []
    },
    {
      "cell_type": "code",
      "metadata": {
        "id": "CSsfEyz1fGlw",
        "colab_type": "code",
        "colab": {}
      },
      "source": [
        "wiki_plots['GenreSplit'] = wiki_plots['GenreCorrected'].str.split('|')\n",
        "wiki_plots['GenreSplit'] = wiki_plots['GenreSplit'].apply(np.array)"
      ],
      "execution_count": 0,
      "outputs": []
    },
    {
      "cell_type": "markdown",
      "metadata": {
        "id": "VC2zSIk6fGl1",
        "colab_type": "text"
      },
      "source": [
        "Eliminamos los generos que sean poco frecuentes, solo conservamos los 20 que mas ocurrencias tengan"
      ]
    },
    {
      "cell_type": "code",
      "metadata": {
        "id": "o2v_D4N7fGl3",
        "colab_type": "code",
        "outputId": "02d5b645-533a-4343-98ee-fa29a35b5da0",
        "colab": {
          "base_uri": "https://localhost:8080/",
          "height": 107
        }
      },
      "source": [
        "genres = [genre for sublist in wiki_plots['GenreSplit'].values for genre in sublist]\n",
        "genres = pd.DataFrame({'Counts':genres})['Counts'].value_counts().to_frame().reset_index().rename(columns={'index':'Genre'})\n",
        "genres = genres[genres['Genre'] != ''].head(23)\n",
        "genres = np.array(genres['Genre'])\n",
        "genres"
      ],
      "execution_count": 5,
      "outputs": [
        {
          "output_type": "execute_result",
          "data": {
            "text/plain": [
              "array(['drama', 'comedy', 'romance', 'action', 'thriller', 'crime',\n",
              "       'horror', 'western', 'musical', 'science_fiction', 'animation',\n",
              "       'adventure', 'family', 'war', 'fantasy', 'mystery', 'biography',\n",
              "       'black', 'history', 'short', 'martial_arts', 'documentary',\n",
              "       'sports'], dtype=object)"
            ]
          },
          "metadata": {
            "tags": []
          },
          "execution_count": 5
        }
      ]
    },
    {
      "cell_type": "code",
      "metadata": {
        "id": "xKcqQvXkfGl9",
        "colab_type": "code",
        "colab": {}
      },
      "source": [
        "wiki_plots['GenreSplit'] = wiki_plots['GenreSplit'].apply(lambda x: x[np.in1d(x, genres)])\n",
        "wiki_plots['GenreCorrected'] = wiki_plots['GenreSplit'].apply(lambda x: '|'.join(x))"
      ],
      "execution_count": 0,
      "outputs": []
    },
    {
      "cell_type": "markdown",
      "metadata": {
        "id": "_5LenATNfGmC",
        "colab_type": "text"
      },
      "source": [
        "Obtenemos los vectores de salida de una manera parecida al one hot encoding pero teniendo multiples unos en\n",
        "cada vector"
      ]
    },
    {
      "cell_type": "code",
      "metadata": {
        "id": "Q57XFCLGfGmE",
        "colab_type": "code",
        "outputId": "d2c364f6-c14c-4d40-c75a-ff024f276a56",
        "colab": {
          "base_uri": "https://localhost:8080/",
          "height": 35
        }
      },
      "source": [
        "dummy_clases = wiki_plots.query('GenreCorrected != \"\"')['GenreSplit'].apply(lambda x: '|'.join(x)).str.get_dummies()\n",
        "dummy_clases['drama'].values"
      ],
      "execution_count": 7,
      "outputs": [
        {
          "output_type": "execute_result",
          "data": {
            "text/plain": [
              "array([0, 0, 0, ..., 0, 0, 0])"
            ]
          },
          "metadata": {
            "tags": []
          },
          "execution_count": 7
        }
      ]
    },
    {
      "cell_type": "markdown",
      "metadata": {
        "id": "-aUMa9nGfGmJ",
        "colab_type": "text"
      },
      "source": [
        "### Limpieza de las tramas\n",
        "\n",
        "Ahora definimos una función para limpiar los textos de las tramas, primero se reemplazan todas las contracciones\n",
        "en ingles por la forma completa y se eliminan los simbolos raros"
      ]
    },
    {
      "cell_type": "code",
      "metadata": {
        "id": "g-jWWU27fGmK",
        "colab_type": "code",
        "colab": {}
      },
      "source": [
        "def clean_text(text):\n",
        "    \"\"\"\n",
        "    This function is taken from:\n",
        "    https://www.kaggle.com/aminejallouli/genre-classification-based-on-wiki-movies-plots\n",
        "    \"\"\"\n",
        "    text = text.lower()\n",
        "    text = re.sub(r\"what's\", \"what is \", text)\n",
        "    text = re.sub(r\"\\'s\", \"\", text)\n",
        "    text = re.sub(r\"\\'ve\", \" have \", text)\n",
        "    text = re.sub(r\"can't\", \"can not \", text)\n",
        "    text = re.sub(r\"n't\", \" not \", text)\n",
        "    text = re.sub(r\"i'm\", \"i am \", text)\n",
        "    text = re.sub(r\"\\'re\", \" are \", text)\n",
        "    text = re.sub(r\"\\'d\", \" would \", text)\n",
        "    text = re.sub(r\"\\'ll\", \" will \", text)\n",
        "    text = re.sub(r\"\\'scuse\", \" excuse \", text)\n",
        "    text = re.sub(r\"\\[\\d+\\]\", \"\", text)\n",
        "    text = re.sub('[%s\\d]' % re.escape(\"\"\"!\"#$%&'()*+,-.:;<=>?@[\\]^`{|}~\"\"\"), \"\", text)\n",
        "    text = re.sub(r\"[-\\n]\", \" \", text)\n",
        "    text = text.strip(' ')\n",
        "    return text"
      ],
      "execution_count": 0,
      "outputs": []
    },
    {
      "cell_type": "code",
      "metadata": {
        "id": "uk-JdT0VfGmQ",
        "colab_type": "code",
        "colab": {}
      },
      "source": [
        "wiki_plots['FormattedPlot'] = wiki_plots['Plot'].apply(clean_text)"
      ],
      "execution_count": 0,
      "outputs": []
    },
    {
      "cell_type": "markdown",
      "metadata": {
        "id": "4VO0ho-PfGmY",
        "colab_type": "text"
      },
      "source": [
        "### Codificacion de los textos\n",
        "\n",
        "Primero se divide el dataset en training y test en un 80/20, luego se tokenizan los textos y se lematizan\n",
        "despues se usa una codificación de tfidf para poder usar los datos en un algoritmo de aprendizaje"
      ]
    },
    {
      "cell_type": "code",
      "metadata": {
        "id": "CU-70Pn3fGma",
        "colab_type": "code",
        "colab": {}
      },
      "source": [
        "data = wiki_plots.query('GenreCorrected != \"\"').reset_index()\n",
        "\n",
        "X_train, X_test, y_train, y_test = train_test_split(data[['Title','FormattedPlot']].values, \n",
        "                                                    dummy_clases)\n",
        "\n",
        "stemmer = WordNetLemmatizer()\n",
        "for i in range(len(X_train)):\n",
        "    X_train[i][1] = [stemmer.lemmatize(word) for word in X_train[i][1].split(' ')]\n",
        "    X_train[i][1] = ' '.join(X_train[i][1])\n",
        "    \n",
        "for i in range(len(X_test)):\n",
        "    X_test[i][1] = [stemmer.lemmatize(word) for word in X_test[i][1].split(' ')]\n",
        "    X_test[i][1] = ' '.join(X_test[i][1])\n",
        "\n",
        "tfidf = TfidfVectorizer(smooth_idf=False, sublinear_tf=False, stop_words='english')\n",
        "X_train_vectorized = tfidf.fit_transform(X_train[:,1])\n",
        "X_test_vectorized = tfidf.transform(X_test[:,1]).toarray()"
      ],
      "execution_count": 0,
      "outputs": []
    },
    {
      "cell_type": "markdown",
      "metadata": {
        "id": "Z6Lh6NtDfGmg",
        "colab_type": "text"
      },
      "source": [
        "### Definición de los clasificadores\n",
        "\n",
        "Tenemos multiples posibles valores en la salida, en otras palabras una pélicula puede pertenecer a varios \n",
        "generos, por lo que no vamos a entrenar una softmax que solo prediga una clase, si no que que vamos a \n",
        "hacer un one vs rest para cada clase, de modo que para cada genero vamos a calcular la probabilidad de \n",
        "que una pélicula pertenesca a este, teniendo asi un clasificador para cada clase.\n",
        "\n",
        "Se usaran SVM lineales por que son buenos clasificando textos y generalizando"
      ]
    },
    {
      "cell_type": "code",
      "metadata": {
        "id": "7QG7bD4IfGmi",
        "colab_type": "code",
        "colab": {}
      },
      "source": [
        "def train_clasifiers(x, y, clases):\n",
        "    clasifiers = []\n",
        "    for c in clases:\n",
        "        clf = OneVsRestClassifier(LinearSVC(random_state=0, max_iter=25000))\n",
        "        clf.fit(x, y[c].values)\n",
        "        clasifiers.append(clf)\n",
        "    return clasifiers\n",
        "\n",
        "def predict_genres(clasifiers, x, clases):\n",
        "    pred_clases = []\n",
        "    for i, clf in enumerate(clasifiers):\n",
        "        if clf.predict([x])[0] == 1:\n",
        "            pred_clases.append(clases[i])\n",
        "    return pred_clases\n",
        "\n",
        "def predict_vector(clasifiers, x):\n",
        "    pred = np.zeros((len(clasifiers)))\n",
        "    for i, c in enumerate(clasifiers):\n",
        "        pred[i] = c.predict([x])[0]\n",
        "    return pred\n",
        "\n",
        "def evaluate_models(clasifiers, X_test, y_test, clases):\n",
        "    score = np.zeros((len(clases)))\n",
        "    for i, c in enumerate(clases):\n",
        "        score[i] = accuracy_score(clasifiers[i].predict(X_test), y_test[c].values)\n",
        "    return score\n",
        "\n",
        "def evalueate_model_strict(clasifiers, X_test, y_test):\n",
        "    acc = 0\n",
        "    for x, y in zip(X_test, y_test):\n",
        "        pred_vec =  predict_vector(clasifiers, x)\n",
        "        if np.array_equal(pred_vec, y):\n",
        "            acc += 1\n",
        "    return acc/len(X_test)"
      ],
      "execution_count": 0,
      "outputs": []
    },
    {
      "cell_type": "code",
      "metadata": {
        "id": "RiXWijbkfGmm",
        "colab_type": "code",
        "colab": {}
      },
      "source": [
        "clasifiers = train_clasifiers(X_train_vectorized, y_train, genres)"
      ],
      "execution_count": 0,
      "outputs": []
    },
    {
      "cell_type": "markdown",
      "metadata": {
        "id": "EaoySRoyfGmr",
        "colab_type": "text"
      },
      "source": [
        "Hacemos una pequeña prueba con algunas pélicula"
      ]
    },
    {
      "cell_type": "code",
      "metadata": {
        "id": "apyovWfVfGmt",
        "colab_type": "code",
        "outputId": "1059c19b-002c-484e-bafb-6a2b1df42363",
        "colab": {
          "base_uri": "https://localhost:8080/",
          "height": 842
        }
      },
      "source": [
        "print(\"Algunas péliculas predichas:\")\n",
        "table_names = [\"Pélicula\", \"Predicción\", \"Real\"]\n",
        "table = []\n",
        "for i in random.choices(list(range(0,1000)), k=25):\n",
        "    row = [X_test[i][0]]\n",
        "    row.append('|'.join(predict_genres(clasifiers, X_test_vectorized[i], genres)))\n",
        "    row.append( data.loc[i, 'GenreCorrected'])\n",
        "    table.append(row)\n",
        "display_table = pd.DataFrame(table, columns=table_names)\n",
        "display_table"
      ],
      "execution_count": 23,
      "outputs": [
        {
          "output_type": "stream",
          "text": [
            "Algunas péliculas predichas:\n"
          ],
          "name": "stdout"
        },
        {
          "output_type": "execute_result",
          "data": {
            "text/html": [
              "<div>\n",
              "<style scoped>\n",
              "    .dataframe tbody tr th:only-of-type {\n",
              "        vertical-align: middle;\n",
              "    }\n",
              "\n",
              "    .dataframe tbody tr th {\n",
              "        vertical-align: top;\n",
              "    }\n",
              "\n",
              "    .dataframe thead th {\n",
              "        text-align: right;\n",
              "    }\n",
              "</style>\n",
              "<table border=\"1\" class=\"dataframe\">\n",
              "  <thead>\n",
              "    <tr style=\"text-align: right;\">\n",
              "      <th></th>\n",
              "      <th>Pélicula</th>\n",
              "      <th>Predicción</th>\n",
              "      <th>Real</th>\n",
              "    </tr>\n",
              "  </thead>\n",
              "  <tbody>\n",
              "    <tr>\n",
              "      <th>0</th>\n",
              "      <td>Kitty Kornered</td>\n",
              "      <td>animation</td>\n",
              "      <td>comedy</td>\n",
              "    </tr>\n",
              "    <tr>\n",
              "      <th>1</th>\n",
              "      <td>Head in the Clouds</td>\n",
              "      <td>thriller</td>\n",
              "      <td>drama</td>\n",
              "    </tr>\n",
              "    <tr>\n",
              "      <th>2</th>\n",
              "      <td>Brown Sugar</td>\n",
              "      <td></td>\n",
              "      <td>comedy</td>\n",
              "    </tr>\n",
              "    <tr>\n",
              "      <th>3</th>\n",
              "      <td>Delavine Affair</td>\n",
              "      <td>crime</td>\n",
              "      <td>comedy|romance</td>\n",
              "    </tr>\n",
              "    <tr>\n",
              "      <th>4</th>\n",
              "      <td>Red Salute</td>\n",
              "      <td>comedy</td>\n",
              "      <td>comedy</td>\n",
              "    </tr>\n",
              "    <tr>\n",
              "      <th>5</th>\n",
              "      <td>Take the Lead</td>\n",
              "      <td>drama</td>\n",
              "      <td>drama</td>\n",
              "    </tr>\n",
              "    <tr>\n",
              "      <th>6</th>\n",
              "      <td>Thalapathi</td>\n",
              "      <td></td>\n",
              "      <td>drama</td>\n",
              "    </tr>\n",
              "    <tr>\n",
              "      <th>7</th>\n",
              "      <td>Vertigo</td>\n",
              "      <td>drama</td>\n",
              "      <td>comedy</td>\n",
              "    </tr>\n",
              "    <tr>\n",
              "      <th>8</th>\n",
              "      <td>Hochchheta ki</td>\n",
              "      <td></td>\n",
              "      <td>crime</td>\n",
              "    </tr>\n",
              "    <tr>\n",
              "      <th>9</th>\n",
              "      <td>Guns of Darkness</td>\n",
              "      <td></td>\n",
              "      <td>horror</td>\n",
              "    </tr>\n",
              "    <tr>\n",
              "      <th>10</th>\n",
              "      <td>Cat Napping</td>\n",
              "      <td>animation</td>\n",
              "      <td>drama</td>\n",
              "    </tr>\n",
              "    <tr>\n",
              "      <th>11</th>\n",
              "      <td>Girl with a Pearl Earring</td>\n",
              "      <td>drama</td>\n",
              "      <td>comedy</td>\n",
              "    </tr>\n",
              "    <tr>\n",
              "      <th>12</th>\n",
              "      <td>Ratatouille</td>\n",
              "      <td></td>\n",
              "      <td>drama</td>\n",
              "    </tr>\n",
              "    <tr>\n",
              "      <th>13</th>\n",
              "      <td>Bareilly Ki Barfi</td>\n",
              "      <td>romance</td>\n",
              "      <td>drama</td>\n",
              "    </tr>\n",
              "    <tr>\n",
              "      <th>14</th>\n",
              "      <td>Fullmetal Alchemist the Movie: Conqueror of Sh...</td>\n",
              "      <td>fantasy</td>\n",
              "      <td>drama</td>\n",
              "    </tr>\n",
              "    <tr>\n",
              "      <th>15</th>\n",
              "      <td>Aakrosh</td>\n",
              "      <td></td>\n",
              "      <td>drama</td>\n",
              "    </tr>\n",
              "    <tr>\n",
              "      <th>16</th>\n",
              "      <td>A World Apart</td>\n",
              "      <td>drama</td>\n",
              "      <td>comedy|crime</td>\n",
              "    </tr>\n",
              "    <tr>\n",
              "      <th>17</th>\n",
              "      <td>Child 44</td>\n",
              "      <td>crime</td>\n",
              "      <td>musical</td>\n",
              "    </tr>\n",
              "    <tr>\n",
              "      <th>18</th>\n",
              "      <td>Steins;Gate: Fuka Ryōiki no Déjà vu</td>\n",
              "      <td>science_fiction</td>\n",
              "      <td>drama</td>\n",
              "    </tr>\n",
              "    <tr>\n",
              "      <th>19</th>\n",
              "      <td>The Gift of Love</td>\n",
              "      <td>drama</td>\n",
              "      <td>drama|war</td>\n",
              "    </tr>\n",
              "    <tr>\n",
              "      <th>20</th>\n",
              "      <td>Maria's Lovers</td>\n",
              "      <td></td>\n",
              "      <td>adventure</td>\n",
              "    </tr>\n",
              "    <tr>\n",
              "      <th>21</th>\n",
              "      <td>Beeba Boys</td>\n",
              "      <td></td>\n",
              "      <td>musical</td>\n",
              "    </tr>\n",
              "    <tr>\n",
              "      <th>22</th>\n",
              "      <td>Alik Sukh</td>\n",
              "      <td>drama</td>\n",
              "      <td>drama</td>\n",
              "    </tr>\n",
              "    <tr>\n",
              "      <th>23</th>\n",
              "      <td>The Mysterious Mr. Valentine</td>\n",
              "      <td>drama|crime</td>\n",
              "      <td>drama</td>\n",
              "    </tr>\n",
              "    <tr>\n",
              "      <th>24</th>\n",
              "      <td>Verboten!</td>\n",
              "      <td></td>\n",
              "      <td>comedy</td>\n",
              "    </tr>\n",
              "  </tbody>\n",
              "</table>\n",
              "</div>"
            ],
            "text/plain": [
              "                                             Pélicula  ...            Real\n",
              "0                                      Kitty Kornered  ...          comedy\n",
              "1                                  Head in the Clouds  ...           drama\n",
              "2                                         Brown Sugar  ...          comedy\n",
              "3                                     Delavine Affair  ...  comedy|romance\n",
              "4                                          Red Salute  ...          comedy\n",
              "5                                       Take the Lead  ...           drama\n",
              "6                                          Thalapathi  ...           drama\n",
              "7                                             Vertigo  ...          comedy\n",
              "8                                       Hochchheta ki  ...           crime\n",
              "9                                    Guns of Darkness  ...          horror\n",
              "10                                        Cat Napping  ...           drama\n",
              "11                          Girl with a Pearl Earring  ...          comedy\n",
              "12                                        Ratatouille  ...           drama\n",
              "13                                  Bareilly Ki Barfi  ...           drama\n",
              "14  Fullmetal Alchemist the Movie: Conqueror of Sh...  ...           drama\n",
              "15                                            Aakrosh  ...           drama\n",
              "16                                      A World Apart  ...    comedy|crime\n",
              "17                                           Child 44  ...         musical\n",
              "18                Steins;Gate: Fuka Ryōiki no Déjà vu  ...           drama\n",
              "19                                   The Gift of Love  ...       drama|war\n",
              "20                                     Maria's Lovers  ...       adventure\n",
              "21                                         Beeba Boys  ...         musical\n",
              "22                                          Alik Sukh  ...           drama\n",
              "23                       The Mysterious Mr. Valentine  ...           drama\n",
              "24                                          Verboten!  ...          comedy\n",
              "\n",
              "[25 rows x 3 columns]"
            ]
          },
          "metadata": {
            "tags": []
          },
          "execution_count": 23
        }
      ]
    },
    {
      "cell_type": "markdown",
      "metadata": {
        "id": "tsvUGfikfGmx",
        "colab_type": "text"
      },
      "source": [
        "Calculamos la precisón en el test set"
      ]
    },
    {
      "cell_type": "code",
      "metadata": {
        "scrolled": false,
        "id": "rzUPg0iRfGmz",
        "colab_type": "code",
        "outputId": "6a9505a6-874b-4215-b9fa-ac7d524cec52",
        "colab": {
          "base_uri": "https://localhost:8080/",
          "height": 762
        }
      },
      "source": [
        "acc = evaluate_models(clasifiers, X_test_vectorized, y_test, genres)\n",
        "acc_table = pd.DataFrame(list(zip(genres, acc)), columns=['Género', 'Precisión'])\n",
        "acc_table"
      ],
      "execution_count": 22,
      "outputs": [
        {
          "output_type": "execute_result",
          "data": {
            "text/html": [
              "<div>\n",
              "<style scoped>\n",
              "    .dataframe tbody tr th:only-of-type {\n",
              "        vertical-align: middle;\n",
              "    }\n",
              "\n",
              "    .dataframe tbody tr th {\n",
              "        vertical-align: top;\n",
              "    }\n",
              "\n",
              "    .dataframe thead th {\n",
              "        text-align: right;\n",
              "    }\n",
              "</style>\n",
              "<table border=\"1\" class=\"dataframe\">\n",
              "  <thead>\n",
              "    <tr style=\"text-align: right;\">\n",
              "      <th></th>\n",
              "      <th>Género</th>\n",
              "      <th>Precisión</th>\n",
              "    </tr>\n",
              "  </thead>\n",
              "  <tbody>\n",
              "    <tr>\n",
              "      <th>0</th>\n",
              "      <td>drama</td>\n",
              "      <td>0.719324</td>\n",
              "    </tr>\n",
              "    <tr>\n",
              "      <th>1</th>\n",
              "      <td>comedy</td>\n",
              "      <td>0.796415</td>\n",
              "    </tr>\n",
              "    <tr>\n",
              "      <th>2</th>\n",
              "      <td>romance</td>\n",
              "      <td>0.912416</td>\n",
              "    </tr>\n",
              "    <tr>\n",
              "      <th>3</th>\n",
              "      <td>action</td>\n",
              "      <td>0.923055</td>\n",
              "    </tr>\n",
              "    <tr>\n",
              "      <th>4</th>\n",
              "      <td>thriller</td>\n",
              "      <td>0.929612</td>\n",
              "    </tr>\n",
              "    <tr>\n",
              "      <th>5</th>\n",
              "      <td>crime</td>\n",
              "      <td>0.939959</td>\n",
              "    </tr>\n",
              "    <tr>\n",
              "      <th>6</th>\n",
              "      <td>horror</td>\n",
              "      <td>0.960799</td>\n",
              "    </tr>\n",
              "    <tr>\n",
              "      <th>7</th>\n",
              "      <td>western</td>\n",
              "      <td>0.984844</td>\n",
              "    </tr>\n",
              "    <tr>\n",
              "      <th>8</th>\n",
              "      <td>musical</td>\n",
              "      <td>0.966045</td>\n",
              "    </tr>\n",
              "    <tr>\n",
              "      <th>9</th>\n",
              "      <td>science_fiction</td>\n",
              "      <td>0.976537</td>\n",
              "    </tr>\n",
              "    <tr>\n",
              "      <th>10</th>\n",
              "      <td>animation</td>\n",
              "      <td>0.978723</td>\n",
              "    </tr>\n",
              "    <tr>\n",
              "      <th>11</th>\n",
              "      <td>adventure</td>\n",
              "      <td>0.971728</td>\n",
              "    </tr>\n",
              "    <tr>\n",
              "      <th>12</th>\n",
              "      <td>family</td>\n",
              "      <td>0.977703</td>\n",
              "    </tr>\n",
              "    <tr>\n",
              "      <th>13</th>\n",
              "      <td>war</td>\n",
              "      <td>0.981638</td>\n",
              "    </tr>\n",
              "    <tr>\n",
              "      <th>14</th>\n",
              "      <td>fantasy</td>\n",
              "      <td>0.982804</td>\n",
              "    </tr>\n",
              "    <tr>\n",
              "      <th>15</th>\n",
              "      <td>mystery</td>\n",
              "      <td>0.985281</td>\n",
              "    </tr>\n",
              "    <tr>\n",
              "      <th>16</th>\n",
              "      <td>biography</td>\n",
              "      <td>0.982221</td>\n",
              "    </tr>\n",
              "    <tr>\n",
              "      <th>17</th>\n",
              "      <td>black</td>\n",
              "      <td>0.986010</td>\n",
              "    </tr>\n",
              "    <tr>\n",
              "      <th>18</th>\n",
              "      <td>history</td>\n",
              "      <td>0.991110</td>\n",
              "    </tr>\n",
              "    <tr>\n",
              "      <th>19</th>\n",
              "      <td>short</td>\n",
              "      <td>0.991256</td>\n",
              "    </tr>\n",
              "    <tr>\n",
              "      <th>20</th>\n",
              "      <td>martial_arts</td>\n",
              "      <td>0.995337</td>\n",
              "    </tr>\n",
              "    <tr>\n",
              "      <th>21</th>\n",
              "      <td>documentary</td>\n",
              "      <td>0.994171</td>\n",
              "    </tr>\n",
              "    <tr>\n",
              "      <th>22</th>\n",
              "      <td>sports</td>\n",
              "      <td>0.995191</td>\n",
              "    </tr>\n",
              "  </tbody>\n",
              "</table>\n",
              "</div>"
            ],
            "text/plain": [
              "             Género  Precisión\n",
              "0             drama   0.719324\n",
              "1            comedy   0.796415\n",
              "2           romance   0.912416\n",
              "3            action   0.923055\n",
              "4          thriller   0.929612\n",
              "5             crime   0.939959\n",
              "6            horror   0.960799\n",
              "7           western   0.984844\n",
              "8           musical   0.966045\n",
              "9   science_fiction   0.976537\n",
              "10        animation   0.978723\n",
              "11        adventure   0.971728\n",
              "12           family   0.977703\n",
              "13              war   0.981638\n",
              "14          fantasy   0.982804\n",
              "15          mystery   0.985281\n",
              "16        biography   0.982221\n",
              "17            black   0.986010\n",
              "18          history   0.991110\n",
              "19            short   0.991256\n",
              "20     martial_arts   0.995337\n",
              "21      documentary   0.994171\n",
              "22           sports   0.995191"
            ]
          },
          "metadata": {
            "tags": []
          },
          "execution_count": 22
        }
      ]
    },
    {
      "cell_type": "markdown",
      "metadata": {
        "id": "mEqsPJ1ipex3",
        "colab_type": "text"
      },
      "source": [
        "Precisión media"
      ]
    },
    {
      "cell_type": "code",
      "metadata": {
        "id": "rRYlFyBmpdt6",
        "colab_type": "code",
        "outputId": "9227e581-612b-4419-e3f9-9a3ee6969efd",
        "colab": {
          "base_uri": "https://localhost:8080/",
          "height": 35
        }
      },
      "source": [
        "print(np.mean(acc))"
      ],
      "execution_count": 15,
      "outputs": [
        {
          "output_type": "stream",
          "text": [
            "0.9528594781594922\n"
          ],
          "name": "stdout"
        }
      ]
    },
    {
      "cell_type": "markdown",
      "metadata": {
        "id": "NjP2QlAQy5Hy",
        "colab_type": "text"
      },
      "source": [
        "Calculamos la precisión de que prediga exactamente todos los géneros de una pelicula"
      ]
    },
    {
      "cell_type": "code",
      "metadata": {
        "id": "GMCc_4hA1pmY",
        "colab_type": "code",
        "colab": {
          "base_uri": "https://localhost:8080/",
          "height": 35
        },
        "outputId": "4dea78b6-e89b-49f3-ee56-da9cdae6b088"
      },
      "source": [
        "print(evalueate_model_strict(clasifiers, X_test_vectorized, y_test.values))"
      ],
      "execution_count": 35,
      "outputs": [
        {
          "output_type": "stream",
          "text": [
            "0.00816088603905567\n"
          ],
          "name": "stdout"
        }
      ]
    },
    {
      "cell_type": "markdown",
      "metadata": {
        "id": "0-xBHr3BfGm3",
        "colab_type": "text"
      },
      "source": [
        "## Regresión lineal para predecir el año de salida de una pélicula\n",
        "\n",
        "Primero preparamos los datos"
      ]
    },
    {
      "cell_type": "code",
      "metadata": {
        "id": "23FBVhFBfGm5",
        "colab_type": "code",
        "colab": {}
      },
      "source": [
        "X_train, X_test, y_train, y_test = train_test_split(wiki_plots[['Title','FormattedPlot']].values, \n",
        "                                                    wiki_plots['Release Year'].values)\n",
        "\n",
        "stemmer = WordNetLemmatizer()\n",
        "for i in range(len(X_train)):\n",
        "    X_train[i][1] = [stemmer.lemmatize(word) for word in X_train[i][1].split(' ')]\n",
        "    X_train[i][1] = ' '.join(X_train[i][1])\n",
        "    \n",
        "for i in range(len(X_test)):\n",
        "    X_test[i][1] = [stemmer.lemmatize(word) for word in X_test[i][1].split(' ')]\n",
        "    X_test[i][1] = ' '.join(X_test[i][1])\n",
        "\n",
        "tfidf = TfidfVectorizer(smooth_idf=False, sublinear_tf=False, stop_words='english')\n",
        "X_train_vectorized = tfidf.fit_transform(X_train[:,1])\n",
        "X_test_vectorized = tfidf.transform(X_test[:,1]).toarray()"
      ],
      "execution_count": 0,
      "outputs": []
    },
    {
      "cell_type": "markdown",
      "metadata": {
        "id": "7k9yLXgkjJ7X",
        "colab_type": "text"
      },
      "source": [
        "Entrenando el modelo"
      ]
    },
    {
      "cell_type": "code",
      "metadata": {
        "id": "L5JA0h8VfGm-",
        "colab_type": "code",
        "outputId": "a6d518fd-6204-4858-fdd1-01ba7622f2fa",
        "colab": {
          "base_uri": "https://localhost:8080/",
          "height": 35
        }
      },
      "source": [
        "model = LinearRegression()\n",
        "model.fit(X_train_vectorized, y_train)"
      ],
      "execution_count": 11,
      "outputs": [
        {
          "output_type": "execute_result",
          "data": {
            "text/plain": [
              "LinearRegression(copy_X=True, fit_intercept=True, n_jobs=None, normalize=False)"
            ]
          },
          "metadata": {
            "tags": []
          },
          "execution_count": 11
        }
      ]
    },
    {
      "cell_type": "markdown",
      "metadata": {
        "id": "5O4jNJPcj6Kq",
        "colab_type": "text"
      },
      "source": [
        "Haciendo algunas predicciones"
      ]
    },
    {
      "cell_type": "code",
      "metadata": {
        "id": "OtvCagDuj8zS",
        "colab_type": "code",
        "outputId": "2e81064e-9884-436a-a50a-de591fda6768",
        "colab": {
          "base_uri": "https://localhost:8080/",
          "height": 532
        }
      },
      "source": [
        "print(\"Algunas predicciones:\")\n",
        "table_names = [\"Pélicula\", \"Predicción\", \"Real\"]\n",
        "table = []\n",
        "for i in random.choices(list(range(0,1000)), k=15):\n",
        "    row = [X_test[i][0]]\n",
        "    row.append(int(model.predict([X_test_vectorized[i]])[0]))\n",
        "    row.append(y_test[i])\n",
        "    table.append(row)\n",
        "pd.DataFrame(table, columns=table_names)"
      ],
      "execution_count": 16,
      "outputs": [
        {
          "output_type": "stream",
          "text": [
            "Algunas predicciones:\n"
          ],
          "name": "stdout"
        },
        {
          "output_type": "execute_result",
          "data": {
            "text/html": [
              "<div>\n",
              "<style scoped>\n",
              "    .dataframe tbody tr th:only-of-type {\n",
              "        vertical-align: middle;\n",
              "    }\n",
              "\n",
              "    .dataframe tbody tr th {\n",
              "        vertical-align: top;\n",
              "    }\n",
              "\n",
              "    .dataframe thead th {\n",
              "        text-align: right;\n",
              "    }\n",
              "</style>\n",
              "<table border=\"1\" class=\"dataframe\">\n",
              "  <thead>\n",
              "    <tr style=\"text-align: right;\">\n",
              "      <th></th>\n",
              "      <th>Pélicula</th>\n",
              "      <th>Predicción</th>\n",
              "      <th>Real</th>\n",
              "    </tr>\n",
              "  </thead>\n",
              "  <tbody>\n",
              "    <tr>\n",
              "      <th>0</th>\n",
              "      <td>A Doll's House</td>\n",
              "      <td>1976</td>\n",
              "      <td>1973</td>\n",
              "    </tr>\n",
              "    <tr>\n",
              "      <th>1</th>\n",
              "      <td>Adventure of the King</td>\n",
              "      <td>2020</td>\n",
              "      <td>2010</td>\n",
              "    </tr>\n",
              "    <tr>\n",
              "      <th>2</th>\n",
              "      <td>The Shoes of the Fisherman</td>\n",
              "      <td>2031</td>\n",
              "      <td>1968</td>\n",
              "    </tr>\n",
              "    <tr>\n",
              "      <th>3</th>\n",
              "      <td>There's a Girl in My Soup</td>\n",
              "      <td>1949</td>\n",
              "      <td>1970</td>\n",
              "    </tr>\n",
              "    <tr>\n",
              "      <th>4</th>\n",
              "      <td>La Bohème</td>\n",
              "      <td>1946</td>\n",
              "      <td>1926</td>\n",
              "    </tr>\n",
              "    <tr>\n",
              "      <th>5</th>\n",
              "      <td>A Simple Plan</td>\n",
              "      <td>1990</td>\n",
              "      <td>1998</td>\n",
              "    </tr>\n",
              "    <tr>\n",
              "      <th>6</th>\n",
              "      <td>Chicken Run</td>\n",
              "      <td>1989</td>\n",
              "      <td>2000</td>\n",
              "    </tr>\n",
              "    <tr>\n",
              "      <th>7</th>\n",
              "      <td>Murder, Inc.</td>\n",
              "      <td>1951</td>\n",
              "      <td>1960</td>\n",
              "    </tr>\n",
              "    <tr>\n",
              "      <th>8</th>\n",
              "      <td>Home to Stay</td>\n",
              "      <td>1947</td>\n",
              "      <td>1978</td>\n",
              "    </tr>\n",
              "    <tr>\n",
              "      <th>9</th>\n",
              "      <td>The Number 23</td>\n",
              "      <td>1995</td>\n",
              "      <td>2007</td>\n",
              "    </tr>\n",
              "    <tr>\n",
              "      <th>10</th>\n",
              "      <td>The Invisible Boy</td>\n",
              "      <td>1968</td>\n",
              "      <td>1957</td>\n",
              "    </tr>\n",
              "    <tr>\n",
              "      <th>11</th>\n",
              "      <td>A Boy, a Girl and a Bike</td>\n",
              "      <td>1943</td>\n",
              "      <td>1949</td>\n",
              "    </tr>\n",
              "    <tr>\n",
              "      <th>12</th>\n",
              "      <td>Disco Dancer</td>\n",
              "      <td>2009</td>\n",
              "      <td>1982</td>\n",
              "    </tr>\n",
              "    <tr>\n",
              "      <th>13</th>\n",
              "      <td>Rama Rama Krishna Krishna</td>\n",
              "      <td>1991</td>\n",
              "      <td>2010</td>\n",
              "    </tr>\n",
              "    <tr>\n",
              "      <th>14</th>\n",
              "      <td>Pyaar Ke Side Effects</td>\n",
              "      <td>2020</td>\n",
              "      <td>2006</td>\n",
              "    </tr>\n",
              "  </tbody>\n",
              "</table>\n",
              "</div>"
            ],
            "text/plain": [
              "                      Pélicula  Predicción  Real\n",
              "0               A Doll's House        1976  1973\n",
              "1        Adventure of the King        2020  2010\n",
              "2   The Shoes of the Fisherman        2031  1968\n",
              "3    There's a Girl in My Soup        1949  1970\n",
              "4                    La Bohème        1946  1926\n",
              "5                A Simple Plan        1990  1998\n",
              "6                  Chicken Run        1989  2000\n",
              "7                 Murder, Inc.        1951  1960\n",
              "8                 Home to Stay        1947  1978\n",
              "9                The Number 23        1995  2007\n",
              "10           The Invisible Boy        1968  1957\n",
              "11    A Boy, a Girl and a Bike        1943  1949\n",
              "12                Disco Dancer        2009  1982\n",
              "13   Rama Rama Krishna Krishna        1991  2010\n",
              "14       Pyaar Ke Side Effects        2020  2006"
            ]
          },
          "metadata": {
            "tags": []
          },
          "execution_count": 16
        }
      ]
    },
    {
      "cell_type": "code",
      "metadata": {
        "id": "t6HmdL98o2hT",
        "colab_type": "code",
        "outputId": "23f1c515-8e85-496e-dac3-c7a15416e242",
        "colab": {
          "base_uri": "https://localhost:8080/",
          "height": 35
        }
      },
      "source": [
        "pred = model.predict(X_test_vectorized)\n",
        "print(mean_squared_error(y_test, pred))"
      ],
      "execution_count": 17,
      "outputs": [
        {
          "output_type": "stream",
          "text": [
            "526.668596160757\n"
          ],
          "name": "stdout"
        }
      ]
    }
  ]
}