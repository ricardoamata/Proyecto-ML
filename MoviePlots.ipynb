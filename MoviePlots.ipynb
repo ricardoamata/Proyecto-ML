{
 "cells": [
  {
   "cell_type": "markdown",
   "metadata": {
    "colab_type": "text",
    "id": "X_E_tXe4xR40"
   },
   "source": [
    "# Proyecto ML"
   ]
  },
  {
   "cell_type": "markdown",
   "metadata": {
    "colab_type": "text",
    "id": "lhVM8Te9xR44"
   },
   "source": [
    "## Wikipedia Movie Plots"
   ]
  },
  {
   "cell_type": "markdown",
   "metadata": {
    "colab_type": "text",
    "id": "_DHVWWtYxR46"
   },
   "source": [
    "Importa las librarías que se usaran"
   ]
  },
  {
   "cell_type": "code",
   "execution_count": 1,
   "metadata": {
    "colab": {
     "base_uri": "https://localhost:8080/",
     "height": 899
    },
    "colab_type": "code",
    "id": "IkX5YMOlxR47",
    "outputId": "3056e7bb-b170-4f45-d9b1-c0a09f64e84d",
    "scrolled": false
   },
   "outputs": [],
   "source": [
    "import os\n",
    "os.environ['TF_CPP_MIN_LOG_LEVEL'] = '3'\n",
    "\n",
    "import re\n",
    "import numpy as np\n",
    "import pandas as pd\n",
    "import seaborn as sn\n",
    "import matplotlib.pyplot as plt\n",
    "\n",
    "np.warnings.filterwarnings('ignore')\n",
    "\n",
    "from nltk import word_tokenize, sent_tokenize\n",
    "from nltk.stem import WordNetLemmatizer\n",
    "\n",
    "from sklearn.feature_extraction.text import CountVectorizer, TfidfVectorizer\n",
    "from sklearn.model_selection import train_test_split\n",
    "from sklearn.metrics import confusion_matrix, accuracy_score\n",
    "from sklearn.svm import LinearSVC\n",
    "from sklearn.multiclass import OneVsRestClassifier\n",
    "\n",
    "import tensorflow as tf\n",
    "import tensorflow.compat.v1 as tfv1\n",
    "import tensorflow_hub as hub\n",
    "\n",
    "tf.logging.set_verbosity(tf.logging.ERROR)\n",
    "\n",
    "from tqdm import tqdm_notebook as tqdm\n",
    "\n",
    "plt.style.use('ggplot')"
   ]
  },
  {
   "cell_type": "markdown",
   "metadata": {
    "colab_type": "text",
    "id": "7E9hzGQkxR5B"
   },
   "source": [
    "Carga los datos (se pueden bajar de aquí: https://www.kaggle.com/jrobischon/wikipedia-movie-plots)"
   ]
  },
  {
   "cell_type": "code",
   "execution_count": 147,
   "metadata": {
    "colab": {
     "base_uri": "https://localhost:8080/",
     "height": 35
    },
    "colab_type": "code",
    "id": "oqj1tvGQxR5D",
    "outputId": "2dda2526-81bf-4176-f1d4-bed1f4f0c931"
   },
   "outputs": [
    {
     "data": {
      "text/plain": [
       "(33869, 8)"
      ]
     },
     "execution_count": 147,
     "metadata": {
      "tags": []
     },
     "output_type": "execute_result"
    }
   ],
   "source": [
    "wiki_plots = pd.read_csv(\"wiki_movie_plots_deduped.csv\")\n",
    "wiki_plots.rename(columns={'Origin/Ethnicity':'Origin'}, inplace=True) # para mayor comodidad\n",
    "wiki_plots = wiki_plots.drop_duplicates(subset='Plot', keep='first')"
   ]
  },
  {
   "cell_type": "markdown",
   "metadata": {
    "colab_type": "text",
    "id": "-Mp_owE5xR5K"
   },
   "source": [
    "Muestra de los primeros datos"
   ]
  },
  {
   "cell_type": "code",
   "execution_count": 148,
   "metadata": {
    "colab": {
     "base_uri": "https://localhost:8080/",
     "height": 55
    },
    "colab_type": "code",
    "id": "zQeHrCP2xR6v",
    "outputId": "591a3317-bb60-4264-a740-c7e1e4c23e84"
   },
   "outputs": [
    {
     "name": "stdout",
     "output_type": "stream",
     "text": [
      "at a ball held on the night of the  presidential election serious louise frivolous helen and stolid grace daughters of silver bow montana pharmacist ned elliott and his wife rose find themselves dealing with romantic prospects tom knivel is about to propose to louise when frank medlin a san francisco sports reporter asks her to dance infatuated with the young woman frank extends his stay and at sunday dinner in the elliott home he announces he and louise plan to wed although her parents disapprove of the union louise leaves for san francisco with frank that night grace eventually marries the jilted tom and helen weds wealthy sam johnson who promises her freedom and asks for nothing in return\r",
      " although facing financial difficulty louise urges frank to complete his novel when she becomes pregnant she decides to keep her condition a secret but finally reveals the truth when she accompanies frank to a boxing match and the smoke and smells make her ill returning home louise suffers a miscarriage while climbing the stairs to their apartment and her distraught husband begins to drink heavily\r",
      " overwhelmed by increasing medical bills and a sense of worthlessness frank demands a raise but is rebuffed by his editor who telling him his writing is suffering as a result of his drinking fires him louise tries to console him by announcing she has found employment at a local department store but frank hurt pride prompts him to forbid her to work louise ignores his demand and while her husband struggles to find a job she thrives as secretary to store owner william benson\r",
      " fellow sportswriter tim hazelton suggests frank leave san francisco in order to get a fresh start and he decides to accept work on a ship bound for singapore when louise arrives home she finds a note from frank and rushes to the docks where a policeman mistaking her for a prostitute arrests her by the time she is released frank ship has sailed\r",
      " a few hours later much of the city including louise apartment building is destroyed by the  earthquake when ned is unable to contact his daughter he travels to san francisco to search for her but she has sought refuge with her friend flora gibbon in flora mother bordello in oakland with william help ned locates louise and brings her back to san francisco\r",
      " two years pass the city has been rebuilt and louise is an executive in the department store when she learns tom has been unfaithful to grace she returns to silver bow and is reunited with both her sisters meanwhile frank returns to san francisco and although he is ill he travels to silver bow with tim when he learns louise is there at the ball on the night of the  presidential election frank and louise are reunited and decide to give their marriage another chance\n"
     ]
    }
   ],
   "source": [
    "def clean_text(text):\n",
    "    \"\"\"\n",
    "    This function is taken from:\n",
    "    https://www.kaggle.com/aminejallouli/genre-classification-based-on-wiki-movies-plots\n",
    "    \"\"\"\n",
    "    text = text.lower()\n",
    "    text = re.sub(r\"what's\", \"what is \", text)\n",
    "    text = re.sub(r\"\\'s\", \"\", text)\n",
    "    text = re.sub(r\"\\'ve\", \" have \", text)\n",
    "    text = re.sub(r\"can't\", \"can not \", text)\n",
    "    text = re.sub(r\"n't\", \" not \", text)\n",
    "    text = re.sub(r\"i'm\", \"i am \", text)\n",
    "    text = re.sub(r\"\\'re\", \" are \", text)\n",
    "    text = re.sub(r\"\\'d\", \" would \", text)\n",
    "    text = re.sub(r\"\\'ll\", \" will \", text)\n",
    "    text = re.sub(r\"\\'scuse\", \" excuse \", text)\n",
    "    text = re.sub(r\"\\[\\d+\\]\", \"\", text)\n",
    "    text = re.sub('[%s\\d]' % re.escape(\"\"\"!\"#$%&'()*+,-.:;<=>?@[\\]^`{|}~\"\"\"), \"\", text)\n",
    "    text = re.sub(r\"[-\\n]\", \" \", text)\n",
    "    text = text.strip(' ')\n",
    "    return text\n",
    "\n",
    "# test\n",
    "print(clean_text(wiki_plots['Plot'][2454]))"
   ]
  },
  {
   "cell_type": "code",
   "execution_count": 0,
   "metadata": {
    "colab": {},
    "colab_type": "code",
    "id": "q61-dvObxR6z"
   },
   "outputs": [],
   "source": [
    "wiki_plots['FormattedPlot'] = wiki_plots['Plot'].apply(clean_text)"
   ]
  },
  {
   "cell_type": "code",
   "execution_count": 0,
   "metadata": {
    "colab": {},
    "colab_type": "code",
    "id": "KplLsddqxR53",
    "scrolled": false
   },
   "outputs": [],
   "source": [
    "\"\"\"\n",
    "This code is taken from:https://www.kaggle.com/aminejallouli/genre-classification-based-on-wiki-movies-plots\n",
    "and it's a little bit modified.\n",
    "\"\"\"\n",
    "wiki_plots['GenreCorrected'] =wiki_plots['Genre'] \n",
    "wiki_plots['GenreCorrected']=wiki_plots['GenreCorrected'].str.strip()\n",
    "wiki_plots['GenreCorrected']=wiki_plots['GenreCorrected'].str.replace(' - ', '|')\n",
    "wiki_plots['GenreCorrected']=wiki_plots['GenreCorrected'].str.replace(' / ', '|')\n",
    "wiki_plots['GenreCorrected']=wiki_plots['GenreCorrected'].str.replace('/', '|')\n",
    "wiki_plots['GenreCorrected']=wiki_plots['GenreCorrected'].str.replace(' & ', '|')\n",
    "wiki_plots['GenreCorrected']=wiki_plots['GenreCorrected'].str.replace(', ', '|')\n",
    "wiki_plots['GenreCorrected']=wiki_plots['GenreCorrected'].str.replace('; ', '|')\n",
    "wiki_plots['GenreCorrected']=wiki_plots['GenreCorrected'].str.replace('bio-pic', 'biography')\n",
    "wiki_plots['GenreCorrected']=wiki_plots['GenreCorrected'].str.replace('biopic', 'biography')\n",
    "wiki_plots['GenreCorrected']=wiki_plots['GenreCorrected'].str.replace('biographical', 'biography')\n",
    "wiki_plots['GenreCorrected']=wiki_plots['GenreCorrected'].str.replace('biodrama', 'biography')\n",
    "wiki_plots['GenreCorrected']=wiki_plots['GenreCorrected'].str.replace('bio-drama', 'biography')\n",
    "wiki_plots['GenreCorrected']=wiki_plots['GenreCorrected'].str.replace('biographic', 'biography')\n",
    "wiki_plots['GenreCorrected']=wiki_plots['GenreCorrected'].str.replace(' \\(film genre\\)', '')\n",
    "wiki_plots['GenreCorrected']=wiki_plots['GenreCorrected'].str.replace('animated','animation')\n",
    "wiki_plots['GenreCorrected']=wiki_plots['GenreCorrected'].str.replace('anime','animation')\n",
    "wiki_plots['GenreCorrected']=wiki_plots['GenreCorrected'].str.replace('children\\'s','children')\n",
    "wiki_plots['GenreCorrected']=wiki_plots['GenreCorrected'].str.replace('comedey','comedy')\n",
    "wiki_plots['GenreCorrected']=wiki_plots['GenreCorrected'].str.replace('\\[not in citation given\\]','')\n",
    "wiki_plots['GenreCorrected']=wiki_plots['GenreCorrected'].str.replace(' set 4,000 years ago in the canadian arctic','')\n",
    "wiki_plots['GenreCorrected']=wiki_plots['GenreCorrected'].str.replace('historical','history')\n",
    "wiki_plots['GenreCorrected']=wiki_plots['GenreCorrected'].str.replace('romantic','romance')\n",
    "wiki_plots['GenreCorrected']=wiki_plots['GenreCorrected'].str.replace('3-d','animation')\n",
    "wiki_plots['GenreCorrected']=wiki_plots['GenreCorrected'].str.replace('3d','animation')\n",
    "wiki_plots['GenreCorrected']=wiki_plots['GenreCorrected'].str.replace('viacom 18 motion pictures','')\n",
    "wiki_plots['GenreCorrected']=wiki_plots['GenreCorrected'].str.replace('sci-fi','science_fiction')\n",
    "wiki_plots['GenreCorrected']=wiki_plots['GenreCorrected'].str.replace('ttriller','thriller')\n",
    "wiki_plots['GenreCorrected']=wiki_plots['GenreCorrected'].str.replace('.','')\n",
    "wiki_plots['GenreCorrected']=wiki_plots['GenreCorrected'].str.replace('based on radio serial','')\n",
    "wiki_plots['GenreCorrected']=wiki_plots['GenreCorrected'].str.replace(' on the early years of hitler','')\n",
    "wiki_plots['GenreCorrected']=wiki_plots['GenreCorrected'].str.replace('sci fi','science_fiction')\n",
    "wiki_plots['GenreCorrected']=wiki_plots['GenreCorrected'].str.replace('science fiction','science_fiction')\n",
    "wiki_plots['GenreCorrected']=wiki_plots['GenreCorrected'].str.replace(' (30min)','')\n",
    "wiki_plots['GenreCorrected']=wiki_plots['GenreCorrected'].str.replace('16 mm film','short')\n",
    "wiki_plots['GenreCorrected']=wiki_plots['GenreCorrected'].str.replace('\\[140\\]','drama')\n",
    "wiki_plots['GenreCorrected']=wiki_plots['GenreCorrected'].str.replace('\\[144\\]','')\n",
    "wiki_plots['GenreCorrected']=wiki_plots['GenreCorrected'].str.replace(' for ','')\n",
    "wiki_plots['GenreCorrected']=wiki_plots['GenreCorrected'].str.replace('adventures','adventure')\n",
    "wiki_plots['GenreCorrected']=wiki_plots['GenreCorrected'].str.replace('kung fu','martial_arts')\n",
    "wiki_plots['GenreCorrected']=wiki_plots['GenreCorrected'].str.replace('kung-fu','martial_arts')\n",
    "wiki_plots['GenreCorrected']=wiki_plots['GenreCorrected'].str.replace('martial arts','martial_arts')\n",
    "wiki_plots['GenreCorrected']=wiki_plots['GenreCorrected'].str.replace('world war ii','war')\n",
    "wiki_plots['GenreCorrected']=wiki_plots['GenreCorrected'].str.replace('world war i','war')\n",
    "wiki_plots['GenreCorrected']=wiki_plots['GenreCorrected'].str.replace('biography about montreal canadiens star|maurice richard','biography')\n",
    "wiki_plots['GenreCorrected']=wiki_plots['GenreCorrected'].str.replace('bholenath movies|cinekorn entertainment','')\n",
    "wiki_plots['GenreCorrected']=wiki_plots['GenreCorrected'].str.replace(' \\(volleyball\\)','')\n",
    "wiki_plots['GenreCorrected']=wiki_plots['GenreCorrected'].str.replace('spy film','spy')\n",
    "wiki_plots['GenreCorrected']=wiki_plots['GenreCorrected'].str.replace('anthology film','anthology')\n",
    "wiki_plots['GenreCorrected']=wiki_plots['GenreCorrected'].str.replace('biography fim','biography')\n",
    "wiki_plots['GenreCorrected']=wiki_plots['GenreCorrected'].str.replace('avant-garde','avant_garde')\n",
    "wiki_plots['GenreCorrected']=wiki_plots['GenreCorrected'].str.replace('biker film','biker')\n",
    "wiki_plots['GenreCorrected']=wiki_plots['GenreCorrected'].str.replace('buddy cop','buddy')\n",
    "wiki_plots['GenreCorrected']=wiki_plots['GenreCorrected'].str.replace('buddy film','buddy')\n",
    "wiki_plots['GenreCorrected']=wiki_plots['GenreCorrected'].str.replace('comedy 2-reeler','comedy')\n",
    "wiki_plots['GenreCorrected']=wiki_plots['GenreCorrected'].str.replace('films','')\n",
    "wiki_plots['GenreCorrected']=wiki_plots['GenreCorrected'].str.replace('film','')\n",
    "wiki_plots['GenreCorrected']=wiki_plots['GenreCorrected'].str.replace('biography of pioneering american photographer eadweard muybridge','biography')\n",
    "wiki_plots['GenreCorrected']=wiki_plots['GenreCorrected'].str.replace('british-german co-production','')\n",
    "wiki_plots['GenreCorrected']=wiki_plots['GenreCorrected'].str.replace('bruceploitation','martial_arts')\n",
    "wiki_plots['GenreCorrected']=wiki_plots['GenreCorrected'].str.replace('comedy-drama adaptation of the mordecai richler novel','comedy-drama')\n",
    "wiki_plots['GenreCorrected']=wiki_plots['GenreCorrected'].str.replace('movies by the mob\\|knkspl','')\n",
    "wiki_plots['GenreCorrected']=wiki_plots['GenreCorrected'].str.replace('movies','')\n",
    "wiki_plots['GenreCorrected']=wiki_plots['GenreCorrected'].str.replace('movie','')\n",
    "wiki_plots['GenreCorrected']=wiki_plots['GenreCorrected'].str.replace('coming of age','coming_of_age')\n",
    "wiki_plots['GenreCorrected']=wiki_plots['GenreCorrected'].str.replace('coming-of-age','coming_of_age')\n",
    "wiki_plots['GenreCorrected']=wiki_plots['GenreCorrected'].str.replace('drama about child soldiers','drama')\n",
    "wiki_plots['GenreCorrected']=wiki_plots['GenreCorrected'].str.replace('(( based).+)','')\n",
    "wiki_plots['GenreCorrected']=wiki_plots['GenreCorrected'].str.replace('(( co-produced).+)','')\n",
    "wiki_plots['GenreCorrected']=wiki_plots['GenreCorrected'].str.replace('(( adapted).+)','')\n",
    "wiki_plots['GenreCorrected']=wiki_plots['GenreCorrected'].str.replace('(( about).+)','')\n",
    "wiki_plots['GenreCorrected']=wiki_plots['GenreCorrected'].str.replace('musical b','musical')\n",
    "wiki_plots['GenreCorrected']=wiki_plots['GenreCorrected'].str.replace('animationchildren','animation|children')\n",
    "wiki_plots['GenreCorrected']=wiki_plots['GenreCorrected'].str.replace(' period','period')\n",
    "wiki_plots['GenreCorrected']=wiki_plots['GenreCorrected'].str.replace('drama loosely','drama')\n",
    "wiki_plots['GenreCorrected']=wiki_plots['GenreCorrected'].str.replace(' \\(aquatics|swimming\\)','')\n",
    "wiki_plots['GenreCorrected']=wiki_plots['GenreCorrected'].str.replace(' \\(aquatics|swimming\\)','')\n",
    "wiki_plots['GenreCorrected']=wiki_plots['GenreCorrected'].str.replace(\"yogesh dattatraya gosavi's directorial debut \\[9\\]\",'')\n",
    "wiki_plots['GenreCorrected']=wiki_plots['GenreCorrected'].str.replace(\"war-time\",\"war\")\n",
    "wiki_plots['GenreCorrected']=wiki_plots['GenreCorrected'].str.replace(\"wartime\",\"war\")\n",
    "wiki_plots['GenreCorrected']=wiki_plots['GenreCorrected'].str.replace(\"ww1\",\"war\")\n",
    "wiki_plots['GenreCorrected']=wiki_plots['GenreCorrected'].str.replace('unknown','')\n",
    "wiki_plots['GenreCorrected']=wiki_plots['GenreCorrected'].str.replace(\"wwii\",\"war\")\n",
    "wiki_plots['GenreCorrected']=wiki_plots['GenreCorrected'].str.replace('psychological','psycho')\n",
    "wiki_plots['GenreCorrected']=wiki_plots['GenreCorrected'].str.replace('rom-coms','romance')\n",
    "wiki_plots['GenreCorrected']=wiki_plots['GenreCorrected'].str.replace('true crime','crime')\n",
    "wiki_plots['GenreCorrected']=wiki_plots['GenreCorrected'].str.replace('\\|007','')\n",
    "wiki_plots['GenreCorrected']=wiki_plots['GenreCorrected'].str.replace('slice of life','slice_of_life')\n",
    "wiki_plots['GenreCorrected']=wiki_plots['GenreCorrected'].str.replace('computer animation','animation')\n",
    "wiki_plots['GenreCorrected']=wiki_plots['GenreCorrected'].str.replace('gun fu','martial_arts')\n",
    "wiki_plots['GenreCorrected']=wiki_plots['GenreCorrected'].str.replace('j-horror','horror')\n",
    "wiki_plots['GenreCorrected']=wiki_plots['GenreCorrected'].str.replace(' \\(shogi|chess\\)','')\n",
    "wiki_plots['GenreCorrected']=wiki_plots['GenreCorrected'].str.replace('afghan war drama','war drama')\n",
    "wiki_plots['GenreCorrected']=wiki_plots['GenreCorrected'].str.replace('\\|6 separate stories','')\n",
    "wiki_plots['GenreCorrected']=wiki_plots['GenreCorrected'].str.replace(' \\(30min\\)','')\n",
    "wiki_plots['GenreCorrected']=wiki_plots['GenreCorrected'].str.replace(' (road bicycle racing)','')\n",
    "wiki_plots['GenreCorrected']=wiki_plots['GenreCorrected'].str.replace(' v-cinema','')\n",
    "wiki_plots['GenreCorrected']=wiki_plots['GenreCorrected'].str.replace('tv miniseries','tv_miniseries')\n",
    "wiki_plots['GenreCorrected']=wiki_plots['GenreCorrected'].str.replace('\\|docudrama','\\|documentary|drama')\n",
    "wiki_plots['GenreCorrected']=wiki_plots['GenreCorrected'].str.replace(' in animation','|animation')\n",
    "wiki_plots['GenreCorrected']=wiki_plots['GenreCorrected'].str.replace('((adaptation).+)','')\n",
    "wiki_plots['GenreCorrected']=wiki_plots['GenreCorrected'].str.replace('((adaptated).+)','')\n",
    "wiki_plots['GenreCorrected']=wiki_plots['GenreCorrected'].str.replace('((adapted).+)','')\n",
    "wiki_plots['GenreCorrected']=wiki_plots['GenreCorrected'].str.replace('(( on ).+)','')\n",
    "wiki_plots['GenreCorrected']=wiki_plots['GenreCorrected'].str.replace('american football','sports')\n",
    "wiki_plots['GenreCorrected']=wiki_plots['GenreCorrected'].str.replace('dev\\|nusrat jahan','sports')\n",
    "wiki_plots['GenreCorrected']=wiki_plots['GenreCorrected'].str.replace('television miniseries','tv_miniseries')\n",
    "wiki_plots['GenreCorrected']=wiki_plots['GenreCorrected'].str.replace(' \\(artistic\\)','')\n",
    "wiki_plots['GenreCorrected']=wiki_plots['GenreCorrected'].str.replace(' \\|direct-to-dvd','')\n",
    "wiki_plots['GenreCorrected']=wiki_plots['GenreCorrected'].str.replace('history dram','history drama')\n",
    "wiki_plots['GenreCorrected']=wiki_plots['GenreCorrected'].str.replace('martial art','martial_arts')\n",
    "wiki_plots['GenreCorrected']=wiki_plots['GenreCorrected'].str.replace('psycho thriller,','psycho thriller')\n",
    "wiki_plots['GenreCorrected']=wiki_plots['GenreCorrected'].str.replace('\\|1 girl\\|3 suitors','')\n",
    "wiki_plots['GenreCorrected']=wiki_plots['GenreCorrected'].str.replace(' \\(road bicycle racing\\)','')\n",
    "filterE = wiki_plots['GenreCorrected']==\"ero\"\n",
    "wiki_plots.loc[filterE,'GenreCorrected']=\"adult\"\n",
    "filterE = wiki_plots['GenreCorrected']==\"music\"\n",
    "wiki_plots.loc[filterE,'GenreCorrected']=\"musical\"\n",
    "filterE = wiki_plots['GenreCorrected']==\"-\"\n",
    "wiki_plots.loc[filterE,'GenreCorrected']=''\n",
    "filterE = wiki_plots['GenreCorrected']==\"comedy–drama\"\n",
    "wiki_plots.loc[filterE,'GenreCorrected'] = \"comedy|drama\"\n",
    "filterE = wiki_plots['GenreCorrected']==\"comedy–horror\"\n",
    "wiki_plots.loc[filterE,'GenreCorrected'] = \"comedy|horror\"\n",
    "wiki_plots['GenreCorrected']=wiki_plots['GenreCorrected'].str.replace(' ','|')\n",
    "wiki_plots['GenreCorrected']=wiki_plots['GenreCorrected'].str.replace(',','|')\n",
    "wiki_plots['GenreCorrected']=wiki_plots['GenreCorrected'].str.replace('-','')\n",
    "wiki_plots['GenreCorrected']=wiki_plots['GenreCorrected'].str.replace('actionadventure','action|adventure')\n",
    "wiki_plots['GenreCorrected']=wiki_plots['GenreCorrected'].str.replace('actioncomedy','action|comedy')\n",
    "wiki_plots['GenreCorrected']=wiki_plots['GenreCorrected'].str.replace('actiondrama','action|drama')\n",
    "wiki_plots['GenreCorrected']=wiki_plots['GenreCorrected'].str.replace('actionlove','action|love')\n",
    "wiki_plots['GenreCorrected']=wiki_plots['GenreCorrected'].str.replace('actionmasala','action|masala')\n",
    "wiki_plots['GenreCorrected']=wiki_plots['GenreCorrected'].str.replace('actionchildren','action|children')\n",
    "\n",
    "wiki_plots['GenreCorrected']=wiki_plots['GenreCorrected'].str.replace('fantasychildren\\|','fantasy|children')\n",
    "wiki_plots['GenreCorrected']=wiki_plots['GenreCorrected'].str.replace('fantasycomedy','fantasy|comedy')\n",
    "wiki_plots['GenreCorrected']=wiki_plots['GenreCorrected'].str.replace('fantasyperiod','fantasy|period')\n",
    "wiki_plots['GenreCorrected']=wiki_plots['GenreCorrected'].str.replace('cbctv_miniseries','tv_miniseries')\n",
    "wiki_plots['GenreCorrected']=wiki_plots['GenreCorrected'].str.replace('dramacomedy','drama|comedy')\n",
    "wiki_plots['GenreCorrected']=wiki_plots['GenreCorrected'].str.replace('dramacomedysocial','drama|comedy|social')\n",
    "wiki_plots['GenreCorrected']=wiki_plots['GenreCorrected'].str.replace('dramathriller','drama|thriller')\n",
    "wiki_plots['GenreCorrected']=wiki_plots['GenreCorrected'].str.replace('comedydrama','comedy|drama')\n",
    "wiki_plots['GenreCorrected']=wiki_plots['GenreCorrected'].str.replace('dramathriller','drama|thriller')\n",
    "wiki_plots['GenreCorrected']=wiki_plots['GenreCorrected'].str.replace('comedyhorror','comedy|horror')\n",
    "wiki_plots['GenreCorrected']=wiki_plots['GenreCorrected'].str.replace('sciencefiction','science_fiction')\n",
    "wiki_plots['GenreCorrected']=wiki_plots['GenreCorrected'].str.replace('adventurecomedy','adventure|comedy')\n",
    "wiki_plots['GenreCorrected']=wiki_plots['GenreCorrected'].str.replace('animationdrama','animation|drama')\n",
    "wiki_plots['GenreCorrected']=wiki_plots['GenreCorrected'].str.replace('\\|\\|','|')\n",
    "wiki_plots['GenreCorrected']=wiki_plots['GenreCorrected'].str.replace('muslim','religious')\n",
    "wiki_plots['GenreCorrected']=wiki_plots['GenreCorrected'].str.replace('thriler','thriller')\n",
    "wiki_plots['GenreCorrected']=wiki_plots['GenreCorrected'].str.replace('crimethriller','crime|thriller')\n",
    "wiki_plots['GenreCorrected']=wiki_plots['GenreCorrected'].str.replace('fantay','fantasy')\n",
    "wiki_plots['GenreCorrected']=wiki_plots['GenreCorrected'].str.replace('actionthriller','action|thriller')\n",
    "wiki_plots['GenreCorrected']=wiki_plots['GenreCorrected'].str.replace('comedysocial','comedy|social')\n",
    "wiki_plots['GenreCorrected']=wiki_plots['GenreCorrected'].str.replace('martialarts','martial_arts')\n",
    "wiki_plots['GenreCorrected']=wiki_plots['GenreCorrected'].str.replace('\\|\\(children\\|poker\\|karuta\\)','')\n",
    "wiki_plots['GenreCorrected']=wiki_plots['GenreCorrected'].str.replace('epichistory','epic|history')\n",
    "\n",
    "wiki_plots['GenreCorrected']=wiki_plots['GenreCorrected'].str.replace('erotica','adult')\n",
    "wiki_plots['GenreCorrected']=wiki_plots['GenreCorrected'].str.replace('erotic','adult')\n",
    "\n",
    "wiki_plots['GenreCorrected']=wiki_plots['GenreCorrected'].str.replace('((\\|produced\\|).+)','')\n",
    "wiki_plots['GenreCorrected']=wiki_plots['GenreCorrected'].str.replace('chanbara','chambara')\n",
    "wiki_plots['GenreCorrected']=wiki_plots['GenreCorrected'].str.replace('comedythriller','comedy|thriller')\n",
    "wiki_plots['GenreCorrected']=wiki_plots['GenreCorrected'].str.replace('biblical','religious')\n",
    "wiki_plots['GenreCorrected']=wiki_plots['GenreCorrected'].str.replace('biblical','religious')\n",
    "wiki_plots['GenreCorrected']=wiki_plots['GenreCorrected'].str.replace('colour\\|yellow\\|productions\\|eros\\|international','')\n",
    "wiki_plots['GenreCorrected']=wiki_plots['GenreCorrected'].str.replace('\\|directtodvd','')\n",
    "wiki_plots['GenreCorrected']=wiki_plots['GenreCorrected'].str.replace('liveaction','live|action')\n",
    "wiki_plots['GenreCorrected']=wiki_plots['GenreCorrected'].str.replace('melodrama','drama')\n",
    "wiki_plots['GenreCorrected']=wiki_plots['GenreCorrected'].str.replace('superheroes','superheroe')\n",
    "wiki_plots['GenreCorrected']=wiki_plots['GenreCorrected'].str.replace('gangsterthriller','gangster|thriller')\n",
    "\n",
    "wiki_plots['GenreCorrected']=wiki_plots['GenreCorrected'].str.replace('heistcomedy','comedy')\n",
    "wiki_plots['GenreCorrected']=wiki_plots['GenreCorrected'].str.replace('heist','action')\n",
    "wiki_plots['GenreCorrected']=wiki_plots['GenreCorrected'].str.replace('historic','history')\n",
    "wiki_plots['GenreCorrected']=wiki_plots['GenreCorrected'].str.replace('historydisaster','history|disaster')\n",
    "wiki_plots['GenreCorrected']=wiki_plots['GenreCorrected'].str.replace('warcomedy','war|comedy')\n",
    "wiki_plots['GenreCorrected']=wiki_plots['GenreCorrected'].str.replace('westerncomedy','western|comedy')\n",
    "wiki_plots['GenreCorrected']=wiki_plots['GenreCorrected'].str.replace('ancientcostume','costume')\n",
    "wiki_plots['GenreCorrected']=wiki_plots['GenreCorrected'].str.replace('computeranimation','animation')\n",
    "wiki_plots['GenreCorrected']=wiki_plots['GenreCorrected'].str.replace('dramatic','drama')\n",
    "wiki_plots['GenreCorrected']=wiki_plots['GenreCorrected'].str.replace('familya','family')\n",
    "wiki_plots['GenreCorrected']=wiki_plots['GenreCorrected'].str.replace('familya','family')\n",
    "wiki_plots['GenreCorrected']=wiki_plots['GenreCorrected'].str.replace('dramedy','drama|comedy')\n",
    "wiki_plots['GenreCorrected']=wiki_plots['GenreCorrected'].str.replace('dramaa','drama')\n",
    "wiki_plots['GenreCorrected']=wiki_plots['GenreCorrected'].str.replace('famil\\|','family')\n",
    "\n",
    "wiki_plots['GenreCorrected']=wiki_plots['GenreCorrected'].str.replace('superheroe','superhero')\n",
    "wiki_plots['GenreCorrected']=wiki_plots['GenreCorrected'].str.replace('biogtaphy','biography')\n",
    "wiki_plots['GenreCorrected']=wiki_plots['GenreCorrected'].str.replace('devotionalbiography','devotional|biography')\n",
    "wiki_plots['GenreCorrected']=wiki_plots['GenreCorrected'].str.replace('docufiction','documentary|fiction')\n",
    "\n",
    "wiki_plots['GenreCorrected']=wiki_plots['GenreCorrected'].str.replace('familydrama','family|drama')\n",
    "\n",
    "wiki_plots['GenreCorrected']=wiki_plots['GenreCorrected'].str.replace('espionage','spy')\n",
    "wiki_plots['GenreCorrected']=wiki_plots['GenreCorrected'].str.replace('supeheroes','superhero')\n",
    "wiki_plots['GenreCorrected']=wiki_plots['GenreCorrected'].str.replace('romancefiction','romance|fiction')\n",
    "wiki_plots['GenreCorrected']=wiki_plots['GenreCorrected'].str.replace('horrorthriller','horror|thriller')\n",
    "\n",
    "wiki_plots['GenreCorrected']=wiki_plots['GenreCorrected'].str.replace('suspensethriller','suspense|thriller')\n",
    "wiki_plots['GenreCorrected']=wiki_plots['GenreCorrected'].str.replace('musicaliography','musical|biography')\n",
    "wiki_plots['GenreCorrected']=wiki_plots['GenreCorrected'].str.replace('triller','thriller')\n",
    "\n",
    "wiki_plots['GenreCorrected']=wiki_plots['GenreCorrected'].str.replace('\\|\\(fiction\\)','|fiction')\n",
    "\n",
    "wiki_plots['GenreCorrected']=wiki_plots['GenreCorrected'].str.replace('romanceaction','romance|action')\n",
    "wiki_plots['GenreCorrected']=wiki_plots['GenreCorrected'].str.replace('romancecomedy','romance|comedy')\n",
    "wiki_plots['GenreCorrected']=wiki_plots['GenreCorrected'].str.replace('romancehorror','romance|horror')\n",
    "\n",
    "wiki_plots['GenreCorrected']=wiki_plots['GenreCorrected'].str.replace('romcom','romance|comedy')\n",
    "wiki_plots['GenreCorrected']=wiki_plots['GenreCorrected'].str.replace('rom\\|com','romance|comedy')\n",
    "wiki_plots['GenreCorrected']=wiki_plots['GenreCorrected'].str.replace('satirical','satire')\n",
    "\n",
    "wiki_plots['GenreCorrected']=wiki_plots['GenreCorrected'].str.replace('science_fictionchildren','science_fiction|children')\n",
    "wiki_plots['GenreCorrected']=wiki_plots['GenreCorrected'].str.replace('homosexual','adult')\n",
    "wiki_plots['GenreCorrected']=wiki_plots['GenreCorrected'].str.replace('sexual','adult')\n",
    "\n",
    "wiki_plots['GenreCorrected']=wiki_plots['GenreCorrected'].str.replace('mockumentary','documentary')\n",
    "wiki_plots['GenreCorrected']=wiki_plots['GenreCorrected'].str.replace('periodic','period')\n",
    "wiki_plots['GenreCorrected']=wiki_plots['GenreCorrected'].str.replace('romanctic','romantic')\n",
    "wiki_plots['GenreCorrected']=wiki_plots['GenreCorrected'].str.replace('politics','political')\n",
    "wiki_plots['GenreCorrected']=wiki_plots['GenreCorrected'].str.replace('samurai','martial_arts')\n",
    "wiki_plots['GenreCorrected']=wiki_plots['GenreCorrected'].str.replace('tv_miniseries','series')\n",
    "wiki_plots['GenreCorrected']=wiki_plots['GenreCorrected'].str.replace('serial','series')\n",
    "\n",
    "filterE = wiki_plots['GenreCorrected']==\"musical–comedy\"\n",
    "wiki_plots.loc[filterE,'GenreCorrected'] = \"musical|comedy\"\n",
    "\n",
    "filterE = wiki_plots['GenreCorrected']==\"roman|porno\"\n",
    "wiki_plots.loc[filterE,'GenreCorrected'] = \"adult\"\n",
    "\n",
    "\n",
    "filterE = wiki_plots['GenreCorrected']==\"action—masala\"\n",
    "wiki_plots.loc[filterE,'GenreCorrected'] = \"action|masala\"\n",
    "\n",
    "\n",
    "filterE = wiki_plots['GenreCorrected']==\"horror–thriller\"\n",
    "wiki_plots.loc[filterE,'GenreCorrected'] = \"horror|thriller\"\n",
    "\n",
    "#wiki_plots['GenreCorrected']=wiki_plots['GenreCorrected'].str.replace('family','children')\n",
    "#wiki_plots['GenreCorrected']=wiki_plots['GenreCorrected'].str.replace('martial_arts','action')\n",
    "#wiki_plots['GenreCorrected']=wiki_plots['GenreCorrected'].str.replace('horror','thriller')\n",
    "#wiki_plots['GenreCorrected']=wiki_plots['GenreCorrected'].str.replace('war','action')\n",
    "#wiki_plots['GenreCorrected']=wiki_plots['GenreCorrected'].str.replace('adventure','action')\n",
    "#wiki_plots['GenreCorrected']=wiki_plots['GenreCorrected'].str.replace('science_fiction','action')\n",
    "#wiki_plots['GenreCorrected']=wiki_plots['GenreCorrected'].str.replace('western','action')\n",
    "wiki_plots['GenreCorrected']=wiki_plots['GenreCorrected'].str.replace('noir','black')\n",
    "wiki_plots['GenreCorrected']=wiki_plots['GenreCorrected'].str.replace('spy','action')\n",
    "wiki_plots['GenreCorrected']=wiki_plots['GenreCorrected'].str.replace('superhero','action')\n",
    "wiki_plots['GenreCorrected']=wiki_plots['GenreCorrected'].str.replace('social','')\n",
    "wiki_plots['GenreCorrected']=wiki_plots['GenreCorrected'].str.replace('suspense','thriller')\n",
    "\n",
    "\n",
    "filterE = wiki_plots['GenreCorrected']==\"drama|romance|adult|children\"\n",
    "wiki_plots.loc[filterE,'GenreCorrected'] = \"drama|romance|adult\"\n",
    "\n",
    "wiki_plots['GenreCorrected']=wiki_plots['GenreCorrected'].str.replace('\\|–\\|','|')\n",
    "wiki_plots['GenreCorrected']=wiki_plots['GenreCorrected'].str.strip(to_strip='\\|')\n",
    "wiki_plots['GenreCorrected']=wiki_plots['GenreCorrected'].str.replace('actionner','action')\n",
    "wiki_plots['GenreCorrected']=wiki_plots['GenreCorrected'].str.strip()\n",
    "\n",
    "def merge_similar(gn):\n",
    "    gn_list = gn.split('|')\n",
    "    gn_list = sorted(list(set(gn_list)))\n",
    "    return '|'.join(gn_list)\n",
    "\n",
    "wiki_plots['GenreCorrected']=wiki_plots['GenreCorrected'].apply(merge_similar)\n",
    "wiki_plots['GenreCorrected']=wiki_plots['GenreCorrected'].str.replace('^$','unknown')"
   ]
  },
  {
   "cell_type": "code",
   "execution_count": 0,
   "metadata": {
    "colab": {},
    "colab_type": "code",
    "id": "eRFzxTtAbKqr"
   },
   "outputs": [],
   "source": [
    "wiki_plots['GenreSplit'] = wiki_plots['GenreCorrected'].str.split('|')\n",
    "wiki_plots['GenreSplit'] = wiki_plots['GenreSplit'].apply(np.array)"
   ]
  },
  {
   "cell_type": "code",
   "execution_count": 152,
   "metadata": {
    "colab": {
     "base_uri": "https://localhost:8080/",
     "height": 107
    },
    "colab_type": "code",
    "id": "5stdSgCcfLU6",
    "outputId": "24e8c82d-48b0-4d17-f1ae-0ab222452d3a"
   },
   "outputs": [
    {
     "data": {
      "text/plain": [
       "array(['drama', 'comedy', 'romance', 'action', 'thriller', 'crime',\n",
       "       'horror', 'western', 'musical', 'science_fiction', 'animation',\n",
       "       'adventure', 'family', 'war', 'fantasy', 'mystery', 'biography',\n",
       "       'black', 'history', 'short', 'martial_arts', 'documentary',\n",
       "       'sports'], dtype=object)"
      ]
     },
     "execution_count": 152,
     "metadata": {
      "tags": []
     },
     "output_type": "execute_result"
    }
   ],
   "source": [
    "genres = [genre for sublist in wiki_plots['GenreSplit'].values for genre in sublist]\n",
    "genres = pd.DataFrame({'Counts':genres})['Counts'].value_counts().to_frame().reset_index().rename(columns={'index':'Genre'})\n",
    "genres = genres[genres['Genre'] != 'unknown'].head(23)\n",
    "genres = np.array(genres['Genre'])\n",
    "genres"
   ]
  },
  {
   "cell_type": "code",
   "execution_count": 0,
   "metadata": {
    "colab": {},
    "colab_type": "code",
    "id": "PP5WCFopi_7v"
   },
   "outputs": [],
   "source": [
    "wiki_plots['GenreSplit'] = wiki_plots['GenreSplit'].apply(lambda x: x[np.in1d(x, genres)])"
   ]
  },
  {
   "cell_type": "code",
   "execution_count": 154,
   "metadata": {
    "colab": {
     "base_uri": "https://localhost:8080/",
     "height": 35
    },
    "colab_type": "code",
    "id": "nbhtFihCdZvy",
    "outputId": "78292f44-1287-464d-e0c7-f8f161460595"
   },
   "outputs": [
    {
     "data": {
      "text/plain": [
       "array([0, 0, 0, ..., 0, 0, 0])"
      ]
     },
     "execution_count": 154,
     "metadata": {
      "tags": []
     },
     "output_type": "execute_result"
    }
   ],
   "source": [
    "dummy_clases = wiki_plots.query('GenreCorrected != \"unknown\"')['GenreSplit'].apply(lambda x: '|'.join(x)).str.get_dummies()\n",
    "dummy_clases['drama'].values"
   ]
  },
  {
   "cell_type": "markdown",
   "metadata": {
    "colab_type": "text",
    "id": "q-odduNSxR7B"
   },
   "source": [
    "## Entrenando un clasificador (varios)"
   ]
  },
  {
   "cell_type": "code",
   "execution_count": 0,
   "metadata": {
    "colab": {},
    "colab_type": "code",
    "id": "g8Q1ePBtxR7C"
   },
   "outputs": [],
   "source": [
    "data = wiki_plots.query('GenreCorrected != \"unknown\"').reset_index()\n",
    "\n",
    "X_train, X_test, y_train, y_test = train_test_split(data['FormattedPlot'].values, dummy_clases)\n",
    "\n",
    "stemmer = WordNetLemmatizer()\n",
    "for i in range(len(X_train)):\n",
    "    X_train[i] = [stemmer.lemmatize(word) for word in X_train[i].split(' ')]\n",
    "    X_train[i] = ' '.join(X_train[i])\n",
    "    \n",
    "for i in range(len(X_test)):\n",
    "    X_test[i] = [stemmer.lemmatize(word) for word in X_test[i].split(' ')]\n",
    "    X_test[i] = ' '.join(X_test[i])\n",
    "\n",
    "tfidf = TfidfVectorizer(smooth_idf=False, sublinear_tf=False, stop_words='english')\n",
    "X_train = tfidf.fit_transform(X_train)\n",
    "X_test = tfidf.transform(X_test).toarray()"
   ]
  },
  {
   "cell_type": "code",
   "execution_count": 0,
   "metadata": {
    "colab": {},
    "colab_type": "code",
    "id": "vpd5bFT1qXiM"
   },
   "outputs": [],
   "source": [
    "def train_clasifiers(x, y, clases):\n",
    "    clasifiers = []\n",
    "    for c in clases:\n",
    "        clf = OneVsRestClassifier(LinearSVC(random_state=0, max_iter=25000))\n",
    "        clf.fit(x, y[c].values)\n",
    "        clasifiers.append(clf)\n",
    "    return clasifiers\n",
    "\n",
    "def predict(clasifiers, x, clases):\n",
    "    pred_clases = []\n",
    "    for i, clf in enumerate(clasifiers):\n",
    "        if clf.predict([x])[0] == 1:\n",
    "            pred_clases.append(clases[i])\n",
    "    return pred_clases\n",
    "\n",
    "def predict_vector(clf, X):\n",
    "    pred = np.zeros((len(X)))\n",
    "    for i, x in enumerate(X):\n",
    "        pred[i] = clf.predict([x])[0]\n",
    "    return pred\n",
    "\n",
    "def evalueate_models(clasifiers, X_test, y_test, clases):\n",
    "    score = np.zeros((len(clases)))\n",
    "    for i, c in enumerate(clases):\n",
    "        score[i] = accuracy_score(predict_vector(clasifiers[i], X_test), y_test[c].values)\n",
    "    return score"
   ]
  },
  {
   "cell_type": "code",
   "execution_count": 0,
   "metadata": {
    "colab": {},
    "colab_type": "code",
    "id": "rqqS4eYXxR7G"
   },
   "outputs": [],
   "source": [
    "clasifiers = train_clasifiers(X_train, y_train, genres)"
   ]
  },
  {
   "cell_type": "code",
   "execution_count": 260,
   "metadata": {
    "colab": {
     "base_uri": "https://localhost:8080/",
     "height": 71
    },
    "colab_type": "code",
    "id": "kMz48d_RxR7L",
    "outputId": "90aa0415-9c5d-4da0-8480-adc11ae8f326"
   },
   "outputs": [
    {
     "name": "stdout",
     "output_type": "stream",
     "text": [
      "Fury\n",
      "['crime' 'drama']\n",
      "['comedy']\n"
     ]
    }
   ],
   "source": [
    "i = 2003\n",
    "print(data['Title'][i])\n",
    "print(data['GenreSplit'][i])\n",
    "print(predict(clasifiers, X_test[i], genres))"
   ]
  },
  {
   "cell_type": "code",
   "execution_count": 261,
   "metadata": {
    "colab": {
     "base_uri": "https://localhost:8080/",
     "height": 35
    },
    "colab_type": "code",
    "id": "E9qjfIZTxR7P",
    "outputId": "24d3d15d-776f-4c7e-95af-b7adc10e3991"
   },
   "outputs": [
    {
     "name": "stdout",
     "output_type": "stream",
     "text": [
      "0.9539609117289615\n"
     ]
    }
   ],
   "source": [
    "acc = evalueate_models(clasifiers, X_test, y_test, genres)\n",
    "print(np.mean(acc))"
   ]
  },
  {
   "cell_type": "markdown",
   "metadata": {
    "colab_type": "text",
    "id": "N68_9VHFxR7T"
   },
   "source": [
    "## Sistema de recomendación de peliculas similares"
   ]
  },
  {
   "cell_type": "markdown",
   "metadata": {
    "colab_type": "text",
    "id": "C2p6h6HT_NJx"
   },
   "source": [
    "Función para codificar las tramas en vectores densos de 512"
   ]
  },
  {
   "cell_type": "code",
   "execution_count": 0,
   "metadata": {
    "colab": {},
    "colab_type": "code",
    "id": "vzOPqsMWxR7U"
   },
   "outputs": [],
   "source": [
    "def get_embeddings(tokenized_sents):\n",
    "    embed_list = []\n",
    "    with tfv1.Graph().as_default():\n",
    "        print(\"Downloading the model\")\n",
    "        embed = hub.Module(\"https://tfhub.dev/google/universal-sentence-encoder/2\")\n",
    "        print(\"Processing plots\")\n",
    "        messages = tfv1.placeholder(dtype=tf.string, shape=[None])\n",
    "        embed_list = []\n",
    "        embedding = embed(messages)\n",
    "        embedding_mean = tfv1.math.reduce_mean(embedding, axis=0)\n",
    "        normalized_embedding = tfv1.nn.l2_normalize(embedding_mean, 0)\n",
    "        with tfv1.Session() as session:\n",
    "            session.run([tfv1.global_variables_initializer(), tfv1.tables_initializer()])\n",
    "            for sent in tqdm(tokenized_sents):\n",
    "                output = session.run(embedding_mean, feed_dict={messages: sent})\n",
    "                # this is slow\n",
    "                # encoded_plot = session.run(tfv1.math.reduce_mean(output, axis=0))\n",
    "                embed_list.append(output.reshape(-1,1))\n",
    "    return embed_list"
   ]
  },
  {
   "cell_type": "code",
   "execution_count": 158,
   "metadata": {
    "colab": {
     "base_uri": "https://localhost:8080/",
     "height": 135,
     "referenced_widgets": [
      "24b63128e5c04241b0c9d9118cb260b8",
      "79bf74955a7a4cbe8b989b0cd8d0f47d",
      "1877dd85ccea413080c5909111e68158",
      "df9e9d6d52a94980a4191f7e4c011fbd",
      "f3f8bec33ea64cc9a2dd74035dfd2604",
      "7cfec9d01b27452882bf72ece0a9c859",
      "db0447652d2749cc860321a66bcefaa8",
      "d50793e14e5d4b71b1b4ff53fe6b2730",
      "c2339c3d76b149e482df09b704530969",
      "07372aa1169949d18d74c9acaf3653b8",
      "f5e2049ef22c4020854b7ce10f0e8acb",
      "bf45e29b3b7c424181b42b0c4a5ca6cb",
      "a2ca019a7bd24745895b6c15a5381480",
      "cc4cac09efd446d0aa15518b06de3b45",
      "1548a402449f45a396e8188821eba317",
      "5c02077b26964952a5d147db12c769cd"
     ]
    },
    "colab_type": "code",
    "id": "xtzssRD6xR7Y",
    "outputId": "574ddbf2-7d26-4959-ac40-fc5b3096b05d"
   },
   "outputs": [
    {
     "name": "stdout",
     "output_type": "stream",
     "text": [
      "Tokenizig sentences in the plots\n"
     ]
    },
    {
     "data": {
      "application/vnd.jupyter.widget-view+json": {
       "model_id": "24b63128e5c04241b0c9d9118cb260b8",
       "version_major": 2,
       "version_minor": 0
      },
      "text/plain": [
       "HBox(children=(IntProgress(value=0, max=33869), HTML(value='')))"
      ]
     },
     "metadata": {
      "tags": []
     },
     "output_type": "display_data"
    },
    {
     "name": "stdout",
     "output_type": "stream",
     "text": [
      "Downloading the model\n",
      "Processing plots\n"
     ]
    },
    {
     "data": {
      "application/vnd.jupyter.widget-view+json": {
       "model_id": "c2339c3d76b149e482df09b704530969",
       "version_major": 2,
       "version_minor": 0
      },
      "text/plain": [
       "HBox(children=(IntProgress(value=0, max=33869), HTML(value='')))"
      ]
     },
     "metadata": {
      "tags": []
     },
     "output_type": "display_data"
    }
   ],
   "source": [
    "print(\"Tokenizig sentences in the plots\")\n",
    "tokenized_sents = []\n",
    "for movie_plot in tqdm(wiki_plots['FormattedPlot']):\n",
    "    sent = sent_tokenize(movie_plot)\n",
    "    tokenized_sents.append(sent)\n",
    "\n",
    "embed_list = get_embeddings(tokenized_sents)"
   ]
  },
  {
   "cell_type": "code",
   "execution_count": 0,
   "metadata": {
    "colab": {},
    "colab_type": "code",
    "id": "Is2J3-MU-7aQ"
   },
   "outputs": [],
   "source": [
    "wiki_plots['EmbeddingPlot'] = embed_list"
   ]
  },
  {
   "cell_type": "markdown",
   "metadata": {
    "colab_type": "text",
    "id": "htXakyls_ajx"
   },
   "source": [
    "Busquedad de peliculas similares en base de la trama codigicada"
   ]
  },
  {
   "cell_type": "code",
   "execution_count": 0,
   "metadata": {
    "colab": {},
    "colab_type": "code",
    "id": "CkM3QHbMxR7c"
   },
   "outputs": [],
   "source": [
    "def get_similar_movies(embedding_plot, embeddings, titles, min_similarity=0.5):\n",
    "    similar_movies = []\n",
    "    embeddings = np.array(embeddings.tolist()).squeeze()\n",
    "    with tfv1.Session() as session:\n",
    "        vec1 = tfv1.placeholder(dtype=tf.float32, shape=(None, 512), name=\"vec1\")\n",
    "        vec2 = tfv1.placeholder(dtype=tf.float32, shape=(512, 1), name=\"vec2\")\n",
    "\n",
    "        cos_similarity = tf.matmul(vec1, vec2)\n",
    "\n",
    "        similarities = session.run(cos_similarity, feed_dict={vec1: embeddings, vec2: embedding_plot})\n",
    "        similarities = [x for x in zip(similarities, titles) if x[0] > min_similarity]\n",
    "        similarities.sort(key=lambda x: x[0], reverse=True)\n",
    "        similarities.pop(0)\n",
    "        similar_movies = [title for (_, title) in similarities]\n",
    "    return similar_movies"
   ]
  },
  {
   "cell_type": "code",
   "execution_count": 0,
   "metadata": {
    "colab": {},
    "colab_type": "code",
    "id": "Akjc2bQPxR7w"
   },
   "outputs": [],
   "source": [
    "df['Title'] = df['Title'].str.replace('\\\"', '')"
   ]
  },
  {
   "cell_type": "code",
   "execution_count": 0,
   "metadata": {
    "colab": {
     "base_uri": "https://localhost:8080/",
     "height": 54
    },
    "colab_type": "code",
    "id": "tHyjs03V-FZc",
    "outputId": "5993b5f2-02ae-4455-dcf5-3e2407feed9a"
   },
   "outputs": [
    {
     "name": "stdout",
     "output_type": "stream",
     "text": [
      "['Troll', 'Jack the Giant Killer', 'The Witches', 'Hansel & Gretel: Witch Hunters', \"Happily N'Ever After\", 'Inkheart', 'Snow White & the Huntsman', 'The Devil Rides Out', 'The Raven', 'Hocus Pocus', 'The Wizard of Oz', 'A Simple Wish', 'Mirror Mirror', 'The Chronicles of Narnia: Prince Caspian', 'Just Visiting', 'Howling II', 'The Spiderwick Chronicles', 'Tom Thumb', 'The Chronicles of Narnia: The Voyage of the Dawn Treader', 'The Wicker Man', 'The Swan Princess', 'The Maze', 'Cry of the Banshee', 'Pan', 'The Brothers Grimm', 'Peter Pan', 'Snow White and the Three Stooges', 'Leprechaun: Origins', 'The City of the Dead', 'The Vampire Lovers', \"Mary and the Witch's Flower\", 'The Haunted Palace', 'Black Cauldron, The', 'Happily Ever After', 'Dracula: Prince of Darkness', 'Lesbian Vampire Killers', 'Sleeping Beauty', 'Snow White: A Tale of Terror', ' Ella Enchanted', 'The Swan Princess Christmas']\n"
     ]
    }
   ],
   "source": [
    "embed_plot = df.query('Title == \"The Chronicles of Narnia: The Lion, the Witch and the Wardrobe\"').iloc[0]['EmbeddingPlot']\n",
    "print(get_similar_movies(embed_plot, df['EmbeddingPlot'].values, df['Title'], min_similarity=0.8))"
   ]
  },
  {
   "cell_type": "code",
   "execution_count": 0,
   "metadata": {
    "colab": {},
    "colab_type": "code",
    "id": "jLREsGyhxR8C"
   },
   "outputs": [],
   "source": [
    "movie_lens = pd.read_csv('movies.csv')\n",
    "ratings = pd.read_csv('ratings.csv')"
   ]
  },
  {
   "cell_type": "code",
   "execution_count": 161,
   "metadata": {
    "colab": {
     "base_uri": "https://localhost:8080/",
     "height": 359
    },
    "colab_type": "code",
    "id": "jQJYnahLod1Q",
    "outputId": "0f1b511c-f72f-483b-f3dc-67af725e40f8"
   },
   "outputs": [
    {
     "data": {
      "text/html": [
       "<div>\n",
       "<style scoped>\n",
       "    .dataframe tbody tr th:only-of-type {\n",
       "        vertical-align: middle;\n",
       "    }\n",
       "\n",
       "    .dataframe tbody tr th {\n",
       "        vertical-align: top;\n",
       "    }\n",
       "\n",
       "    .dataframe thead th {\n",
       "        text-align: right;\n",
       "    }\n",
       "</style>\n",
       "<table border=\"1\" class=\"dataframe\">\n",
       "  <thead>\n",
       "    <tr style=\"text-align: right;\">\n",
       "      <th></th>\n",
       "      <th>movieId</th>\n",
       "      <th>title</th>\n",
       "      <th>genres</th>\n",
       "    </tr>\n",
       "  </thead>\n",
       "  <tbody>\n",
       "    <tr>\n",
       "      <th>0</th>\n",
       "      <td>1</td>\n",
       "      <td>Toy Story (1995)</td>\n",
       "      <td>Adventure|Animation|Children|Comedy|Fantasy</td>\n",
       "    </tr>\n",
       "    <tr>\n",
       "      <th>1</th>\n",
       "      <td>2</td>\n",
       "      <td>Jumanji (1995)</td>\n",
       "      <td>Adventure|Children|Fantasy</td>\n",
       "    </tr>\n",
       "    <tr>\n",
       "      <th>2</th>\n",
       "      <td>3</td>\n",
       "      <td>Grumpier Old Men (1995)</td>\n",
       "      <td>Comedy|Romance</td>\n",
       "    </tr>\n",
       "    <tr>\n",
       "      <th>3</th>\n",
       "      <td>4</td>\n",
       "      <td>Waiting to Exhale (1995)</td>\n",
       "      <td>Comedy|Drama|Romance</td>\n",
       "    </tr>\n",
       "    <tr>\n",
       "      <th>4</th>\n",
       "      <td>5</td>\n",
       "      <td>Father of the Bride Part II (1995)</td>\n",
       "      <td>Comedy</td>\n",
       "    </tr>\n",
       "    <tr>\n",
       "      <th>5</th>\n",
       "      <td>6</td>\n",
       "      <td>Heat (1995)</td>\n",
       "      <td>Action|Crime|Thriller</td>\n",
       "    </tr>\n",
       "    <tr>\n",
       "      <th>6</th>\n",
       "      <td>7</td>\n",
       "      <td>Sabrina (1995)</td>\n",
       "      <td>Comedy|Romance</td>\n",
       "    </tr>\n",
       "    <tr>\n",
       "      <th>7</th>\n",
       "      <td>8</td>\n",
       "      <td>Tom and Huck (1995)</td>\n",
       "      <td>Adventure|Children</td>\n",
       "    </tr>\n",
       "    <tr>\n",
       "      <th>8</th>\n",
       "      <td>9</td>\n",
       "      <td>Sudden Death (1995)</td>\n",
       "      <td>Action</td>\n",
       "    </tr>\n",
       "    <tr>\n",
       "      <th>9</th>\n",
       "      <td>10</td>\n",
       "      <td>GoldenEye (1995)</td>\n",
       "      <td>Action|Adventure|Thriller</td>\n",
       "    </tr>\n",
       "  </tbody>\n",
       "</table>\n",
       "</div>"
      ],
      "text/plain": [
       "   movieId  ...                                       genres\n",
       "0        1  ...  Adventure|Animation|Children|Comedy|Fantasy\n",
       "1        2  ...                   Adventure|Children|Fantasy\n",
       "2        3  ...                               Comedy|Romance\n",
       "3        4  ...                         Comedy|Drama|Romance\n",
       "4        5  ...                                       Comedy\n",
       "5        6  ...                        Action|Crime|Thriller\n",
       "6        7  ...                               Comedy|Romance\n",
       "7        8  ...                           Adventure|Children\n",
       "8        9  ...                                       Action\n",
       "9       10  ...                    Action|Adventure|Thriller\n",
       "\n",
       "[10 rows x 3 columns]"
      ]
     },
     "execution_count": 161,
     "metadata": {
      "tags": []
     },
     "output_type": "execute_result"
    }
   ],
   "source": [
    "movie_lens.head(10)"
   ]
  },
  {
   "cell_type": "code",
   "execution_count": 162,
   "metadata": {
    "colab": {
     "base_uri": "https://localhost:8080/",
     "height": 359
    },
    "colab_type": "code",
    "id": "zaHMkQbkolsm",
    "outputId": "3b37abc6-1fb1-4570-92b8-dc5a3c8c6d92"
   },
   "outputs": [
    {
     "data": {
      "text/html": [
       "<div>\n",
       "<style scoped>\n",
       "    .dataframe tbody tr th:only-of-type {\n",
       "        vertical-align: middle;\n",
       "    }\n",
       "\n",
       "    .dataframe tbody tr th {\n",
       "        vertical-align: top;\n",
       "    }\n",
       "\n",
       "    .dataframe thead th {\n",
       "        text-align: right;\n",
       "    }\n",
       "</style>\n",
       "<table border=\"1\" class=\"dataframe\">\n",
       "  <thead>\n",
       "    <tr style=\"text-align: right;\">\n",
       "      <th></th>\n",
       "      <th>userId</th>\n",
       "      <th>movieId</th>\n",
       "      <th>rating</th>\n",
       "      <th>timestamp</th>\n",
       "    </tr>\n",
       "  </thead>\n",
       "  <tbody>\n",
       "    <tr>\n",
       "      <th>0</th>\n",
       "      <td>1</td>\n",
       "      <td>1</td>\n",
       "      <td>4.0</td>\n",
       "      <td>964982703</td>\n",
       "    </tr>\n",
       "    <tr>\n",
       "      <th>1</th>\n",
       "      <td>1</td>\n",
       "      <td>3</td>\n",
       "      <td>4.0</td>\n",
       "      <td>964981247</td>\n",
       "    </tr>\n",
       "    <tr>\n",
       "      <th>2</th>\n",
       "      <td>1</td>\n",
       "      <td>6</td>\n",
       "      <td>4.0</td>\n",
       "      <td>964982224</td>\n",
       "    </tr>\n",
       "    <tr>\n",
       "      <th>3</th>\n",
       "      <td>1</td>\n",
       "      <td>47</td>\n",
       "      <td>5.0</td>\n",
       "      <td>964983815</td>\n",
       "    </tr>\n",
       "    <tr>\n",
       "      <th>4</th>\n",
       "      <td>1</td>\n",
       "      <td>50</td>\n",
       "      <td>5.0</td>\n",
       "      <td>964982931</td>\n",
       "    </tr>\n",
       "    <tr>\n",
       "      <th>5</th>\n",
       "      <td>1</td>\n",
       "      <td>70</td>\n",
       "      <td>3.0</td>\n",
       "      <td>964982400</td>\n",
       "    </tr>\n",
       "    <tr>\n",
       "      <th>6</th>\n",
       "      <td>1</td>\n",
       "      <td>101</td>\n",
       "      <td>5.0</td>\n",
       "      <td>964980868</td>\n",
       "    </tr>\n",
       "    <tr>\n",
       "      <th>7</th>\n",
       "      <td>1</td>\n",
       "      <td>110</td>\n",
       "      <td>4.0</td>\n",
       "      <td>964982176</td>\n",
       "    </tr>\n",
       "    <tr>\n",
       "      <th>8</th>\n",
       "      <td>1</td>\n",
       "      <td>151</td>\n",
       "      <td>5.0</td>\n",
       "      <td>964984041</td>\n",
       "    </tr>\n",
       "    <tr>\n",
       "      <th>9</th>\n",
       "      <td>1</td>\n",
       "      <td>157</td>\n",
       "      <td>5.0</td>\n",
       "      <td>964984100</td>\n",
       "    </tr>\n",
       "  </tbody>\n",
       "</table>\n",
       "</div>"
      ],
      "text/plain": [
       "   userId  movieId  rating  timestamp\n",
       "0       1        1     4.0  964982703\n",
       "1       1        3     4.0  964981247\n",
       "2       1        6     4.0  964982224\n",
       "3       1       47     5.0  964983815\n",
       "4       1       50     5.0  964982931\n",
       "5       1       70     3.0  964982400\n",
       "6       1      101     5.0  964980868\n",
       "7       1      110     4.0  964982176\n",
       "8       1      151     5.0  964984041\n",
       "9       1      157     5.0  964984100"
      ]
     },
     "execution_count": 162,
     "metadata": {
      "tags": []
     },
     "output_type": "execute_result"
    }
   ],
   "source": [
    "ratings.head(10)"
   ]
  },
  {
   "cell_type": "code",
   "execution_count": 163,
   "metadata": {
    "colab": {
     "base_uri": "https://localhost:8080/",
     "height": 359
    },
    "colab_type": "code",
    "id": "EgQdyqK9ouD6",
    "outputId": "48820ad7-c99f-47da-b42e-77f377840efc"
   },
   "outputs": [
    {
     "data": {
      "text/html": [
       "<div>\n",
       "<style scoped>\n",
       "    .dataframe tbody tr th:only-of-type {\n",
       "        vertical-align: middle;\n",
       "    }\n",
       "\n",
       "    .dataframe tbody tr th {\n",
       "        vertical-align: top;\n",
       "    }\n",
       "\n",
       "    .dataframe thead th {\n",
       "        text-align: right;\n",
       "    }\n",
       "</style>\n",
       "<table border=\"1\" class=\"dataframe\">\n",
       "  <thead>\n",
       "    <tr style=\"text-align: right;\">\n",
       "      <th></th>\n",
       "      <th>movieId</th>\n",
       "      <th>title</th>\n",
       "      <th>genres</th>\n",
       "    </tr>\n",
       "  </thead>\n",
       "  <tbody>\n",
       "    <tr>\n",
       "      <th>0</th>\n",
       "      <td>1</td>\n",
       "      <td>Toy Story</td>\n",
       "      <td>Adventure|Animation|Children|Comedy|Fantasy</td>\n",
       "    </tr>\n",
       "    <tr>\n",
       "      <th>1</th>\n",
       "      <td>2</td>\n",
       "      <td>Jumanji</td>\n",
       "      <td>Adventure|Children|Fantasy</td>\n",
       "    </tr>\n",
       "    <tr>\n",
       "      <th>2</th>\n",
       "      <td>3</td>\n",
       "      <td>Grumpier Old Men</td>\n",
       "      <td>Comedy|Romance</td>\n",
       "    </tr>\n",
       "    <tr>\n",
       "      <th>3</th>\n",
       "      <td>4</td>\n",
       "      <td>Waiting to Exhale</td>\n",
       "      <td>Comedy|Drama|Romance</td>\n",
       "    </tr>\n",
       "    <tr>\n",
       "      <th>4</th>\n",
       "      <td>5</td>\n",
       "      <td>Father of the Bride Part II</td>\n",
       "      <td>Comedy</td>\n",
       "    </tr>\n",
       "    <tr>\n",
       "      <th>5</th>\n",
       "      <td>6</td>\n",
       "      <td>Heat</td>\n",
       "      <td>Action|Crime|Thriller</td>\n",
       "    </tr>\n",
       "    <tr>\n",
       "      <th>6</th>\n",
       "      <td>7</td>\n",
       "      <td>Sabrina</td>\n",
       "      <td>Comedy|Romance</td>\n",
       "    </tr>\n",
       "    <tr>\n",
       "      <th>7</th>\n",
       "      <td>8</td>\n",
       "      <td>Tom and Huck</td>\n",
       "      <td>Adventure|Children</td>\n",
       "    </tr>\n",
       "    <tr>\n",
       "      <th>8</th>\n",
       "      <td>9</td>\n",
       "      <td>Sudden Death</td>\n",
       "      <td>Action</td>\n",
       "    </tr>\n",
       "    <tr>\n",
       "      <th>9</th>\n",
       "      <td>10</td>\n",
       "      <td>GoldenEye</td>\n",
       "      <td>Action|Adventure|Thriller</td>\n",
       "    </tr>\n",
       "  </tbody>\n",
       "</table>\n",
       "</div>"
      ],
      "text/plain": [
       "   movieId  ...                                       genres\n",
       "0        1  ...  Adventure|Animation|Children|Comedy|Fantasy\n",
       "1        2  ...                   Adventure|Children|Fantasy\n",
       "2        3  ...                               Comedy|Romance\n",
       "3        4  ...                         Comedy|Drama|Romance\n",
       "4        5  ...                                       Comedy\n",
       "5        6  ...                        Action|Crime|Thriller\n",
       "6        7  ...                               Comedy|Romance\n",
       "7        8  ...                           Adventure|Children\n",
       "8        9  ...                                       Action\n",
       "9       10  ...                    Action|Adventure|Thriller\n",
       "\n",
       "[10 rows x 3 columns]"
      ]
     },
     "execution_count": 163,
     "metadata": {
      "tags": []
     },
     "output_type": "execute_result"
    }
   ],
   "source": [
    "clear_title = lambda x: re.sub(r' \\(\\d{4}\\)', '', x)\n",
    "movie_lens['title'] = movie_lens['title'].apply(clear_title)\n",
    "movie_lens.head(10)"
   ]
  },
  {
   "cell_type": "code",
   "execution_count": 164,
   "metadata": {
    "colab": {
     "base_uri": "https://localhost:8080/",
     "height": 107
    },
    "colab_type": "code",
    "id": "1sBma40KrGIs",
    "outputId": "004c26b1-0550-436d-ea03-571a4fcd0f1a"
   },
   "outputs": [
    {
     "data": {
      "text/plain": [
       "movieId        4891\n",
       "title          4891\n",
       "genres         4891\n",
       "InWikiPlots    4891\n",
       "dtype: int64"
      ]
     },
     "execution_count": 164,
     "metadata": {
      "tags": []
     },
     "output_type": "execute_result"
    }
   ],
   "source": [
    "in_wiki_plots = lambda x: (wiki_plots.Title == x).any()\n",
    "movie_lens['InWikiPlots'] = movie_lens['title'].apply(in_wiki_plots)\n",
    "movie_lens[movie_lens.InWikiPlots == True].count()"
   ]
  },
  {
   "cell_type": "code",
   "execution_count": 165,
   "metadata": {
    "colab": {
     "base_uri": "https://localhost:8080/",
     "height": 359
    },
    "colab_type": "code",
    "id": "0Jf8W41aw3aY",
    "outputId": "85fc96fe-a965-4432-9a64-a9b95ca7139c"
   },
   "outputs": [
    {
     "data": {
      "text/html": [
       "<div>\n",
       "<style scoped>\n",
       "    .dataframe tbody tr th:only-of-type {\n",
       "        vertical-align: middle;\n",
       "    }\n",
       "\n",
       "    .dataframe tbody tr th {\n",
       "        vertical-align: top;\n",
       "    }\n",
       "\n",
       "    .dataframe thead th {\n",
       "        text-align: right;\n",
       "    }\n",
       "</style>\n",
       "<table border=\"1\" class=\"dataframe\">\n",
       "  <thead>\n",
       "    <tr style=\"text-align: right;\">\n",
       "      <th></th>\n",
       "      <th>movieId</th>\n",
       "      <th>title</th>\n",
       "      <th>genres</th>\n",
       "      <th>InWikiPlots</th>\n",
       "    </tr>\n",
       "  </thead>\n",
       "  <tbody>\n",
       "    <tr>\n",
       "      <th>0</th>\n",
       "      <td>1</td>\n",
       "      <td>Toy Story</td>\n",
       "      <td>Adventure|Animation|Children|Comedy|Fantasy</td>\n",
       "      <td>True</td>\n",
       "    </tr>\n",
       "    <tr>\n",
       "      <th>1</th>\n",
       "      <td>2</td>\n",
       "      <td>Jumanji</td>\n",
       "      <td>Adventure|Children|Fantasy</td>\n",
       "      <td>True</td>\n",
       "    </tr>\n",
       "    <tr>\n",
       "      <th>2</th>\n",
       "      <td>3</td>\n",
       "      <td>Grumpier Old Men</td>\n",
       "      <td>Comedy|Romance</td>\n",
       "      <td>True</td>\n",
       "    </tr>\n",
       "    <tr>\n",
       "      <th>3</th>\n",
       "      <td>4</td>\n",
       "      <td>Waiting to Exhale</td>\n",
       "      <td>Comedy|Drama|Romance</td>\n",
       "      <td>True</td>\n",
       "    </tr>\n",
       "    <tr>\n",
       "      <th>4</th>\n",
       "      <td>5</td>\n",
       "      <td>Father of the Bride Part II</td>\n",
       "      <td>Comedy</td>\n",
       "      <td>True</td>\n",
       "    </tr>\n",
       "    <tr>\n",
       "      <th>5</th>\n",
       "      <td>6</td>\n",
       "      <td>Heat</td>\n",
       "      <td>Action|Crime|Thriller</td>\n",
       "      <td>True</td>\n",
       "    </tr>\n",
       "    <tr>\n",
       "      <th>6</th>\n",
       "      <td>7</td>\n",
       "      <td>Sabrina</td>\n",
       "      <td>Comedy|Romance</td>\n",
       "      <td>True</td>\n",
       "    </tr>\n",
       "    <tr>\n",
       "      <th>7</th>\n",
       "      <td>8</td>\n",
       "      <td>Tom and Huck</td>\n",
       "      <td>Adventure|Children</td>\n",
       "      <td>True</td>\n",
       "    </tr>\n",
       "    <tr>\n",
       "      <th>8</th>\n",
       "      <td>9</td>\n",
       "      <td>Sudden Death</td>\n",
       "      <td>Action</td>\n",
       "      <td>True</td>\n",
       "    </tr>\n",
       "    <tr>\n",
       "      <th>9</th>\n",
       "      <td>10</td>\n",
       "      <td>GoldenEye</td>\n",
       "      <td>Action|Adventure|Thriller</td>\n",
       "      <td>True</td>\n",
       "    </tr>\n",
       "  </tbody>\n",
       "</table>\n",
       "</div>"
      ],
      "text/plain": [
       "   movieId  ... InWikiPlots\n",
       "0        1  ...        True\n",
       "1        2  ...        True\n",
       "2        3  ...        True\n",
       "3        4  ...        True\n",
       "4        5  ...        True\n",
       "5        6  ...        True\n",
       "6        7  ...        True\n",
       "7        8  ...        True\n",
       "8        9  ...        True\n",
       "9       10  ...        True\n",
       "\n",
       "[10 rows x 4 columns]"
      ]
     },
     "execution_count": 165,
     "metadata": {
      "tags": []
     },
     "output_type": "execute_result"
    }
   ],
   "source": [
    "movie_lens_reduced = movie_lens[movie_lens.InWikiPlots == True]\n",
    "movie_lens_reduced.head(10)"
   ]
  },
  {
   "cell_type": "code",
   "execution_count": 166,
   "metadata": {
    "colab": {
     "base_uri": "https://localhost:8080/",
     "height": 35
    },
    "colab_type": "code",
    "id": "YP_7OW_I1tnV",
    "outputId": "c70b8fa5-73c6-48c7-9d2e-283a0d7cfab8"
   },
   "outputs": [
    {
     "data": {
      "text/plain": [
       "64169"
      ]
     },
     "execution_count": 166,
     "metadata": {
      "tags": []
     },
     "output_type": "execute_result"
    }
   ],
   "source": [
    "valid_rating = lambda x: (movie_lens_reduced.movieId == x).any()\n",
    "ratings['valid'] = ratings['movieId'].apply(valid_rating)\n",
    "ratings_reduced = ratings[ratings.valid == True]\n",
    "len(ratings_reduced)"
   ]
  },
  {
   "cell_type": "code",
   "execution_count": 167,
   "metadata": {
    "colab": {
     "base_uri": "https://localhost:8080/",
     "height": 359
    },
    "colab_type": "code",
    "id": "_QAm4tos3j4k",
    "outputId": "b9f4df37-f74e-45d4-ba4a-53a5ef44169d"
   },
   "outputs": [
    {
     "data": {
      "text/html": [
       "<div>\n",
       "<style scoped>\n",
       "    .dataframe tbody tr th:only-of-type {\n",
       "        vertical-align: middle;\n",
       "    }\n",
       "\n",
       "    .dataframe tbody tr th {\n",
       "        vertical-align: top;\n",
       "    }\n",
       "\n",
       "    .dataframe thead th {\n",
       "        text-align: right;\n",
       "    }\n",
       "</style>\n",
       "<table border=\"1\" class=\"dataframe\">\n",
       "  <thead>\n",
       "    <tr style=\"text-align: right;\">\n",
       "      <th></th>\n",
       "      <th>userId</th>\n",
       "      <th>movieId</th>\n",
       "      <th>rating</th>\n",
       "      <th>timestamp</th>\n",
       "      <th>valid</th>\n",
       "      <th>embeddings</th>\n",
       "    </tr>\n",
       "  </thead>\n",
       "  <tbody>\n",
       "    <tr>\n",
       "      <th>0</th>\n",
       "      <td>1</td>\n",
       "      <td>1</td>\n",
       "      <td>4.0</td>\n",
       "      <td>964982703</td>\n",
       "      <td>True</td>\n",
       "      <td>[0.0077550518326461315, 0.011775807477533817, ...</td>\n",
       "    </tr>\n",
       "    <tr>\n",
       "      <th>1</th>\n",
       "      <td>1</td>\n",
       "      <td>3</td>\n",
       "      <td>4.0</td>\n",
       "      <td>964981247</td>\n",
       "      <td>True</td>\n",
       "      <td>[-0.031014366075396538, 0.02753722295165062, -...</td>\n",
       "    </tr>\n",
       "    <tr>\n",
       "      <th>2</th>\n",
       "      <td>1</td>\n",
       "      <td>6</td>\n",
       "      <td>4.0</td>\n",
       "      <td>964982224</td>\n",
       "      <td>True</td>\n",
       "      <td>[0.04757323116064072, 0.06013210490345955, -0....</td>\n",
       "    </tr>\n",
       "    <tr>\n",
       "      <th>5</th>\n",
       "      <td>1</td>\n",
       "      <td>70</td>\n",
       "      <td>3.0</td>\n",
       "      <td>964982400</td>\n",
       "      <td>True</td>\n",
       "      <td>[-0.04830478876829147, -0.0365079827606678, -0...</td>\n",
       "    </tr>\n",
       "    <tr>\n",
       "      <th>6</th>\n",
       "      <td>1</td>\n",
       "      <td>101</td>\n",
       "      <td>5.0</td>\n",
       "      <td>964980868</td>\n",
       "      <td>True</td>\n",
       "      <td>[-0.04517536610364914, -0.03670736029744148, -...</td>\n",
       "    </tr>\n",
       "    <tr>\n",
       "      <th>7</th>\n",
       "      <td>1</td>\n",
       "      <td>110</td>\n",
       "      <td>4.0</td>\n",
       "      <td>964982176</td>\n",
       "      <td>True</td>\n",
       "      <td>[-0.008381982333958149, -0.05141633749008179, ...</td>\n",
       "    </tr>\n",
       "    <tr>\n",
       "      <th>8</th>\n",
       "      <td>1</td>\n",
       "      <td>151</td>\n",
       "      <td>5.0</td>\n",
       "      <td>964984041</td>\n",
       "      <td>True</td>\n",
       "      <td>[0.022778308019042015, -0.0427921898663044, 0....</td>\n",
       "    </tr>\n",
       "    <tr>\n",
       "      <th>9</th>\n",
       "      <td>1</td>\n",
       "      <td>157</td>\n",
       "      <td>5.0</td>\n",
       "      <td>964984100</td>\n",
       "      <td>True</td>\n",
       "      <td>[-0.04360337555408478, -0.008092694915831089, ...</td>\n",
       "    </tr>\n",
       "    <tr>\n",
       "      <th>10</th>\n",
       "      <td>1</td>\n",
       "      <td>163</td>\n",
       "      <td>5.0</td>\n",
       "      <td>964983650</td>\n",
       "      <td>True</td>\n",
       "      <td>[-0.036191973835229874, -0.04408616945147514, ...</td>\n",
       "    </tr>\n",
       "    <tr>\n",
       "      <th>11</th>\n",
       "      <td>1</td>\n",
       "      <td>216</td>\n",
       "      <td>5.0</td>\n",
       "      <td>964981208</td>\n",
       "      <td>True</td>\n",
       "      <td>[0.0186429675668478, 0.05028223618865013, 0.00...</td>\n",
       "    </tr>\n",
       "  </tbody>\n",
       "</table>\n",
       "</div>"
      ],
      "text/plain": [
       "    userId  movieId  ...  valid                                         embeddings\n",
       "0        1        1  ...   True  [0.0077550518326461315, 0.011775807477533817, ...\n",
       "1        1        3  ...   True  [-0.031014366075396538, 0.02753722295165062, -...\n",
       "2        1        6  ...   True  [0.04757323116064072, 0.06013210490345955, -0....\n",
       "5        1       70  ...   True  [-0.04830478876829147, -0.0365079827606678, -0...\n",
       "6        1      101  ...   True  [-0.04517536610364914, -0.03670736029744148, -...\n",
       "7        1      110  ...   True  [-0.008381982333958149, -0.05141633749008179, ...\n",
       "8        1      151  ...   True  [0.022778308019042015, -0.0427921898663044, 0....\n",
       "9        1      157  ...   True  [-0.04360337555408478, -0.008092694915831089, ...\n",
       "10       1      163  ...   True  [-0.036191973835229874, -0.04408616945147514, ...\n",
       "11       1      216  ...   True  [0.0186429675668478, 0.05028223618865013, 0.00...\n",
       "\n",
       "[10 rows x 6 columns]"
      ]
     },
     "execution_count": 167,
     "metadata": {
      "tags": []
     },
     "output_type": "execute_result"
    }
   ],
   "source": [
    "def get_embeddings(id):\n",
    "    title = movie_lens_reduced[movie_lens_reduced.movieId == id]['title'].iloc[0]\n",
    "    return np.array(wiki_plots.query(f'Title == \"{title}\"')['EmbeddingPlot'].iloc[0].tolist()).squeeze()\n",
    "\n",
    "ratings_reduced['embeddings'] = ratings_reduced['movieId'].apply(get_embeddings)\n",
    "ratings_reduced.head(10)"
   ]
  },
  {
   "cell_type": "code",
   "execution_count": 0,
   "metadata": {
    "colab": {},
    "colab_type": "code",
    "id": "hgw0h-ggAHKa"
   },
   "outputs": [],
   "source": [
    "norm_indices = lambda index: index - 1\n",
    "ratings_reduced['userIdNorm'] = ratings_reduced['userId'].apply(norm_indices)\n",
    "ratings_reduced['movieIdNorm'] = ratings_reduced['movieId'].apply(norm_indices)"
   ]
  },
  {
   "cell_type": "code",
   "execution_count": 169,
   "metadata": {
    "colab": {
     "base_uri": "https://localhost:8080/",
     "height": 35
    },
    "colab_type": "code",
    "id": "K_yvQAr2reqZ",
    "outputId": "21a188dd-50a0-4831-eea6-e840f3458678"
   },
   "outputs": [
    {
     "name": "stdout",
     "output_type": "stream",
     "text": [
      "(51335, 8)\n"
     ]
    }
   ],
   "source": [
    "batch_size = 64\n",
    "r_train, r_test = train_test_split(ratings_reduced, train_size=0.8)\n",
    "print(r_train.shape)\n",
    "r_train_batches = np.split(r_train, [batch_size] * r_train.shape[0], axis=0)"
   ]
  },
  {
   "cell_type": "code",
   "execution_count": 0,
   "metadata": {
    "colab": {},
    "colab_type": "code",
    "id": "oyrlay48gKtQ"
   },
   "outputs": [],
   "source": [
    "u = len(ratings_reduced['userIdNorm'].unique())\n",
    "m = len(r_train['embeddings'])"
   ]
  },
  {
   "cell_type": "code",
   "execution_count": 255,
   "metadata": {
    "colab": {
     "base_uri": "https://localhost:8080/",
     "height": 85,
     "referenced_widgets": [
      "1cb13359d9b44221912d5cbc109d9913",
      "1fcf213bab2b44ea9994d6d5d5a0f2a5",
      "2dc9c85ea1ca4f55b71bc7b14935a7b1",
      "df9fa48b7894432d960d49f51209f94a",
      "f04f597f016c490b8486bbf153800882",
      "e5ad8ef27e224077a4d285212290021a",
      "c936b5553a484849982121962c575751",
      "32269e2b726f4d9786bce402c2b78de9"
     ]
    },
    "colab_type": "code",
    "id": "URDwmzGDjc5_",
    "outputId": "c0b82060-f020-4c51-c86a-df099c9a4d18"
   },
   "outputs": [
    {
     "name": "stdout",
     "output_type": "stream",
     "text": [
      "Comenzando el entrenamiento\n"
     ]
    },
    {
     "data": {
      "application/vnd.jupyter.widget-view+json": {
       "model_id": "1cb13359d9b44221912d5cbc109d9913",
       "version_major": 2,
       "version_minor": 0
      },
      "text/plain": [
       "HBox(children=(IntProgress(value=0), HTML(value='')))"
      ]
     },
     "metadata": {
      "tags": []
     },
     "output_type": "display_data"
    },
    {
     "name": "stdout",
     "output_type": "stream",
     "text": [
      "final loss is 2.5488474369049072\n"
     ]
    }
   ],
   "source": [
    "saver = tf.train.Saver()\n",
    "\n",
    "def feed(U, V, indices):\n",
    "    gathered_u = tf.gather(U, indices=indices)\n",
    "    return tf.reduce_sum(tf.multiply(gathered_u, V), axis=1)\n",
    "\n",
    "U = tf.Variable(tf.random_normal([u, 512]), dtype=tf.float32, name=\"weights\")\n",
    "V = tfv1.placeholder(dtype=tf.float32, shape=(None, 512))\n",
    "lmbda = tf.constant(0.00005)\n",
    "#gathered_u = tf.gather(U, r_train['userIdNorm'].values, name=\"gathered_u\")\n",
    "pred = feed(U, V, r_train['userIdNorm'].values)\n",
    "regularizer = tf.nn.l2_loss(U)\n",
    "regularizer = tf.multiply(lmbda, regularizer)\n",
    "loss = tf.add(tf.losses.mean_squared_error(r_train['rating'].values, pred), regularizer)\n",
    "optimizer = tf.train.AdamOptimizer(learning_rate=0.02)\n",
    "step = optimizer.minimize(loss)\n",
    "\n",
    "input_embeds = np.array(r_train['embeddings'].tolist())\n",
    "error = 0\n",
    "\n",
    "with tfv1.Session() as session:\n",
    "    session.run([tfv1.global_variables_initializer(), tfv1.local_variables_initializer()])\n",
    "    print(\"Comenzando el entrenamiento\")\n",
    "    for epoch in tqdm(range(100)):\n",
    "        _, error = session.run([step, loss], feed_dict={V: input_embeds})\n",
    "    saver.save(session, \"weights\")\n",
    "print(f\"final loss is {error}\")\n"
   ]
  },
  {
   "cell_type": "code",
   "execution_count": 256,
   "metadata": {
    "colab": {
     "base_uri": "https://localhost:8080/",
     "height": 35
    },
    "colab_type": "code",
    "id": "XAwguwfmdwCI",
    "outputId": "0cbf69f5-e286-4958-c07a-f3333198c05e"
   },
   "outputs": [
    {
     "name": "stdout",
     "output_type": "stream",
     "text": [
      "Test error: 13.918868064880371\n"
     ]
    }
   ],
   "source": [
    "pred = feed(U, V, r_test['userIdNorm'].values)\n",
    "test_loss = tf.losses.mean_squared_error(r_test['rating'].values, pred)\n",
    "with tfv1.Session() as session:\n",
    "    session.run([tfv1.global_variables_initializer(), tfv1.local_variables_initializer()])\n",
    "    saver.restore(session, \"weights\")\n",
    "    error = session.run(test_loss, feed_dict={V: np.array(r_test['embeddings'].tolist())})\n",
    "    print(f\"Test error: {error}\")"
   ]
  }
 ],
 "metadata": {
  "colab": {
   "collapsed_sections": [
    "COFksccmxR5i",
    "SJSV4vL7xR52"
   ],
   "name": "MoviePlots.ipynb",
   "provenance": []
  },
  "kernelspec": {
   "display_name": "Python 3",
   "language": "python",
   "name": "python3"
  },
  "language_info": {
   "codemirror_mode": {
    "name": "ipython",
    "version": 3
   },
   "file_extension": ".py",
   "mimetype": "text/x-python",
   "name": "python",
   "nbconvert_exporter": "python",
   "pygments_lexer": "ipython3",
   "version": "3.6.8"
  },
  "widgets": {
   "application/vnd.jupyter.widget-state+json": {
    "07372aa1169949d18d74c9acaf3653b8": {
     "model_module": "@jupyter-widgets/base",
     "model_name": "LayoutModel",
     "state": {
      "_model_module": "@jupyter-widgets/base",
      "_model_module_version": "1.2.0",
      "_model_name": "LayoutModel",
      "_view_count": null,
      "_view_module": "@jupyter-widgets/base",
      "_view_module_version": "1.2.0",
      "_view_name": "LayoutView",
      "align_content": null,
      "align_items": null,
      "align_self": null,
      "border": null,
      "bottom": null,
      "display": null,
      "flex": null,
      "flex_flow": null,
      "grid_area": null,
      "grid_auto_columns": null,
      "grid_auto_flow": null,
      "grid_auto_rows": null,
      "grid_column": null,
      "grid_gap": null,
      "grid_row": null,
      "grid_template_areas": null,
      "grid_template_columns": null,
      "grid_template_rows": null,
      "height": null,
      "justify_content": null,
      "justify_items": null,
      "left": null,
      "margin": null,
      "max_height": null,
      "max_width": null,
      "min_height": null,
      "min_width": null,
      "object_fit": null,
      "object_position": null,
      "order": null,
      "overflow": null,
      "overflow_x": null,
      "overflow_y": null,
      "padding": null,
      "right": null,
      "top": null,
      "visibility": null,
      "width": null
     }
    },
    "1548a402449f45a396e8188821eba317": {
     "model_module": "@jupyter-widgets/controls",
     "model_name": "DescriptionStyleModel",
     "state": {
      "_model_module": "@jupyter-widgets/controls",
      "_model_module_version": "1.5.0",
      "_model_name": "DescriptionStyleModel",
      "_view_count": null,
      "_view_module": "@jupyter-widgets/base",
      "_view_module_version": "1.2.0",
      "_view_name": "StyleView",
      "description_width": ""
     }
    },
    "1877dd85ccea413080c5909111e68158": {
     "model_module": "@jupyter-widgets/controls",
     "model_name": "IntProgressModel",
     "state": {
      "_dom_classes": [],
      "_model_module": "@jupyter-widgets/controls",
      "_model_module_version": "1.5.0",
      "_model_name": "IntProgressModel",
      "_view_count": null,
      "_view_module": "@jupyter-widgets/controls",
      "_view_module_version": "1.5.0",
      "_view_name": "ProgressView",
      "bar_style": "success",
      "description": "",
      "description_tooltip": null,
      "layout": "IPY_MODEL_7cfec9d01b27452882bf72ece0a9c859",
      "max": 33869,
      "min": 0,
      "orientation": "horizontal",
      "style": "IPY_MODEL_f3f8bec33ea64cc9a2dd74035dfd2604",
      "value": 33869
     }
    },
    "1cb13359d9b44221912d5cbc109d9913": {
     "model_module": "@jupyter-widgets/controls",
     "model_name": "HBoxModel",
     "state": {
      "_dom_classes": [],
      "_model_module": "@jupyter-widgets/controls",
      "_model_module_version": "1.5.0",
      "_model_name": "HBoxModel",
      "_view_count": null,
      "_view_module": "@jupyter-widgets/controls",
      "_view_module_version": "1.5.0",
      "_view_name": "HBoxView",
      "box_style": "",
      "children": [
       "IPY_MODEL_2dc9c85ea1ca4f55b71bc7b14935a7b1",
       "IPY_MODEL_df9fa48b7894432d960d49f51209f94a"
      ],
      "layout": "IPY_MODEL_1fcf213bab2b44ea9994d6d5d5a0f2a5"
     }
    },
    "1fcf213bab2b44ea9994d6d5d5a0f2a5": {
     "model_module": "@jupyter-widgets/base",
     "model_name": "LayoutModel",
     "state": {
      "_model_module": "@jupyter-widgets/base",
      "_model_module_version": "1.2.0",
      "_model_name": "LayoutModel",
      "_view_count": null,
      "_view_module": "@jupyter-widgets/base",
      "_view_module_version": "1.2.0",
      "_view_name": "LayoutView",
      "align_content": null,
      "align_items": null,
      "align_self": null,
      "border": null,
      "bottom": null,
      "display": null,
      "flex": null,
      "flex_flow": null,
      "grid_area": null,
      "grid_auto_columns": null,
      "grid_auto_flow": null,
      "grid_auto_rows": null,
      "grid_column": null,
      "grid_gap": null,
      "grid_row": null,
      "grid_template_areas": null,
      "grid_template_columns": null,
      "grid_template_rows": null,
      "height": null,
      "justify_content": null,
      "justify_items": null,
      "left": null,
      "margin": null,
      "max_height": null,
      "max_width": null,
      "min_height": null,
      "min_width": null,
      "object_fit": null,
      "object_position": null,
      "order": null,
      "overflow": null,
      "overflow_x": null,
      "overflow_y": null,
      "padding": null,
      "right": null,
      "top": null,
      "visibility": null,
      "width": null
     }
    },
    "24b63128e5c04241b0c9d9118cb260b8": {
     "model_module": "@jupyter-widgets/controls",
     "model_name": "HBoxModel",
     "state": {
      "_dom_classes": [],
      "_model_module": "@jupyter-widgets/controls",
      "_model_module_version": "1.5.0",
      "_model_name": "HBoxModel",
      "_view_count": null,
      "_view_module": "@jupyter-widgets/controls",
      "_view_module_version": "1.5.0",
      "_view_name": "HBoxView",
      "box_style": "",
      "children": [
       "IPY_MODEL_1877dd85ccea413080c5909111e68158",
       "IPY_MODEL_df9e9d6d52a94980a4191f7e4c011fbd"
      ],
      "layout": "IPY_MODEL_79bf74955a7a4cbe8b989b0cd8d0f47d"
     }
    },
    "2dc9c85ea1ca4f55b71bc7b14935a7b1": {
     "model_module": "@jupyter-widgets/controls",
     "model_name": "IntProgressModel",
     "state": {
      "_dom_classes": [],
      "_model_module": "@jupyter-widgets/controls",
      "_model_module_version": "1.5.0",
      "_model_name": "IntProgressModel",
      "_view_count": null,
      "_view_module": "@jupyter-widgets/controls",
      "_view_module_version": "1.5.0",
      "_view_name": "ProgressView",
      "bar_style": "success",
      "description": "",
      "description_tooltip": null,
      "layout": "IPY_MODEL_e5ad8ef27e224077a4d285212290021a",
      "max": 100,
      "min": 0,
      "orientation": "horizontal",
      "style": "IPY_MODEL_f04f597f016c490b8486bbf153800882",
      "value": 100
     }
    },
    "32269e2b726f4d9786bce402c2b78de9": {
     "model_module": "@jupyter-widgets/base",
     "model_name": "LayoutModel",
     "state": {
      "_model_module": "@jupyter-widgets/base",
      "_model_module_version": "1.2.0",
      "_model_name": "LayoutModel",
      "_view_count": null,
      "_view_module": "@jupyter-widgets/base",
      "_view_module_version": "1.2.0",
      "_view_name": "LayoutView",
      "align_content": null,
      "align_items": null,
      "align_self": null,
      "border": null,
      "bottom": null,
      "display": null,
      "flex": null,
      "flex_flow": null,
      "grid_area": null,
      "grid_auto_columns": null,
      "grid_auto_flow": null,
      "grid_auto_rows": null,
      "grid_column": null,
      "grid_gap": null,
      "grid_row": null,
      "grid_template_areas": null,
      "grid_template_columns": null,
      "grid_template_rows": null,
      "height": null,
      "justify_content": null,
      "justify_items": null,
      "left": null,
      "margin": null,
      "max_height": null,
      "max_width": null,
      "min_height": null,
      "min_width": null,
      "object_fit": null,
      "object_position": null,
      "order": null,
      "overflow": null,
      "overflow_x": null,
      "overflow_y": null,
      "padding": null,
      "right": null,
      "top": null,
      "visibility": null,
      "width": null
     }
    },
    "5c02077b26964952a5d147db12c769cd": {
     "model_module": "@jupyter-widgets/base",
     "model_name": "LayoutModel",
     "state": {
      "_model_module": "@jupyter-widgets/base",
      "_model_module_version": "1.2.0",
      "_model_name": "LayoutModel",
      "_view_count": null,
      "_view_module": "@jupyter-widgets/base",
      "_view_module_version": "1.2.0",
      "_view_name": "LayoutView",
      "align_content": null,
      "align_items": null,
      "align_self": null,
      "border": null,
      "bottom": null,
      "display": null,
      "flex": null,
      "flex_flow": null,
      "grid_area": null,
      "grid_auto_columns": null,
      "grid_auto_flow": null,
      "grid_auto_rows": null,
      "grid_column": null,
      "grid_gap": null,
      "grid_row": null,
      "grid_template_areas": null,
      "grid_template_columns": null,
      "grid_template_rows": null,
      "height": null,
      "justify_content": null,
      "justify_items": null,
      "left": null,
      "margin": null,
      "max_height": null,
      "max_width": null,
      "min_height": null,
      "min_width": null,
      "object_fit": null,
      "object_position": null,
      "order": null,
      "overflow": null,
      "overflow_x": null,
      "overflow_y": null,
      "padding": null,
      "right": null,
      "top": null,
      "visibility": null,
      "width": null
     }
    },
    "79bf74955a7a4cbe8b989b0cd8d0f47d": {
     "model_module": "@jupyter-widgets/base",
     "model_name": "LayoutModel",
     "state": {
      "_model_module": "@jupyter-widgets/base",
      "_model_module_version": "1.2.0",
      "_model_name": "LayoutModel",
      "_view_count": null,
      "_view_module": "@jupyter-widgets/base",
      "_view_module_version": "1.2.0",
      "_view_name": "LayoutView",
      "align_content": null,
      "align_items": null,
      "align_self": null,
      "border": null,
      "bottom": null,
      "display": null,
      "flex": null,
      "flex_flow": null,
      "grid_area": null,
      "grid_auto_columns": null,
      "grid_auto_flow": null,
      "grid_auto_rows": null,
      "grid_column": null,
      "grid_gap": null,
      "grid_row": null,
      "grid_template_areas": null,
      "grid_template_columns": null,
      "grid_template_rows": null,
      "height": null,
      "justify_content": null,
      "justify_items": null,
      "left": null,
      "margin": null,
      "max_height": null,
      "max_width": null,
      "min_height": null,
      "min_width": null,
      "object_fit": null,
      "object_position": null,
      "order": null,
      "overflow": null,
      "overflow_x": null,
      "overflow_y": null,
      "padding": null,
      "right": null,
      "top": null,
      "visibility": null,
      "width": null
     }
    },
    "7cfec9d01b27452882bf72ece0a9c859": {
     "model_module": "@jupyter-widgets/base",
     "model_name": "LayoutModel",
     "state": {
      "_model_module": "@jupyter-widgets/base",
      "_model_module_version": "1.2.0",
      "_model_name": "LayoutModel",
      "_view_count": null,
      "_view_module": "@jupyter-widgets/base",
      "_view_module_version": "1.2.0",
      "_view_name": "LayoutView",
      "align_content": null,
      "align_items": null,
      "align_self": null,
      "border": null,
      "bottom": null,
      "display": null,
      "flex": null,
      "flex_flow": null,
      "grid_area": null,
      "grid_auto_columns": null,
      "grid_auto_flow": null,
      "grid_auto_rows": null,
      "grid_column": null,
      "grid_gap": null,
      "grid_row": null,
      "grid_template_areas": null,
      "grid_template_columns": null,
      "grid_template_rows": null,
      "height": null,
      "justify_content": null,
      "justify_items": null,
      "left": null,
      "margin": null,
      "max_height": null,
      "max_width": null,
      "min_height": null,
      "min_width": null,
      "object_fit": null,
      "object_position": null,
      "order": null,
      "overflow": null,
      "overflow_x": null,
      "overflow_y": null,
      "padding": null,
      "right": null,
      "top": null,
      "visibility": null,
      "width": null
     }
    },
    "a2ca019a7bd24745895b6c15a5381480": {
     "model_module": "@jupyter-widgets/controls",
     "model_name": "ProgressStyleModel",
     "state": {
      "_model_module": "@jupyter-widgets/controls",
      "_model_module_version": "1.5.0",
      "_model_name": "ProgressStyleModel",
      "_view_count": null,
      "_view_module": "@jupyter-widgets/base",
      "_view_module_version": "1.2.0",
      "_view_name": "StyleView",
      "bar_color": null,
      "description_width": ""
     }
    },
    "bf45e29b3b7c424181b42b0c4a5ca6cb": {
     "model_module": "@jupyter-widgets/controls",
     "model_name": "HTMLModel",
     "state": {
      "_dom_classes": [],
      "_model_module": "@jupyter-widgets/controls",
      "_model_module_version": "1.5.0",
      "_model_name": "HTMLModel",
      "_view_count": null,
      "_view_module": "@jupyter-widgets/controls",
      "_view_module_version": "1.5.0",
      "_view_name": "HTMLView",
      "description": "",
      "description_tooltip": null,
      "layout": "IPY_MODEL_5c02077b26964952a5d147db12c769cd",
      "placeholder": "​",
      "style": "IPY_MODEL_1548a402449f45a396e8188821eba317",
      "value": "100% 33869/33869 [02:14&lt;00:00, 252.47it/s]"
     }
    },
    "c2339c3d76b149e482df09b704530969": {
     "model_module": "@jupyter-widgets/controls",
     "model_name": "HBoxModel",
     "state": {
      "_dom_classes": [],
      "_model_module": "@jupyter-widgets/controls",
      "_model_module_version": "1.5.0",
      "_model_name": "HBoxModel",
      "_view_count": null,
      "_view_module": "@jupyter-widgets/controls",
      "_view_module_version": "1.5.0",
      "_view_name": "HBoxView",
      "box_style": "",
      "children": [
       "IPY_MODEL_f5e2049ef22c4020854b7ce10f0e8acb",
       "IPY_MODEL_bf45e29b3b7c424181b42b0c4a5ca6cb"
      ],
      "layout": "IPY_MODEL_07372aa1169949d18d74c9acaf3653b8"
     }
    },
    "c936b5553a484849982121962c575751": {
     "model_module": "@jupyter-widgets/controls",
     "model_name": "DescriptionStyleModel",
     "state": {
      "_model_module": "@jupyter-widgets/controls",
      "_model_module_version": "1.5.0",
      "_model_name": "DescriptionStyleModel",
      "_view_count": null,
      "_view_module": "@jupyter-widgets/base",
      "_view_module_version": "1.2.0",
      "_view_name": "StyleView",
      "description_width": ""
     }
    },
    "cc4cac09efd446d0aa15518b06de3b45": {
     "model_module": "@jupyter-widgets/base",
     "model_name": "LayoutModel",
     "state": {
      "_model_module": "@jupyter-widgets/base",
      "_model_module_version": "1.2.0",
      "_model_name": "LayoutModel",
      "_view_count": null,
      "_view_module": "@jupyter-widgets/base",
      "_view_module_version": "1.2.0",
      "_view_name": "LayoutView",
      "align_content": null,
      "align_items": null,
      "align_self": null,
      "border": null,
      "bottom": null,
      "display": null,
      "flex": null,
      "flex_flow": null,
      "grid_area": null,
      "grid_auto_columns": null,
      "grid_auto_flow": null,
      "grid_auto_rows": null,
      "grid_column": null,
      "grid_gap": null,
      "grid_row": null,
      "grid_template_areas": null,
      "grid_template_columns": null,
      "grid_template_rows": null,
      "height": null,
      "justify_content": null,
      "justify_items": null,
      "left": null,
      "margin": null,
      "max_height": null,
      "max_width": null,
      "min_height": null,
      "min_width": null,
      "object_fit": null,
      "object_position": null,
      "order": null,
      "overflow": null,
      "overflow_x": null,
      "overflow_y": null,
      "padding": null,
      "right": null,
      "top": null,
      "visibility": null,
      "width": null
     }
    },
    "d50793e14e5d4b71b1b4ff53fe6b2730": {
     "model_module": "@jupyter-widgets/base",
     "model_name": "LayoutModel",
     "state": {
      "_model_module": "@jupyter-widgets/base",
      "_model_module_version": "1.2.0",
      "_model_name": "LayoutModel",
      "_view_count": null,
      "_view_module": "@jupyter-widgets/base",
      "_view_module_version": "1.2.0",
      "_view_name": "LayoutView",
      "align_content": null,
      "align_items": null,
      "align_self": null,
      "border": null,
      "bottom": null,
      "display": null,
      "flex": null,
      "flex_flow": null,
      "grid_area": null,
      "grid_auto_columns": null,
      "grid_auto_flow": null,
      "grid_auto_rows": null,
      "grid_column": null,
      "grid_gap": null,
      "grid_row": null,
      "grid_template_areas": null,
      "grid_template_columns": null,
      "grid_template_rows": null,
      "height": null,
      "justify_content": null,
      "justify_items": null,
      "left": null,
      "margin": null,
      "max_height": null,
      "max_width": null,
      "min_height": null,
      "min_width": null,
      "object_fit": null,
      "object_position": null,
      "order": null,
      "overflow": null,
      "overflow_x": null,
      "overflow_y": null,
      "padding": null,
      "right": null,
      "top": null,
      "visibility": null,
      "width": null
     }
    },
    "db0447652d2749cc860321a66bcefaa8": {
     "model_module": "@jupyter-widgets/controls",
     "model_name": "DescriptionStyleModel",
     "state": {
      "_model_module": "@jupyter-widgets/controls",
      "_model_module_version": "1.5.0",
      "_model_name": "DescriptionStyleModel",
      "_view_count": null,
      "_view_module": "@jupyter-widgets/base",
      "_view_module_version": "1.2.0",
      "_view_name": "StyleView",
      "description_width": ""
     }
    },
    "df9e9d6d52a94980a4191f7e4c011fbd": {
     "model_module": "@jupyter-widgets/controls",
     "model_name": "HTMLModel",
     "state": {
      "_dom_classes": [],
      "_model_module": "@jupyter-widgets/controls",
      "_model_module_version": "1.5.0",
      "_model_name": "HTMLModel",
      "_view_count": null,
      "_view_module": "@jupyter-widgets/controls",
      "_view_module_version": "1.5.0",
      "_view_name": "HTMLView",
      "description": "",
      "description_tooltip": null,
      "layout": "IPY_MODEL_d50793e14e5d4b71b1b4ff53fe6b2730",
      "placeholder": "​",
      "style": "IPY_MODEL_db0447652d2749cc860321a66bcefaa8",
      "value": "100% 33869/33869 [00:08&lt;00:00, 4178.78it/s]"
     }
    },
    "df9fa48b7894432d960d49f51209f94a": {
     "model_module": "@jupyter-widgets/controls",
     "model_name": "HTMLModel",
     "state": {
      "_dom_classes": [],
      "_model_module": "@jupyter-widgets/controls",
      "_model_module_version": "1.5.0",
      "_model_name": "HTMLModel",
      "_view_count": null,
      "_view_module": "@jupyter-widgets/controls",
      "_view_module_version": "1.5.0",
      "_view_name": "HTMLView",
      "description": "",
      "description_tooltip": null,
      "layout": "IPY_MODEL_32269e2b726f4d9786bce402c2b78de9",
      "placeholder": "​",
      "style": "IPY_MODEL_c936b5553a484849982121962c575751",
      "value": "100% 100/100 [00:15&lt;00:00,  6.78it/s]"
     }
    },
    "e5ad8ef27e224077a4d285212290021a": {
     "model_module": "@jupyter-widgets/base",
     "model_name": "LayoutModel",
     "state": {
      "_model_module": "@jupyter-widgets/base",
      "_model_module_version": "1.2.0",
      "_model_name": "LayoutModel",
      "_view_count": null,
      "_view_module": "@jupyter-widgets/base",
      "_view_module_version": "1.2.0",
      "_view_name": "LayoutView",
      "align_content": null,
      "align_items": null,
      "align_self": null,
      "border": null,
      "bottom": null,
      "display": null,
      "flex": null,
      "flex_flow": null,
      "grid_area": null,
      "grid_auto_columns": null,
      "grid_auto_flow": null,
      "grid_auto_rows": null,
      "grid_column": null,
      "grid_gap": null,
      "grid_row": null,
      "grid_template_areas": null,
      "grid_template_columns": null,
      "grid_template_rows": null,
      "height": null,
      "justify_content": null,
      "justify_items": null,
      "left": null,
      "margin": null,
      "max_height": null,
      "max_width": null,
      "min_height": null,
      "min_width": null,
      "object_fit": null,
      "object_position": null,
      "order": null,
      "overflow": null,
      "overflow_x": null,
      "overflow_y": null,
      "padding": null,
      "right": null,
      "top": null,
      "visibility": null,
      "width": null
     }
    },
    "f04f597f016c490b8486bbf153800882": {
     "model_module": "@jupyter-widgets/controls",
     "model_name": "ProgressStyleModel",
     "state": {
      "_model_module": "@jupyter-widgets/controls",
      "_model_module_version": "1.5.0",
      "_model_name": "ProgressStyleModel",
      "_view_count": null,
      "_view_module": "@jupyter-widgets/base",
      "_view_module_version": "1.2.0",
      "_view_name": "StyleView",
      "bar_color": null,
      "description_width": ""
     }
    },
    "f3f8bec33ea64cc9a2dd74035dfd2604": {
     "model_module": "@jupyter-widgets/controls",
     "model_name": "ProgressStyleModel",
     "state": {
      "_model_module": "@jupyter-widgets/controls",
      "_model_module_version": "1.5.0",
      "_model_name": "ProgressStyleModel",
      "_view_count": null,
      "_view_module": "@jupyter-widgets/base",
      "_view_module_version": "1.2.0",
      "_view_name": "StyleView",
      "bar_color": null,
      "description_width": ""
     }
    },
    "f5e2049ef22c4020854b7ce10f0e8acb": {
     "model_module": "@jupyter-widgets/controls",
     "model_name": "IntProgressModel",
     "state": {
      "_dom_classes": [],
      "_model_module": "@jupyter-widgets/controls",
      "_model_module_version": "1.5.0",
      "_model_name": "IntProgressModel",
      "_view_count": null,
      "_view_module": "@jupyter-widgets/controls",
      "_view_module_version": "1.5.0",
      "_view_name": "ProgressView",
      "bar_style": "success",
      "description": "",
      "description_tooltip": null,
      "layout": "IPY_MODEL_cc4cac09efd446d0aa15518b06de3b45",
      "max": 33869,
      "min": 0,
      "orientation": "horizontal",
      "style": "IPY_MODEL_a2ca019a7bd24745895b6c15a5381480",
      "value": 33869
     }
    }
   }
  }
 },
 "nbformat": 4,
 "nbformat_minor": 1
}
