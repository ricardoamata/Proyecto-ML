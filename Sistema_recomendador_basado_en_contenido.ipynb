{
 "cells": [
  {
   "cell_type": "markdown",
   "metadata": {
    "colab_type": "text",
    "id": "X_E_tXe4xR40"
   },
   "source": [
    "# Proyecto ML"
   ]
  },
  {
   "cell_type": "markdown",
   "metadata": {
    "colab_type": "text",
    "id": "lhVM8Te9xR44"
   },
   "source": [
    "## Wikipedia Movie Plots"
   ]
  },
  {
   "cell_type": "markdown",
   "metadata": {
    "colab_type": "text",
    "id": "_DHVWWtYxR46"
   },
   "source": [
    "Importa las librarías que se usaran"
   ]
  },
  {
   "cell_type": "code",
   "execution_count": 0,
   "metadata": {
    "colab": {},
    "colab_type": "code",
    "id": "IkX5YMOlxR47",
    "scrolled": false
   },
   "outputs": [],
   "source": [
    "import os\n",
    "os.environ['TF_CPP_MIN_LOG_LEVEL'] = '3'\n",
    "\n",
    "import re\n",
    "import random\n",
    "import numpy as np\n",
    "import pandas as pd\n",
    "import matplotlib.pyplot as plt\n",
    "\n",
    "np.warnings.filterwarnings('ignore')\n",
    "\n",
    "import nltk\n",
    "from nltk import word_tokenize, sent_tokenize\n",
    "from nltk.stem import WordNetLemmatizer\n",
    "\n",
    "from sklearn.model_selection import train_test_split\n",
    "\n",
    "import tensorflow as tf\n",
    "import tensorflow.compat.v1 as tfv1\n",
    "import tensorflow_hub as hub\n",
    "\n",
    "tf.logging.set_verbosity(tf.logging.ERROR)\n",
    "\n",
    "from tqdm import tqdm_notebook as tqdm"
   ]
  },
  {
   "cell_type": "markdown",
   "metadata": {
    "colab_type": "text",
    "id": "7E9hzGQkxR5B"
   },
   "source": [
    "Carga los datos (Wikipedia Movie Plots https://www.kaggle.com/jrobischon/wikipedia-movie-plots, Movie Lens: https://grouplens.org/datasets/movielens/)"
   ]
  },
  {
   "cell_type": "code",
   "execution_count": 0,
   "metadata": {
    "colab": {
     "base_uri": "https://localhost:8080/",
     "height": 35
    },
    "colab_type": "code",
    "id": "oqj1tvGQxR5D",
    "outputId": "6ff14f32-4e30-4f4f-d3fc-f0906de79e5e"
   },
   "outputs": [
    {
     "data": {
      "text/plain": [
       "(33869, 8)"
      ]
     },
     "execution_count": 3,
     "metadata": {
      "tags": []
     },
     "output_type": "execute_result"
    }
   ],
   "source": [
    "wiki_plots = pd.read_csv(\"wiki_movie_plots_deduped.csv\")\n",
    "wiki_plots.rename(columns={'Origin/Ethnicity':'Origin'}, inplace=True) # para mayor comodidad\n",
    "wiki_plots = wiki_plots.drop_duplicates(subset='Plot', keep='first')\n",
    "wiki_plots.shape"
   ]
  },
  {
   "cell_type": "markdown",
   "metadata": {
    "colab_type": "text",
    "id": "MTnrzZctxR5R"
   },
   "source": [
    "### Descripción de las columnas\n",
    "\n",
    "La base de datos contiene descripciones para 34,886 películas de todo el mundo. las columnas son las siguientes:\n",
    "\n",
    "- Release Year - Año en que se estreno la película\n",
    "- Title - Titulo de la película\n",
    "- Origin/Ethnicity - Origen de la pelicula (e.g. America, Bollywood, Tamil, etc)\n",
    "- Director - Director(s)\n",
    "- Cast - Actores y actrices principales\n",
    "- Genre - Genero(s) de la película\n",
    "- Wiki Page - URL de la pagina de Wikipedia de la cual la descripción de la trama fue tomada\n",
    "- Plot - descripción larga de la trama de la película (ADVERTENCIA: puede contener espoilers)"
   ]
  },
  {
   "cell_type": "code",
   "execution_count": 0,
   "metadata": {
    "colab": {
     "base_uri": "https://localhost:8080/",
     "height": 287
    },
    "colab_type": "code",
    "id": "5J_HWOWNxR5S",
    "outputId": "d571e3f5-8643-4924-edaa-2ac2ade9c3f8",
    "scrolled": true
   },
   "outputs": [
    {
     "name": "stdout",
     "output_type": "stream",
     "text": [
      "<class 'pandas.core.frame.DataFrame'>\n",
      "Int64Index: 33869 entries, 0 to 34885\n",
      "Data columns (total 10 columns):\n",
      "Release Year     33869 non-null int64\n",
      "Title            33869 non-null object\n",
      "Origin           33869 non-null object\n",
      "Director         33869 non-null object\n",
      "Cast             32554 non-null object\n",
      "Genre            33869 non-null object\n",
      "Wiki Page        33869 non-null object\n",
      "Plot             33869 non-null object\n",
      "FormattedPlot    33869 non-null object\n",
      "EmbeddingPlot    33869 non-null object\n",
      "dtypes: int64(1), object(9)\n",
      "memory usage: 2.8+ MB\n"
     ]
    }
   ],
   "source": [
    "wiki_plots.info()"
   ]
  },
  {
   "cell_type": "markdown",
   "metadata": {
    "colab_type": "text",
    "id": "TVyujugFxR6n"
   },
   "source": [
    "Limpieza de los textos"
   ]
  },
  {
   "cell_type": "code",
   "execution_count": 0,
   "metadata": {
    "colab": {},
    "colab_type": "code",
    "id": "zQeHrCP2xR6v"
   },
   "outputs": [],
   "source": [
    "def clean_text(text):\n",
    "    \"\"\"\n",
    "    This function is taken from:\n",
    "    https://www.kaggle.com/aminejallouli/genre-classification-based-on-wiki-movies-plots\n",
    "    \"\"\"\n",
    "    text = text.lower()\n",
    "    text = re.sub(r\"what's\", \"what is \", text)\n",
    "    text = re.sub(r\"\\'s\", \"\", text)\n",
    "    text = re.sub(r\"\\'ve\", \" have \", text)\n",
    "    text = re.sub(r\"can't\", \"can not \", text)\n",
    "    text = re.sub(r\"n't\", \" not \", text)\n",
    "    text = re.sub(r\"i'm\", \"i am \", text)\n",
    "    text = re.sub(r\"\\'re\", \" are \", text)\n",
    "    text = re.sub(r\"\\'d\", \" would \", text)\n",
    "    text = re.sub(r\"\\'ll\", \" will \", text)\n",
    "    text = re.sub(r\"\\'scuse\", \" excuse \", text)\n",
    "    text = re.sub(r\"\\[\\d+\\]\", \"\", text)\n",
    "    text = re.sub('[%s\\d]' % re.escape(\"\"\"!\"#$%&'()*+,-.:;<=>?@[\\]^`{|}~\"\"\"), \"\", text)\n",
    "    text = re.sub(r\"[-\\n]\", \" \", text)\n",
    "    text = text.strip(' ')\n",
    "    return text"
   ]
  },
  {
   "cell_type": "code",
   "execution_count": 0,
   "metadata": {
    "colab": {},
    "colab_type": "code",
    "id": "q61-dvObxR6z"
   },
   "outputs": [],
   "source": [
    "wiki_plots['FormattedPlot'] = wiki_plots['Plot'].apply(clean_text)"
   ]
  },
  {
   "cell_type": "markdown",
   "metadata": {
    "colab_type": "text",
    "id": "N68_9VHFxR7T"
   },
   "source": [
    "## Codificación de las tramas en vectores densos\n",
    "\n",
    "Aqui realizaremos una pequeña prueba para ver el poder de la los vectores codificados, buscando películas similares usando la distancia coseno"
   ]
  },
  {
   "cell_type": "markdown",
   "metadata": {
    "colab_type": "text",
    "id": "C2p6h6HT_NJx"
   },
   "source": [
    "Función para codificar las tramas en vectores densos de 512"
   ]
  },
  {
   "cell_type": "code",
   "execution_count": 0,
   "metadata": {
    "colab": {},
    "colab_type": "code",
    "id": "vzOPqsMWxR7U"
   },
   "outputs": [],
   "source": [
    "def get_embeddings(tokenized_sents):\n",
    "    embed_list = []\n",
    "    with tfv1.Graph().as_default():\n",
    "        print(\"Downloading the model\")\n",
    "        embed = hub.Module(\"https://tfhub.dev/google/universal-sentence-encoder/2\")\n",
    "        print(\"Processing plots\")\n",
    "        messages = tfv1.placeholder(dtype=tf.string, shape=[None])\n",
    "        embed_list = []\n",
    "        embedding = embed(messages)\n",
    "        embedding_mean = tfv1.math.reduce_mean(embedding, axis=0)\n",
    "        normalized_embedding = tfv1.nn.l2_normalize(embedding_mean, 0)\n",
    "        with tfv1.Session() as session:\n",
    "            session.run([tfv1.global_variables_initializer(), tfv1.tables_initializer()])\n",
    "            for sent in tqdm(tokenized_sents):\n",
    "                output = session.run(embedding_mean, feed_dict={messages: sent})\n",
    "                # this is slow\n",
    "                # encoded_plot = session.run(tfv1.math.reduce_mean(output, axis=0))\n",
    "                embed_list.append(output.reshape(-1,1))\n",
    "    return embed_list"
   ]
  },
  {
   "cell_type": "code",
   "execution_count": 0,
   "metadata": {
    "colab": {
     "base_uri": "https://localhost:8080/",
     "height": 171,
     "referenced_widgets": [
      "f4e8eb6d8d974129b1f964661db2041e",
      "bed8dffae76c4fe397d59290983d5ae9",
      "50c41a6aba7e41939455e682a057949a",
      "491f41f146a942b0a3a870ee0e20fdce",
      "9c02464eed6247d989277e830db2729d",
      "0f12a5b62e4747a5a0ef8a4f64dde7aa",
      "c96ebbc156644107908b32c955c67a73",
      "c40aad93165c4899a401bab3b74d24be",
      "ef5525ba9f5e4cae906c9da86f4a08ee",
      "7848e5ccc80c4d0ea415984bb4d07a93",
      "76a4977b6e41439a9a2369ca703a82ba",
      "2eb7ed1babe94e0884183327d7a59b04",
      "e788ae7a56ae4ccc88d3c902bd72c1bd",
      "dd46191570644162b2fce6678c65a11a",
      "8cd85bf099f34375bd3c5ae1351a70b9",
      "2dc93488f3c249688ddec0c2581c2bb9"
     ]
    },
    "colab_type": "code",
    "id": "xtzssRD6xR7Y",
    "outputId": "1c3ca28e-44c3-4fdc-8185-499209ad1978"
   },
   "outputs": [
    {
     "name": "stdout",
     "output_type": "stream",
     "text": [
      "Tokenizig sentences in the plots\n"
     ]
    },
    {
     "data": {
      "application/vnd.jupyter.widget-view+json": {
       "model_id": "f4e8eb6d8d974129b1f964661db2041e",
       "version_major": 2,
       "version_minor": 0
      },
      "text/plain": [
       "HBox(children=(IntProgress(value=0, max=33869), HTML(value='')))"
      ]
     },
     "metadata": {
      "tags": []
     },
     "output_type": "display_data"
    },
    {
     "name": "stdout",
     "output_type": "stream",
     "text": [
      "\n",
      "Downloading the model\n",
      "Processing plots\n"
     ]
    },
    {
     "data": {
      "application/vnd.jupyter.widget-view+json": {
       "model_id": "ef5525ba9f5e4cae906c9da86f4a08ee",
       "version_major": 2,
       "version_minor": 0
      },
      "text/plain": [
       "HBox(children=(IntProgress(value=0, max=33869), HTML(value='')))"
      ]
     },
     "metadata": {
      "tags": []
     },
     "output_type": "display_data"
    },
    {
     "name": "stdout",
     "output_type": "stream",
     "text": [
      "\n"
     ]
    }
   ],
   "source": [
    "print(\"Tokenizig sentences in the plots\")\n",
    "tokenized_sents = []\n",
    "for movie_plot in tqdm(wiki_plots['FormattedPlot']):\n",
    "    sent = sent_tokenize(movie_plot)\n",
    "    tokenized_sents.append(sent)\n",
    "\n",
    "embed_list = get_embeddings(tokenized_sents)"
   ]
  },
  {
   "cell_type": "code",
   "execution_count": 0,
   "metadata": {
    "colab": {},
    "colab_type": "code",
    "id": "Is2J3-MU-7aQ"
   },
   "outputs": [],
   "source": [
    "wiki_plots['EmbeddingPlot'] = embed_list"
   ]
  },
  {
   "cell_type": "markdown",
   "metadata": {
    "colab_type": "text",
    "id": "htXakyls_ajx"
   },
   "source": [
    "Busquedad de peliculas similares usando la distancia coseno"
   ]
  },
  {
   "cell_type": "code",
   "execution_count": 0,
   "metadata": {
    "colab": {},
    "colab_type": "code",
    "id": "CkM3QHbMxR7c"
   },
   "outputs": [],
   "source": [
    "def get_similar_movies(embedding_plot, embeddings, titles, min_similarity=0.5):\n",
    "    similar_movies = []\n",
    "    embeddings = np.array(embeddings.tolist()).squeeze()\n",
    "    with tfv1.Session() as session:\n",
    "        vec1 = tfv1.placeholder(dtype=tf.float32, shape=(None, 512), name=\"vec1\")\n",
    "        vec2 = tfv1.placeholder(dtype=tf.float32, shape=(512, 1), name=\"vec2\")\n",
    "\n",
    "        cos_similarity = tf.matmul(vec1, vec2)\n",
    "\n",
    "        similarities = session.run(cos_similarity, feed_dict={vec1: embeddings, vec2: embedding_plot})\n",
    "        similarities = [x for x in zip(similarities, titles) if x[0] > min_similarity]\n",
    "        similarities.sort(key=lambda x: x[0], reverse=True)\n",
    "        similarities.pop(0)\n",
    "        similar_movies = [title for (_, title) in similarities]\n",
    "    return similar_movies"
   ]
  },
  {
   "cell_type": "markdown",
   "metadata": {
    "colab_type": "text",
    "id": "sVWPjC5ECVF1"
   },
   "source": [
    "Busqueda de peliculas similares a \"The Chronicles of Narnia: The Lion, the Witch and the Wardrobe\""
   ]
  },
  {
   "cell_type": "code",
   "execution_count": 0,
   "metadata": {
    "colab": {
     "base_uri": "https://localhost:8080/",
     "height": 54
    },
    "colab_type": "code",
    "id": "tHyjs03V-FZc",
    "outputId": "5993b5f2-02ae-4455-dcf5-3e2407feed9a"
   },
   "outputs": [
    {
     "name": "stdout",
     "output_type": "stream",
     "text": [
      "['Troll', 'Jack the Giant Killer', 'The Witches', 'Hansel & Gretel: Witch Hunters', \"Happily N'Ever After\", 'Inkheart', 'Snow White & the Huntsman', 'The Devil Rides Out', 'The Raven', 'Hocus Pocus', 'The Wizard of Oz', 'A Simple Wish', 'Mirror Mirror', 'The Chronicles of Narnia: Prince Caspian', 'Just Visiting', 'Howling II', 'The Spiderwick Chronicles', 'Tom Thumb', 'The Chronicles of Narnia: The Voyage of the Dawn Treader', 'The Wicker Man', 'The Swan Princess', 'The Maze', 'Cry of the Banshee', 'Pan', 'The Brothers Grimm', 'Peter Pan', 'Snow White and the Three Stooges', 'Leprechaun: Origins', 'The City of the Dead', 'The Vampire Lovers', \"Mary and the Witch's Flower\", 'The Haunted Palace', 'Black Cauldron, The', 'Happily Ever After', 'Dracula: Prince of Darkness', 'Lesbian Vampire Killers', 'Sleeping Beauty', 'Snow White: A Tale of Terror', ' Ella Enchanted', 'The Swan Princess Christmas']\n"
     ]
    }
   ],
   "source": [
    "embed_plot = wiki_plots.query('Title == \"The Chronicles of Narnia: The Lion, the Witch and the Wardrobe\"').iloc[0]['EmbeddingPlot']\n",
    "print(get_similar_movies(embed_plot, wiki_plots['EmbeddingPlot'].values, wiki_plots['Title'], min_similarity=0.8))"
   ]
  },
  {
   "cell_type": "markdown",
   "metadata": {
    "colab_type": "text",
    "id": "LrTffPhzCbyF"
   },
   "source": [
    "## Sistema de recomendación\n",
    "\n",
    "despues de la prueba con las tramas codificadas es hora de un sistema mas sofisticado, para ello utilizaremos otro dataset, el cual contiene datos de cerca de 150 mil usuarios que han calificado mas de 25 mil películas"
   ]
  },
  {
   "cell_type": "code",
   "execution_count": 0,
   "metadata": {
    "colab": {},
    "colab_type": "code",
    "id": "jLREsGyhxR8C"
   },
   "outputs": [],
   "source": [
    "movie_lens = pd.read_csv('movies.csv')\n",
    "ratings = pd.read_csv('ratings.csv')\n",
    "movie_lens = movie_lens.drop_duplicates(subset='title', keep='first')"
   ]
  },
  {
   "cell_type": "code",
   "execution_count": 0,
   "metadata": {
    "colab": {
     "base_uri": "https://localhost:8080/",
     "height": 359
    },
    "colab_type": "code",
    "id": "zaHMkQbkolsm",
    "outputId": "d7c5e494-5378-4978-97b1-81fe2f409e4f"
   },
   "outputs": [
    {
     "data": {
      "text/html": [
       "<div>\n",
       "<style scoped>\n",
       "    .dataframe tbody tr th:only-of-type {\n",
       "        vertical-align: middle;\n",
       "    }\n",
       "\n",
       "    .dataframe tbody tr th {\n",
       "        vertical-align: top;\n",
       "    }\n",
       "\n",
       "    .dataframe thead th {\n",
       "        text-align: right;\n",
       "    }\n",
       "</style>\n",
       "<table border=\"1\" class=\"dataframe\">\n",
       "  <thead>\n",
       "    <tr style=\"text-align: right;\">\n",
       "      <th></th>\n",
       "      <th>userId</th>\n",
       "      <th>movieId</th>\n",
       "      <th>rating</th>\n",
       "      <th>timestamp</th>\n",
       "    </tr>\n",
       "  </thead>\n",
       "  <tbody>\n",
       "    <tr>\n",
       "      <th>0</th>\n",
       "      <td>1</td>\n",
       "      <td>296</td>\n",
       "      <td>5.0</td>\n",
       "      <td>1147880044</td>\n",
       "    </tr>\n",
       "    <tr>\n",
       "      <th>1</th>\n",
       "      <td>1</td>\n",
       "      <td>306</td>\n",
       "      <td>3.5</td>\n",
       "      <td>1147868817</td>\n",
       "    </tr>\n",
       "    <tr>\n",
       "      <th>2</th>\n",
       "      <td>1</td>\n",
       "      <td>307</td>\n",
       "      <td>5.0</td>\n",
       "      <td>1147868828</td>\n",
       "    </tr>\n",
       "    <tr>\n",
       "      <th>3</th>\n",
       "      <td>1</td>\n",
       "      <td>665</td>\n",
       "      <td>5.0</td>\n",
       "      <td>1147878820</td>\n",
       "    </tr>\n",
       "    <tr>\n",
       "      <th>4</th>\n",
       "      <td>1</td>\n",
       "      <td>899</td>\n",
       "      <td>3.5</td>\n",
       "      <td>1147868510</td>\n",
       "    </tr>\n",
       "    <tr>\n",
       "      <th>5</th>\n",
       "      <td>1</td>\n",
       "      <td>1088</td>\n",
       "      <td>4.0</td>\n",
       "      <td>1147868495</td>\n",
       "    </tr>\n",
       "    <tr>\n",
       "      <th>6</th>\n",
       "      <td>1</td>\n",
       "      <td>1175</td>\n",
       "      <td>3.5</td>\n",
       "      <td>1147868826</td>\n",
       "    </tr>\n",
       "    <tr>\n",
       "      <th>7</th>\n",
       "      <td>1</td>\n",
       "      <td>1217</td>\n",
       "      <td>3.5</td>\n",
       "      <td>1147878326</td>\n",
       "    </tr>\n",
       "    <tr>\n",
       "      <th>8</th>\n",
       "      <td>1</td>\n",
       "      <td>1237</td>\n",
       "      <td>5.0</td>\n",
       "      <td>1147868839</td>\n",
       "    </tr>\n",
       "    <tr>\n",
       "      <th>9</th>\n",
       "      <td>1</td>\n",
       "      <td>1250</td>\n",
       "      <td>4.0</td>\n",
       "      <td>1147868414</td>\n",
       "    </tr>\n",
       "  </tbody>\n",
       "</table>\n",
       "</div>"
      ],
      "text/plain": [
       "   userId  movieId  rating   timestamp\n",
       "0       1      296     5.0  1147880044\n",
       "1       1      306     3.5  1147868817\n",
       "2       1      307     5.0  1147868828\n",
       "3       1      665     5.0  1147878820\n",
       "4       1      899     3.5  1147868510\n",
       "5       1     1088     4.0  1147868495\n",
       "6       1     1175     3.5  1147868826\n",
       "7       1     1217     3.5  1147878326\n",
       "8       1     1237     5.0  1147868839\n",
       "9       1     1250     4.0  1147868414"
      ]
     },
     "execution_count": 11,
     "metadata": {
      "tags": []
     },
     "output_type": "execute_result"
    }
   ],
   "source": [
    "ratings.head(10)"
   ]
  },
  {
   "cell_type": "markdown",
   "metadata": {
    "colab_type": "text",
    "id": "Dt4aH9Qf-Fmq"
   },
   "source": [
    "removemos el año del titulo de cada película"
   ]
  },
  {
   "cell_type": "code",
   "execution_count": 0,
   "metadata": {
    "colab": {
     "base_uri": "https://localhost:8080/",
     "height": 359
    },
    "colab_type": "code",
    "id": "EgQdyqK9ouD6",
    "outputId": "b63e4a74-148b-45a5-e2c8-4623e323a1ad"
   },
   "outputs": [
    {
     "data": {
      "text/html": [
       "<div>\n",
       "<style scoped>\n",
       "    .dataframe tbody tr th:only-of-type {\n",
       "        vertical-align: middle;\n",
       "    }\n",
       "\n",
       "    .dataframe tbody tr th {\n",
       "        vertical-align: top;\n",
       "    }\n",
       "\n",
       "    .dataframe thead th {\n",
       "        text-align: right;\n",
       "    }\n",
       "</style>\n",
       "<table border=\"1\" class=\"dataframe\">\n",
       "  <thead>\n",
       "    <tr style=\"text-align: right;\">\n",
       "      <th></th>\n",
       "      <th>movieId</th>\n",
       "      <th>Title</th>\n",
       "      <th>genres</th>\n",
       "    </tr>\n",
       "  </thead>\n",
       "  <tbody>\n",
       "    <tr>\n",
       "      <th>0</th>\n",
       "      <td>1</td>\n",
       "      <td>Toy Story</td>\n",
       "      <td>Adventure|Animation|Children|Comedy|Fantasy</td>\n",
       "    </tr>\n",
       "    <tr>\n",
       "      <th>1</th>\n",
       "      <td>2</td>\n",
       "      <td>Jumanji</td>\n",
       "      <td>Adventure|Children|Fantasy</td>\n",
       "    </tr>\n",
       "    <tr>\n",
       "      <th>2</th>\n",
       "      <td>3</td>\n",
       "      <td>Grumpier Old Men</td>\n",
       "      <td>Comedy|Romance</td>\n",
       "    </tr>\n",
       "    <tr>\n",
       "      <th>3</th>\n",
       "      <td>4</td>\n",
       "      <td>Waiting to Exhale</td>\n",
       "      <td>Comedy|Drama|Romance</td>\n",
       "    </tr>\n",
       "    <tr>\n",
       "      <th>4</th>\n",
       "      <td>5</td>\n",
       "      <td>Father of the Bride Part II</td>\n",
       "      <td>Comedy</td>\n",
       "    </tr>\n",
       "    <tr>\n",
       "      <th>5</th>\n",
       "      <td>6</td>\n",
       "      <td>Heat</td>\n",
       "      <td>Action|Crime|Thriller</td>\n",
       "    </tr>\n",
       "    <tr>\n",
       "      <th>6</th>\n",
       "      <td>7</td>\n",
       "      <td>Sabrina</td>\n",
       "      <td>Comedy|Romance</td>\n",
       "    </tr>\n",
       "    <tr>\n",
       "      <th>7</th>\n",
       "      <td>8</td>\n",
       "      <td>Tom and Huck</td>\n",
       "      <td>Adventure|Children</td>\n",
       "    </tr>\n",
       "    <tr>\n",
       "      <th>8</th>\n",
       "      <td>9</td>\n",
       "      <td>Sudden Death</td>\n",
       "      <td>Action</td>\n",
       "    </tr>\n",
       "    <tr>\n",
       "      <th>9</th>\n",
       "      <td>10</td>\n",
       "      <td>GoldenEye</td>\n",
       "      <td>Action|Adventure|Thriller</td>\n",
       "    </tr>\n",
       "  </tbody>\n",
       "</table>\n",
       "</div>"
      ],
      "text/plain": [
       "   movieId  ...                                       genres\n",
       "0        1  ...  Adventure|Animation|Children|Comedy|Fantasy\n",
       "1        2  ...                   Adventure|Children|Fantasy\n",
       "2        3  ...                               Comedy|Romance\n",
       "3        4  ...                         Comedy|Drama|Romance\n",
       "4        5  ...                                       Comedy\n",
       "5        6  ...                        Action|Crime|Thriller\n",
       "6        7  ...                               Comedy|Romance\n",
       "7        8  ...                           Adventure|Children\n",
       "8        9  ...                                       Action\n",
       "9       10  ...                    Action|Adventure|Thriller\n",
       "\n",
       "[10 rows x 3 columns]"
      ]
     },
     "execution_count": 12,
     "metadata": {
      "tags": []
     },
     "output_type": "execute_result"
    }
   ],
   "source": [
    "clear_title = lambda x: re.sub(r' \\(\\d{4}\\)', '', x)\n",
    "movie_lens['title'] = movie_lens['title'].apply(clear_title)\n",
    "movie_lens.rename(columns={'title':'Title'}, inplace=True)\n",
    "movie_lens.head(10)"
   ]
  },
  {
   "cell_type": "markdown",
   "metadata": {
    "colab_type": "text",
    "id": "760ESyKL-QXd"
   },
   "source": [
    "Filtramos solo las películas que se encuentran en ambos datasets y concatenamos los embeddings a moviel_lens"
   ]
  },
  {
   "cell_type": "code",
   "execution_count": 0,
   "metadata": {
    "colab": {},
    "colab_type": "code",
    "id": "Y8rWglq8jYqi"
   },
   "outputs": [],
   "source": [
    "movie_lens_reduced = movie_lens.merge(wiki_plots[['Title', 'EmbeddingPlot']], on='Title')\n",
    "movie_lens_reduced = movie_lens_reduced.drop_duplicates(subset='Title', keep='first')"
   ]
  },
  {
   "cell_type": "markdown",
   "metadata": {
    "colab_type": "text",
    "id": "8LFTLU9Y-a0P"
   },
   "source": [
    "En esta parte hacemos reset a los indices de las películas, ya que despues de filtrar puede que hayan sido removidos algunos indices"
   ]
  },
  {
   "cell_type": "code",
   "execution_count": 0,
   "metadata": {
    "colab": {
     "base_uri": "https://localhost:8080/",
     "height": 589
    },
    "colab_type": "code",
    "id": "QerfOwOQYuSU",
    "outputId": "aa91ee00-9af9-401b-8732-fb54860d224a"
   },
   "outputs": [
    {
     "data": {
      "text/html": [
       "<div>\n",
       "<style scoped>\n",
       "    .dataframe tbody tr th:only-of-type {\n",
       "        vertical-align: middle;\n",
       "    }\n",
       "\n",
       "    .dataframe tbody tr th {\n",
       "        vertical-align: top;\n",
       "    }\n",
       "\n",
       "    .dataframe thead th {\n",
       "        text-align: right;\n",
       "    }\n",
       "</style>\n",
       "<table border=\"1\" class=\"dataframe\">\n",
       "  <thead>\n",
       "    <tr style=\"text-align: right;\">\n",
       "      <th></th>\n",
       "      <th>movieId</th>\n",
       "      <th>Title</th>\n",
       "      <th>genres</th>\n",
       "      <th>EmbeddingPlot</th>\n",
       "    </tr>\n",
       "  </thead>\n",
       "  <tbody>\n",
       "    <tr>\n",
       "      <th>0</th>\n",
       "      <td>0</td>\n",
       "      <td>Toy Story</td>\n",
       "      <td>Adventure|Animation|Children|Comedy|Fantasy</td>\n",
       "      <td>[[0.007755052], [0.0117758075], [-0.04774074],...</td>\n",
       "    </tr>\n",
       "    <tr>\n",
       "      <th>1</th>\n",
       "      <td>1</td>\n",
       "      <td>Jumanji</td>\n",
       "      <td>Adventure|Children|Fantasy</td>\n",
       "      <td>[[-0.056118418], [0.041826643], [-0.027685331]...</td>\n",
       "    </tr>\n",
       "    <tr>\n",
       "      <th>2</th>\n",
       "      <td>2</td>\n",
       "      <td>Grumpier Old Men</td>\n",
       "      <td>Comedy|Romance</td>\n",
       "      <td>[[-0.031014366], [0.027537223], [-0.030267373]...</td>\n",
       "    </tr>\n",
       "    <tr>\n",
       "      <th>3</th>\n",
       "      <td>3</td>\n",
       "      <td>Waiting to Exhale</td>\n",
       "      <td>Comedy|Drama|Romance</td>\n",
       "      <td>[[-0.002458289], [0.022208316], [-0.0334218], ...</td>\n",
       "    </tr>\n",
       "    <tr>\n",
       "      <th>4</th>\n",
       "      <td>4</td>\n",
       "      <td>Father of the Bride Part II</td>\n",
       "      <td>Comedy</td>\n",
       "      <td>[[-0.043547787], [0.022245584], [-0.008738409]...</td>\n",
       "    </tr>\n",
       "    <tr>\n",
       "      <th>...</th>\n",
       "      <td>...</td>\n",
       "      <td>...</td>\n",
       "      <td>...</td>\n",
       "      <td>...</td>\n",
       "    </tr>\n",
       "    <tr>\n",
       "      <th>19429</th>\n",
       "      <td>13839</td>\n",
       "      <td>Kaithi</td>\n",
       "      <td>Action|Thriller</td>\n",
       "      <td>[[-0.05050796], [-0.045087587], [-0.03906933],...</td>\n",
       "    </tr>\n",
       "    <tr>\n",
       "      <th>19430</th>\n",
       "      <td>13840</td>\n",
       "      <td>Hockey Night</td>\n",
       "      <td>Drama</td>\n",
       "      <td>[[-0.062278718], [0.014847355], [-0.074892215]...</td>\n",
       "    </tr>\n",
       "    <tr>\n",
       "      <th>19431</th>\n",
       "      <td>13841</td>\n",
       "      <td>Hurricane Smith</td>\n",
       "      <td>Action|Drama</td>\n",
       "      <td>[[-0.03429976], [0.046135724], [-0.03773823], ...</td>\n",
       "    </tr>\n",
       "    <tr>\n",
       "      <th>19432</th>\n",
       "      <td>13842</td>\n",
       "      <td>The Specials</td>\n",
       "      <td>Comedy</td>\n",
       "      <td>[[-0.03073092], [0.056634538], [-0.05494778], ...</td>\n",
       "    </tr>\n",
       "    <tr>\n",
       "      <th>19433</th>\n",
       "      <td>13843</td>\n",
       "      <td>Santosh Subramaniam</td>\n",
       "      <td>Action|Comedy|Romance</td>\n",
       "      <td>[[-0.018013349], [-0.053794455], [-0.028061418...</td>\n",
       "    </tr>\n",
       "  </tbody>\n",
       "</table>\n",
       "<p>13844 rows × 4 columns</p>\n",
       "</div>"
      ],
      "text/plain": [
       "       movieId  ...                                      EmbeddingPlot\n",
       "0            0  ...  [[0.007755052], [0.0117758075], [-0.04774074],...\n",
       "1            1  ...  [[-0.056118418], [0.041826643], [-0.027685331]...\n",
       "2            2  ...  [[-0.031014366], [0.027537223], [-0.030267373]...\n",
       "3            3  ...  [[-0.002458289], [0.022208316], [-0.0334218], ...\n",
       "4            4  ...  [[-0.043547787], [0.022245584], [-0.008738409]...\n",
       "...        ...  ...                                                ...\n",
       "19429    13839  ...  [[-0.05050796], [-0.045087587], [-0.03906933],...\n",
       "19430    13840  ...  [[-0.062278718], [0.014847355], [-0.074892215]...\n",
       "19431    13841  ...  [[-0.03429976], [0.046135724], [-0.03773823], ...\n",
       "19432    13842  ...  [[-0.03073092], [0.056634538], [-0.05494778], ...\n",
       "19433    13843  ...  [[-0.018013349], [-0.053794455], [-0.028061418...\n",
       "\n",
       "[13844 rows x 4 columns]"
      ]
     },
     "execution_count": 14,
     "metadata": {
      "tags": []
     },
     "output_type": "execute_result"
    }
   ],
   "source": [
    "remap_movies = {movie_id: index for movie_id, index in \n",
    "                zip(\n",
    "                    movie_lens_reduced['movieId'], \n",
    "                    range(len(movie_lens_reduced['movieId']))\n",
    "                    )\n",
    "                }\n",
    "\n",
    "movie_lens_reduced['movieId'] = movie_lens_reduced['movieId'].apply(lambda id: remap_movies[id])\n",
    "movie_lens_reduced"
   ]
  },
  {
   "cell_type": "markdown",
   "metadata": {
    "colab_type": "text",
    "id": "x1JlqS2_-wN4"
   },
   "source": [
    "Como modificamos los indices a al data frame de las películas tenemos que re mapear los indices viejos a los nuevos"
   ]
  },
  {
   "cell_type": "code",
   "execution_count": 0,
   "metadata": {
    "colab": {},
    "colab_type": "code",
    "id": "LdM8LZ5cjDjF"
   },
   "outputs": [],
   "source": [
    "def check_id(id):\n",
    "    return id in remap_movies\n",
    "\n",
    "ratings['valid'] = ratings['movieId'].apply(check_id)\n",
    "ratings = ratings.loc[ratings['valid'] == True]\n",
    "ratings['movieId'] = ratings['movieId'].apply(lambda id: remap_movies[id])"
   ]
  },
  {
   "cell_type": "markdown",
   "metadata": {
    "colab_type": "text",
    "id": "dF81kEbm-_qV"
   },
   "source": [
    "Filtramos a los usuarios que hayan hecho por lo menos hayan interactuado con 9 películas"
   ]
  },
  {
   "cell_type": "code",
   "execution_count": 0,
   "metadata": {
    "colab": {
     "base_uri": "https://localhost:8080/",
     "height": 35
    },
    "colab_type": "code",
    "id": "hgw0h-ggAHKa",
    "outputId": "38ecc04d-9cea-404b-ee2f-2dc0165a8eb2"
   },
   "outputs": [
    {
     "data": {
      "text/plain": [
       "15303798"
      ]
     },
     "execution_count": 16,
     "metadata": {
      "tags": []
     },
     "output_type": "execute_result"
    }
   ],
   "source": [
    "users = ratings['userId'].value_counts()\n",
    "users = users[users > 8]\n",
    "ratings = ratings.loc[np.isin(ratings['userId'].values, users.index)]\n",
    "len(ratings)"
   ]
  },
  {
   "cell_type": "markdown",
   "metadata": {
    "colab_type": "text",
    "id": "GGQSzLTF_cK9"
   },
   "source": [
    "Ahora nos aseguramos de que los indices de los usuarios no tengan brincos, es decir que si hay n indices distintos los indices vayan del 0 al n sin faltar ningun numero"
   ]
  },
  {
   "cell_type": "code",
   "execution_count": 0,
   "metadata": {
    "colab": {},
    "colab_type": "code",
    "id": "zWviGiEypisZ"
   },
   "outputs": [],
   "source": [
    "remap_users = {user_id: index for user_id, index in\n",
    "               zip(\n",
    "                   users.index, \n",
    "                   range(len(users.index))\n",
    "                   )\n",
    "               }\n",
    "\n",
    "ratings['userId'] = ratings['userId'].apply(lambda id: remap_users[id])"
   ]
  },
  {
   "cell_type": "code",
   "execution_count": 0,
   "metadata": {
    "colab": {
     "base_uri": "https://localhost:8080/",
     "height": 35
    },
    "colab_type": "code",
    "id": "YP_7OW_I1tnV",
    "outputId": "1528224f-be50-48f2-d356-486a70304d80"
   },
   "outputs": [
    {
     "data": {
      "text/plain": [
       "(13844, 512)"
      ]
     },
     "execution_count": 18,
     "metadata": {
      "tags": []
     },
     "output_type": "execute_result"
    }
   ],
   "source": [
    "embed_list = np.array(movie_lens_reduced['EmbeddingPlot'].tolist())\n",
    "embed_list = embed_list.squeeze()\n",
    "embed_list.shape"
   ]
  },
  {
   "cell_type": "markdown",
   "metadata": {
    "colab_type": "text",
    "id": "eDbRNXx1_ucb"
   },
   "source": [
    "Partimos el dataset en training y test con proporción de 80/20 y luego los dividimos en batches"
   ]
  },
  {
   "cell_type": "code",
   "execution_count": 0,
   "metadata": {
    "colab": {
     "base_uri": "https://localhost:8080/",
     "height": 35
    },
    "colab_type": "code",
    "id": "K_yvQAr2reqZ",
    "outputId": "f6d90e62-2a58-4cb1-9ff4-b29f3cc3f0c2"
   },
   "outputs": [
    {
     "name": "stdout",
     "output_type": "stream",
     "text": [
      "(12243038, 5)\n"
     ]
    }
   ],
   "source": [
    "batch_size = 16384\n",
    "r_train, r_test = train_test_split(ratings, train_size=0.8)\n",
    "print(r_train.shape)\n",
    "r_train_batches = np.array_split(r_train, len(r_train) // batch_size, axis=0)\n",
    "r_test_batches = np.array_split(r_test, len(r_test) // batch_size, axis=0)"
   ]
  },
  {
   "cell_type": "markdown",
   "metadata": {
    "colab_type": "text",
    "id": "EkXSV-iI_7uD"
   },
   "source": [
    "Definimos nuestro modelo"
   ]
  },
  {
   "cell_type": "code",
   "execution_count": 0,
   "metadata": {
    "colab": {},
    "colab_type": "code",
    "id": "XkWs8KVP4PLz"
   },
   "outputs": [],
   "source": [
    "def prepare_model(num_users, num_items, embedding_size, name):\n",
    "    model = {}\n",
    "    model['name'] = name\n",
    "    with tf.name_scope(name):\n",
    "        model['U'] = tf.Variable(\n",
    "            tf.random_normal([num_users, embedding_size]), \n",
    "            dtype=tf.float32, \n",
    "            name=\"weights\"\n",
    "        )\n",
    "        model['V'] = tfv1.placeholder(shape=(num_items, embedding_size), dtype=tf.float32, name=\"embeddings\")\n",
    "        model['u_ids'] = tfv1.placeholder(shape=(None), dtype=tf.int32, name=\"u_ids\")\n",
    "        model['i_ids'] = tfv1.placeholder(shape=(None), dtype=tf.int32, name=\"i_ids\")\n",
    "        model['ratings'] = tfv1.placeholder(shape=(None), dtype=tf.float32, name=\"ratings\")\n",
    "        model['saver'] = tfv1.train.Saver([model['U']])\n",
    "        model['saved'] = False\n",
    "    return model"
   ]
  },
  {
   "cell_type": "code",
   "execution_count": 0,
   "metadata": {
    "colab": {},
    "colab_type": "code",
    "id": "vv3m-fYpHL8P"
   },
   "outputs": [],
   "source": [
    "model = prepare_model(len(users), len(embed_list), 512, \"model\")"
   ]
  },
  {
   "cell_type": "code",
   "execution_count": 0,
   "metadata": {
    "colab": {},
    "colab_type": "code",
    "id": "9_xt4tI4A4UQ"
   },
   "outputs": [],
   "source": [
    "def feed(model):\n",
    "    gathered_u = tf.gather(model['U'], model['u_ids'])\n",
    "    gathered_i = tf.gather(model['V'], model['i_ids'])\n",
    "    return tf.reduce_sum(tf.multiply(gathered_u, gathered_i), axis=1)\n",
    "\n",
    "def loss(model, reg_weight):\n",
    "    pred = feed(model)\n",
    "    regularizer = tf.nn.l2_loss(model['U'])\n",
    "    regularizer = tf.multiply(reg_weight, regularizer)\n",
    "    return tf.add(tf.losses.mean_squared_error(model['ratings'], pred), regularizer)2\n",
    "\n",
    "def optimizer(loss, learning_rate):\n",
    "    return tf.train.AdamOptimizer(learning_rate=learning_rate).minimize(loss)\n",
    "\n",
    "def train(model, train_data, embed_list, learning_rate, epochs, reg_weight):\n",
    "    train_loss = loss(model, reg_weight)\n",
    "    opt_step = optimizer(train_loss, learning_rate)\n",
    "    error = 0\n",
    "    if not os.path.isdir(model['name']):\n",
    "        os.mkdir(model['name'])\n",
    "    with tf.Session() as session:\n",
    "        session.run(tfv1.global_variables_initializer())\n",
    "        if model['saved']:\n",
    "            print('Restoring weights')\n",
    "            model['saver'].restore(session, model['name']+'/checkpoint')\n",
    "        print('Starting training')\n",
    "        for epoch in range(epochs):\n",
    "            error = 0\n",
    "            print(f'Training epoch {epoch+1}')\n",
    "            for batch in tqdm(train_data):\n",
    "                batch_error, _ = session.run([train_loss, opt_step], feed_dict={\n",
    "                    model['V']: embed_list,\n",
    "                    model['u_ids']: batch['userId'].values,\n",
    "                    model['i_ids']: batch['movieId'].values,\n",
    "                    model['ratings']: batch['rating'].values\n",
    "                })\n",
    "                error += batch_error\n",
    "            print(f'Epoch {epoch+1} loss: {error/len(train_data)}')\n",
    "            model['saver'].save(session, model['name']+'/checkpoint', global_step=epoch)\n",
    "            if not model['saved']:\n",
    "                model['saved'] = True\n",
    "    print(f'Final loss: {error/len(train_data)}')"
   ]
  },
  {
   "cell_type": "markdown",
   "metadata": {
    "colab_type": "text",
    "id": "FlfywBcdAt5v"
   },
   "source": [
    "Ajustamos el modelo a los datos"
   ]
  },
  {
   "cell_type": "code",
   "execution_count": 0,
   "metadata": {
    "colab": {
     "base_uri": "https://localhost:8080/",
     "height": 741,
     "referenced_widgets": [
      "8ab718bf2f8d400e9c0da2144ff89e1b",
      "0f8fe0fe68c24c54b4deb09221bac239",
      "b5d23a5122394022b2fed4c9e6ff6991",
      "28aae7f761cf43cc88f866bde55f5843",
      "366c2767e1d34d98a435b09f4f490465",
      "6c958683110b4d5983405b205611bed8",
      "d776891898d24e3d9cd02cddd652a74b",
      "bbe8bb654e4b4c558fe1e2464de71235",
      "9c9b4fbd16004896be26240463940543",
      "35f2c7a51f904b1b8004f4027e1f108e",
      "0fb32f573566457b90101be9ddd76f96",
      "832d7ccf29d34bd3b4c09bf00abea138",
      "96007880668a4e649a5a91612ae79a91",
      "308e1c2947514dfd8ceeaf4974797d79",
      "6a98b73e85fa4a86800d8ee10b81e99c",
      "00dc6249ff694c078262994039e40660",
      "2e7c42871ad24d28afccff97ea345d3e",
      "ebd9ab3d654f403ca2a55e1718a95cee",
      "30e3fa83917741e78238964b1c7f1c15",
      "5e09a3c5d6b245a8af731fa0f8fb2fb3",
      "f9284e2c3a884b2f9769597bf0c0b528",
      "ef695af18d3f4146b3d3b7b645c54032",
      "334d7fdd567441e59d31c387133df686",
      "8974ebfd43a74b128958a6db966da7be",
      "6691c90641834bb0bc494e857d35ff4c",
      "7c8f7f3c8d8f410ab535e9a4af88e761",
      "708c2d9aff38444abf0bae87677ce7d8",
      "de442d7b218c455bbf8dac176b18a5a7",
      "067b5d6dfa504a66948f9367508c5259",
      "21904be89bbe4ee58b6c34403442e8b2",
      "a269da456cc24f688f193f7b468466ce",
      "ee4e84d601224959b0bf67e4e1308016",
      "9f39e53f7a174b478e1669d9b9ae0992",
      "19fcef2fffad4c24b23bc1f3f5e934db",
      "110d5c0070ad420ab9f1da0de331e48a",
      "a516d4e4c155416db33938fe6c1b03c1",
      "e381a3af88ea4c348eeeeafd4438a6f9",
      "d9a72a9ffd04414fa45dcfd523252f0d",
      "c9465661cde547908237c23c8921656f",
      "4f60c01111604d468316d847952fb99a",
      "0948287572114e28b87c28cc18c57943",
      "52028ef9b4f44a2f98b2edc35f6f01d9",
      "100d95e8663d415fbdce7dd5cfb7f898",
      "751c6df1e0e14f02a1e3bb457c0b5663",
      "7a96110b219842a2ab3b53e061cab237",
      "791d2759b57e4fb1841e5f5e9e485721",
      "50434ff5ae264b9e94c91b070b0441d1",
      "21e1d2d97bf2454496c25d2f59aa75ff",
      "73f501964bed45d4a9430a18521a1b1d",
      "b0a3cb05519c42b0acbba974469cbfbb",
      "a31bee1b38404098813f66fbe6f4248b",
      "43c635bf51234ed4bf2fcd9089aff55c",
      "af89b9e2514a4ffc86c7b0b823b10023",
      "1211e137839b48769e25734fa7d21ea4",
      "aaa411676b4c452f9315d3bb3d34c317",
      "320b0de9997c4293bb0ce8ef959ea723",
      "2fd25200301e498b9a126d5615445975",
      "8e2282a14d614d0789d004971cd8272c",
      "1df86a6540ce414981a7cd6728ae8762",
      "34e1be79eef940819713eaa8e0c13cf2",
      "3b398f3c2c004564ae243bb99482309c",
      "667cd8afcaeb45cc90cc8cd200aaeb9b",
      "8be8968d9ebe439c8f698ae5bd3d76b0",
      "bfa1436ac51b477aa1c3b9d593ce6eaf"
     ]
    },
    "colab_type": "code",
    "id": "RRKkxkTQq-6m",
    "outputId": "12a569fe-9c05-4e2a-b338-4f908aea2964"
   },
   "outputs": [
    {
     "name": "stdout",
     "output_type": "stream",
     "text": [
      "Starting training\n",
      "Training epoch 1\n"
     ]
    },
    {
     "data": {
      "application/vnd.jupyter.widget-view+json": {
       "model_id": "8ab718bf2f8d400e9c0da2144ff89e1b",
       "version_major": 2,
       "version_minor": 0
      },
      "text/plain": [
       "HBox(children=(IntProgress(value=0, max=747), HTML(value='')))"
      ]
     },
     "metadata": {
      "tags": []
     },
     "output_type": "display_data"
    },
    {
     "name": "stdout",
     "output_type": "stream",
     "text": [
      "\n",
      "Epoch 1 loss: 146.8550079121009\n",
      "Training epoch 2\n"
     ]
    },
    {
     "data": {
      "application/vnd.jupyter.widget-view+json": {
       "model_id": "9c9b4fbd16004896be26240463940543",
       "version_major": 2,
       "version_minor": 0
      },
      "text/plain": [
       "HBox(children=(IntProgress(value=0, max=747), HTML(value='')))"
      ]
     },
     "metadata": {
      "tags": []
     },
     "output_type": "display_data"
    },
    {
     "name": "stdout",
     "output_type": "stream",
     "text": [
      "\n",
      "Epoch 2 loss: 61.202769278203306\n",
      "Training epoch 3\n"
     ]
    },
    {
     "data": {
      "application/vnd.jupyter.widget-view+json": {
       "model_id": "2e7c42871ad24d28afccff97ea345d3e",
       "version_major": 2,
       "version_minor": 0
      },
      "text/plain": [
       "HBox(children=(IntProgress(value=0, max=747), HTML(value='')))"
      ]
     },
     "metadata": {
      "tags": []
     },
     "output_type": "display_data"
    },
    {
     "name": "stdout",
     "output_type": "stream",
     "text": [
      "\n",
      "Epoch 3 loss: 25.61131557786321\n",
      "Training epoch 4\n"
     ]
    },
    {
     "data": {
      "application/vnd.jupyter.widget-view+json": {
       "model_id": "6691c90641834bb0bc494e857d35ff4c",
       "version_major": 2,
       "version_minor": 0
      },
      "text/plain": [
       "HBox(children=(IntProgress(value=0, max=747), HTML(value='')))"
      ]
     },
     "metadata": {
      "tags": []
     },
     "output_type": "display_data"
    },
    {
     "name": "stdout",
     "output_type": "stream",
     "text": [
      "\n",
      "Epoch 4 loss: 11.895765902048135\n",
      "Training epoch 5\n"
     ]
    },
    {
     "data": {
      "application/vnd.jupyter.widget-view+json": {
       "model_id": "9f39e53f7a174b478e1669d9b9ae0992",
       "version_major": 2,
       "version_minor": 0
      },
      "text/plain": [
       "HBox(children=(IntProgress(value=0, max=747), HTML(value='')))"
      ]
     },
     "metadata": {
      "tags": []
     },
     "output_type": "display_data"
    },
    {
     "name": "stdout",
     "output_type": "stream",
     "text": [
      "\n",
      "Epoch 5 loss: 7.152279732536918\n",
      "Training epoch 6\n"
     ]
    },
    {
     "data": {
      "application/vnd.jupyter.widget-view+json": {
       "model_id": "0948287572114e28b87c28cc18c57943",
       "version_major": 2,
       "version_minor": 0
      },
      "text/plain": [
       "HBox(children=(IntProgress(value=0, max=747), HTML(value='')))"
      ]
     },
     "metadata": {
      "tags": []
     },
     "output_type": "display_data"
    },
    {
     "name": "stdout",
     "output_type": "stream",
     "text": [
      "\n",
      "Epoch 6 loss: 5.697089185038085\n",
      "Training epoch 7\n"
     ]
    },
    {
     "data": {
      "application/vnd.jupyter.widget-view+json": {
       "model_id": "73f501964bed45d4a9430a18521a1b1d",
       "version_major": 2,
       "version_minor": 0
      },
      "text/plain": [
       "HBox(children=(IntProgress(value=0, max=747), HTML(value='')))"
      ]
     },
     "metadata": {
      "tags": []
     },
     "output_type": "display_data"
    },
    {
     "name": "stdout",
     "output_type": "stream",
     "text": [
      "\n",
      "Epoch 7 loss: 5.30249046417604\n",
      "Training epoch 8\n"
     ]
    },
    {
     "data": {
      "application/vnd.jupyter.widget-view+json": {
       "model_id": "2fd25200301e498b9a126d5615445975",
       "version_major": 2,
       "version_minor": 0
      },
      "text/plain": [
       "HBox(children=(IntProgress(value=0, max=747), HTML(value='')))"
      ]
     },
     "metadata": {
      "tags": []
     },
     "output_type": "display_data"
    },
    {
     "name": "stdout",
     "output_type": "stream",
     "text": [
      "\n",
      "Epoch 8 loss: 5.207425282821758\n",
      "Final loss: 5.207425282821758\n"
     ]
    }
   ],
   "source": [
    "train(model, r_train_batches, embed_list, 0.001, 8, 0.000005)\n",
    "#len(r_train_batches)"
   ]
  },
  {
   "cell_type": "markdown",
   "metadata": {
    "colab_type": "text",
    "id": "Qp1DPCfEBV6P"
   },
   "source": [
    "Evaluamos el modelo en el test set"
   ]
  },
  {
   "cell_type": "code",
   "execution_count": 0,
   "metadata": {
    "colab": {
     "base_uri": "https://localhost:8080/",
     "height": 35
    },
    "colab_type": "code",
    "id": "4ilYjhQWigIm",
    "outputId": "bf860ebf-4ecb-4e13-9767-6431b8c2f5cb"
   },
   "outputs": [
    {
     "name": "stdout",
     "output_type": "stream",
     "text": [
      "Test loss: 5.250031596870833\n"
     ]
    }
   ],
   "source": [
    "test_loss = loss(model, 0.000005)\n",
    "error = 0\n",
    "with tfv1.Session() as session:\n",
    "    session.run([tfv1.global_variables_initializer(), tfv1.local_variables_initializer()])\n",
    "    model['saver'].restore(session, tf.train.latest_checkpoint(model['name']))\n",
    "    for batch in r_test_batches:\n",
    "        error += session.run(test_loss, feed_dict={\n",
    "            model['V']: embed_list,\n",
    "            model['u_ids']: batch['userId'].values,\n",
    "            model['i_ids']: batch['movieId'].values,\n",
    "            model['ratings']: batch['rating'].values\n",
    "        })\n",
    "    print(f'Test loss: {error/len(r_test_batches)}')"
   ]
  },
  {
   "cell_type": "markdown",
   "metadata": {
    "colab_type": "text",
    "id": "_XL9SrW0BZnH"
   },
   "source": [
    "Seleccionamos 25 ratings aleatorios y tratamos de estimar el valor del rating dado el id del usuario y del la película"
   ]
  },
  {
   "cell_type": "code",
   "execution_count": 0,
   "metadata": {
    "colab": {},
    "colab_type": "code",
    "id": "au3iqSlV4TUQ"
   },
   "outputs": [],
   "source": [
    "def predict(model, user_ids, movie_ids, embed_list):\n",
    "    out = feed(model)\n",
    "    with tfv1.Session() as session:\n",
    "        session.run([tfv1.global_variables_initializer(), tfv1.local_variables_initializer()])\n",
    "        model['saver'].restore(session, tf.train.latest_checkpoint(model['name']))\n",
    "        pred = session.run(out, feed_dict={\n",
    "            model['V']: embed_list,\n",
    "            model['u_ids']: user_ids,\n",
    "            model['i_ids']: movie_ids,\n",
    "        })\n",
    "    return pred"
   ]
  },
  {
   "cell_type": "code",
   "execution_count": 0,
   "metadata": {
    "colab": {
     "base_uri": "https://localhost:8080/",
     "height": 824
    },
    "colab_type": "code",
    "id": "URDwmzGDjc5_",
    "outputId": "3da18034-0128-442e-8b88-83b9f1634a9f"
   },
   "outputs": [
    {
     "data": {
      "text/html": [
       "<div>\n",
       "<style scoped>\n",
       "    .dataframe tbody tr th:only-of-type {\n",
       "        vertical-align: middle;\n",
       "    }\n",
       "\n",
       "    .dataframe tbody tr th {\n",
       "        vertical-align: top;\n",
       "    }\n",
       "\n",
       "    .dataframe thead th {\n",
       "        text-align: right;\n",
       "    }\n",
       "</style>\n",
       "<table border=\"1\" class=\"dataframe\">\n",
       "  <thead>\n",
       "    <tr style=\"text-align: right;\">\n",
       "      <th></th>\n",
       "      <th>movieId</th>\n",
       "      <th>Real</th>\n",
       "      <th>Predicción</th>\n",
       "      <th>Title</th>\n",
       "    </tr>\n",
       "  </thead>\n",
       "  <tbody>\n",
       "    <tr>\n",
       "      <th>0</th>\n",
       "      <td>9274</td>\n",
       "      <td>4.5</td>\n",
       "      <td>3.699524</td>\n",
       "      <td>Run All Night</td>\n",
       "    </tr>\n",
       "    <tr>\n",
       "      <th>1</th>\n",
       "      <td>1032</td>\n",
       "      <td>1.5</td>\n",
       "      <td>2.195683</td>\n",
       "      <td>Saving Private Ryan</td>\n",
       "    </tr>\n",
       "    <tr>\n",
       "      <th>2</th>\n",
       "      <td>400</td>\n",
       "      <td>4.0</td>\n",
       "      <td>1.683317</td>\n",
       "      <td>Dr. Strangelove or: How I Learned to Stop Worr...</td>\n",
       "    </tr>\n",
       "    <tr>\n",
       "      <th>3</th>\n",
       "      <td>543</td>\n",
       "      <td>4.0</td>\n",
       "      <td>1.487666</td>\n",
       "      <td>Die Hard</td>\n",
       "    </tr>\n",
       "    <tr>\n",
       "      <th>4</th>\n",
       "      <td>2208</td>\n",
       "      <td>2.5</td>\n",
       "      <td>1.292135</td>\n",
       "      <td>Shrek</td>\n",
       "    </tr>\n",
       "    <tr>\n",
       "      <th>5</th>\n",
       "      <td>683</td>\n",
       "      <td>4.0</td>\n",
       "      <td>3.703663</td>\n",
       "      <td>Shine</td>\n",
       "    </tr>\n",
       "    <tr>\n",
       "      <th>6</th>\n",
       "      <td>946</td>\n",
       "      <td>2.0</td>\n",
       "      <td>2.336115</td>\n",
       "      <td>Six Days Seven Nights</td>\n",
       "    </tr>\n",
       "    <tr>\n",
       "      <th>7</th>\n",
       "      <td>579</td>\n",
       "      <td>4.0</td>\n",
       "      <td>3.052016</td>\n",
       "      <td>Top Gun</td>\n",
       "    </tr>\n",
       "    <tr>\n",
       "      <th>8</th>\n",
       "      <td>1534</td>\n",
       "      <td>5.0</td>\n",
       "      <td>3.368618</td>\n",
       "      <td>Time Bandits</td>\n",
       "    </tr>\n",
       "    <tr>\n",
       "      <th>9</th>\n",
       "      <td>1307</td>\n",
       "      <td>4.0</td>\n",
       "      <td>2.062055</td>\n",
       "      <td>Office Space</td>\n",
       "    </tr>\n",
       "    <tr>\n",
       "      <th>10</th>\n",
       "      <td>1306</td>\n",
       "      <td>3.5</td>\n",
       "      <td>1.556051</td>\n",
       "      <td>October Sky</td>\n",
       "    </tr>\n",
       "    <tr>\n",
       "      <th>11</th>\n",
       "      <td>229</td>\n",
       "      <td>2.5</td>\n",
       "      <td>2.838505</td>\n",
       "      <td>Addams Family Values</td>\n",
       "    </tr>\n",
       "    <tr>\n",
       "      <th>12</th>\n",
       "      <td>5469</td>\n",
       "      <td>3.0</td>\n",
       "      <td>2.404784</td>\n",
       "      <td>Tropic Thunder</td>\n",
       "    </tr>\n",
       "    <tr>\n",
       "      <th>13</th>\n",
       "      <td>602</td>\n",
       "      <td>1.5</td>\n",
       "      <td>1.106677</td>\n",
       "      <td>Sex, Lies, and Videotape</td>\n",
       "    </tr>\n",
       "    <tr>\n",
       "      <th>14</th>\n",
       "      <td>1801</td>\n",
       "      <td>2.0</td>\n",
       "      <td>2.427603</td>\n",
       "      <td>Empire Records</td>\n",
       "    </tr>\n",
       "    <tr>\n",
       "      <th>15</th>\n",
       "      <td>1892</td>\n",
       "      <td>3.0</td>\n",
       "      <td>3.856894</td>\n",
       "      <td>For the Love of Benji</td>\n",
       "    </tr>\n",
       "    <tr>\n",
       "      <th>16</th>\n",
       "      <td>1</td>\n",
       "      <td>2.5</td>\n",
       "      <td>2.956768</td>\n",
       "      <td>Jumanji</td>\n",
       "    </tr>\n",
       "    <tr>\n",
       "      <th>17</th>\n",
       "      <td>607</td>\n",
       "      <td>2.0</td>\n",
       "      <td>3.212133</td>\n",
       "      <td>Brazil</td>\n",
       "    </tr>\n",
       "    <tr>\n",
       "      <th>18</th>\n",
       "      <td>2042</td>\n",
       "      <td>3.0</td>\n",
       "      <td>2.692718</td>\n",
       "      <td>Bounce</td>\n",
       "    </tr>\n",
       "    <tr>\n",
       "      <th>19</th>\n",
       "      <td>6967</td>\n",
       "      <td>4.5</td>\n",
       "      <td>2.558084</td>\n",
       "      <td>Dredd</td>\n",
       "    </tr>\n",
       "    <tr>\n",
       "      <th>20</th>\n",
       "      <td>662</td>\n",
       "      <td>2.0</td>\n",
       "      <td>2.132428</td>\n",
       "      <td>Butch Cassidy and the Sundance Kid</td>\n",
       "    </tr>\n",
       "    <tr>\n",
       "      <th>21</th>\n",
       "      <td>4904</td>\n",
       "      <td>4.0</td>\n",
       "      <td>1.840417</td>\n",
       "      <td>Little Miss Sunshine</td>\n",
       "    </tr>\n",
       "    <tr>\n",
       "      <th>22</th>\n",
       "      <td>85</td>\n",
       "      <td>4.0</td>\n",
       "      <td>2.521581</td>\n",
       "      <td>Apollo 13</td>\n",
       "    </tr>\n",
       "    <tr>\n",
       "      <th>23</th>\n",
       "      <td>12119</td>\n",
       "      <td>4.0</td>\n",
       "      <td>2.721938</td>\n",
       "      <td>Ghost in the Shell</td>\n",
       "    </tr>\n",
       "    <tr>\n",
       "      <th>24</th>\n",
       "      <td>5039</td>\n",
       "      <td>3.0</td>\n",
       "      <td>2.438640</td>\n",
       "      <td>Eragon</td>\n",
       "    </tr>\n",
       "  </tbody>\n",
       "</table>\n",
       "</div>"
      ],
      "text/plain": [
       "    movieId  ...                                              Title\n",
       "0      9274  ...                                      Run All Night\n",
       "1      1032  ...                                Saving Private Ryan\n",
       "2       400  ...  Dr. Strangelove or: How I Learned to Stop Worr...\n",
       "3       543  ...                                           Die Hard\n",
       "4      2208  ...                                              Shrek\n",
       "5       683  ...                                              Shine\n",
       "6       946  ...                              Six Days Seven Nights\n",
       "7       579  ...                                            Top Gun\n",
       "8      1534  ...                                       Time Bandits\n",
       "9      1307  ...                                       Office Space\n",
       "10     1306  ...                                        October Sky\n",
       "11      229  ...                               Addams Family Values\n",
       "12     5469  ...                                     Tropic Thunder\n",
       "13      602  ...                           Sex, Lies, and Videotape\n",
       "14     1801  ...                                     Empire Records\n",
       "15     1892  ...                              For the Love of Benji\n",
       "16        1  ...                                            Jumanji\n",
       "17      607  ...                                             Brazil\n",
       "18     2042  ...                                             Bounce\n",
       "19     6967  ...                                              Dredd\n",
       "20      662  ...                 Butch Cassidy and the Sundance Kid\n",
       "21     4904  ...                               Little Miss Sunshine\n",
       "22       85  ...                                          Apollo 13\n",
       "23    12119  ...                                 Ghost in the Shell\n",
       "24     5039  ...                                             Eragon\n",
       "\n",
       "[25 rows x 4 columns]"
      ]
     },
     "execution_count": 73,
     "metadata": {
      "tags": []
     },
     "output_type": "execute_result"
    }
   ],
   "source": [
    "indices = random.choices(list(r_test.index), k=25)\n",
    "batch = r_test.loc[indices]\n",
    "pred = predict(model, batch['userId'].values, batch['movieId'].values, embed_list)\n",
    "result = pd.DataFrame(zip(batch['movieId'], batch['rating'], pred), columns=['movieId', 'Real', 'Predicción'])\n",
    "result = result.merge(movie_lens_reduced[['movieId', 'Title']], on='movieId')\n",
    "result\n",
    "#print(r_test.loc[i, ['userId', 'movieId', 'rating']])"
   ]
  },
  {
   "cell_type": "markdown",
   "metadata": {
    "colab_type": "text",
    "id": "dWQM0nJvBmPd"
   },
   "source": [
    "Seleccionamos un usuario aleatorio y tratamos de recomendarle las peliculas con un mayor rating predicho en base a las otras películas que el evaluo"
   ]
  },
  {
   "cell_type": "code",
   "execution_count": 0,
   "metadata": {
    "colab": {},
    "colab_type": "code",
    "id": "uZVXUdWI4X76"
   },
   "outputs": [],
   "source": [
    "def recomend(model, user_id, movies, embed_list, ratings, k=10):\n",
    "    rated = ratings.loc[ratings['userId'] == user_id]['movieId'].values\n",
    "    not_rated = movies.loc[np.in1d(movies['movieId'], rated, invert=True)]\n",
    "    user_id = np.array([user_id]*len(not_rated))\n",
    "    pred_ratings = predict(model, user_id, not_rated['movieId'].values, embed_list)\n",
    "    recomendations = [x for x in zip(pred_ratings, not_rated['Title'].values)]\n",
    "    recomendations.sort(key=lambda x: x[0], reverse=True)\n",
    "    return [title for _, title in recomendations][:k]"
   ]
  },
  {
   "cell_type": "code",
   "execution_count": 0,
   "metadata": {
    "colab": {
     "base_uri": "https://localhost:8080/",
     "height": 109
    },
    "colab_type": "code",
    "id": "XAwguwfmdwCI",
    "outputId": "38124225-fb06-43e1-be36-199d4e5d962c"
   },
   "outputs": [
    {
     "name": "stdout",
     "output_type": "stream",
     "text": [
      "Películas que le gustaron al usuario 103627:\n",
      "['Stargate', 'Century', 'Honey, I Blew Up the Kid', 'Milk Money', 'Backbeat', 'Homage', 'Peanuts - Die Bank zahlt alles', 'Convent, The (O Convento)', 'Crows and Sparrows (Wuya yu maque)', 'All Over Me', \"You Can't Take It with You\", 'Devil and Max Devlin, The', 'Permanent Midnight', 'Kindred, The']\n",
      "películas recomendadas\n",
      "['Coneheads', 'Heavy Metal', 'Some Girls Do', 'Outland', 'Cypher', 'Teenagers from Outer Space', 'Snowpiercer', 'Freejack', 'Escape from Planet Earth', 'Hostage']\n"
     ]
    }
   ],
   "source": [
    "index = random.choice(users.index)\n",
    "rated = ratings.loc[ratings['userId'] == index]\n",
    "movies_rated = movie_lens.loc[np.in1d(movie_lens['movieId'], rated['movieId'].values)]\n",
    "liked = sorted([x for x in zip(rated['rating'].values, movies_rated['Title'].values) if x[0] > 3], key=lambda x: x[0], reverse=True)\n",
    "liked = [title for _, title in liked]\n",
    "print(f'Películas que le gustaron al usuario {index}:')\n",
    "print(liked)\n",
    "print('películas recomendadas')\n",
    "print(recomend(model, index, movie_lens_reduced, embed_list, ratings))"
   ]
  }
 ],
 "metadata": {
  "accelerator": "TPU",
  "colab": {
   "collapsed_sections": [],
   "machine_shape": "hm",
   "name": "Sistema_recomendador_basado_en_contenido.ipynb",
   "provenance": [],
   "toc_visible": true
  },
  "kernelspec": {
   "display_name": "Python 3",
   "language": "python",
   "name": "python3"
  },
  "language_info": {
   "codemirror_mode": {
    "name": "ipython",
    "version": 3
   },
   "file_extension": ".py",
   "mimetype": "text/x-python",
   "name": "python",
   "nbconvert_exporter": "python",
   "pygments_lexer": "ipython3",
   "version": "3.6.8"
  },
  "widgets": {
   "application/vnd.jupyter.widget-state+json": {
    "00dc6249ff694c078262994039e40660": {
     "model_module": "@jupyter-widgets/base",
     "model_name": "LayoutModel",
     "state": {
      "_model_module": "@jupyter-widgets/base",
      "_model_module_version": "1.2.0",
      "_model_name": "LayoutModel",
      "_view_count": null,
      "_view_module": "@jupyter-widgets/base",
      "_view_module_version": "1.2.0",
      "_view_name": "LayoutView",
      "align_content": null,
      "align_items": null,
      "align_self": null,
      "border": null,
      "bottom": null,
      "display": null,
      "flex": null,
      "flex_flow": null,
      "grid_area": null,
      "grid_auto_columns": null,
      "grid_auto_flow": null,
      "grid_auto_rows": null,
      "grid_column": null,
      "grid_gap": null,
      "grid_row": null,
      "grid_template_areas": null,
      "grid_template_columns": null,
      "grid_template_rows": null,
      "height": null,
      "justify_content": null,
      "justify_items": null,
      "left": null,
      "margin": null,
      "max_height": null,
      "max_width": null,
      "min_height": null,
      "min_width": null,
      "object_fit": null,
      "object_position": null,
      "order": null,
      "overflow": null,
      "overflow_x": null,
      "overflow_y": null,
      "padding": null,
      "right": null,
      "top": null,
      "visibility": null,
      "width": null
     }
    },
    "067b5d6dfa504a66948f9367508c5259": {
     "model_module": "@jupyter-widgets/controls",
     "model_name": "ProgressStyleModel",
     "state": {
      "_model_module": "@jupyter-widgets/controls",
      "_model_module_version": "1.5.0",
      "_model_name": "ProgressStyleModel",
      "_view_count": null,
      "_view_module": "@jupyter-widgets/base",
      "_view_module_version": "1.2.0",
      "_view_name": "StyleView",
      "bar_color": null,
      "description_width": ""
     }
    },
    "0948287572114e28b87c28cc18c57943": {
     "model_module": "@jupyter-widgets/controls",
     "model_name": "HBoxModel",
     "state": {
      "_dom_classes": [],
      "_model_module": "@jupyter-widgets/controls",
      "_model_module_version": "1.5.0",
      "_model_name": "HBoxModel",
      "_view_count": null,
      "_view_module": "@jupyter-widgets/controls",
      "_view_module_version": "1.5.0",
      "_view_name": "HBoxView",
      "box_style": "",
      "children": [
       "IPY_MODEL_100d95e8663d415fbdce7dd5cfb7f898",
       "IPY_MODEL_751c6df1e0e14f02a1e3bb457c0b5663"
      ],
      "layout": "IPY_MODEL_52028ef9b4f44a2f98b2edc35f6f01d9"
     }
    },
    "0f12a5b62e4747a5a0ef8a4f64dde7aa": {
     "model_module": "@jupyter-widgets/base",
     "model_name": "LayoutModel",
     "state": {
      "_model_module": "@jupyter-widgets/base",
      "_model_module_version": "1.2.0",
      "_model_name": "LayoutModel",
      "_view_count": null,
      "_view_module": "@jupyter-widgets/base",
      "_view_module_version": "1.2.0",
      "_view_name": "LayoutView",
      "align_content": null,
      "align_items": null,
      "align_self": null,
      "border": null,
      "bottom": null,
      "display": null,
      "flex": null,
      "flex_flow": null,
      "grid_area": null,
      "grid_auto_columns": null,
      "grid_auto_flow": null,
      "grid_auto_rows": null,
      "grid_column": null,
      "grid_gap": null,
      "grid_row": null,
      "grid_template_areas": null,
      "grid_template_columns": null,
      "grid_template_rows": null,
      "height": null,
      "justify_content": null,
      "justify_items": null,
      "left": null,
      "margin": null,
      "max_height": null,
      "max_width": null,
      "min_height": null,
      "min_width": null,
      "object_fit": null,
      "object_position": null,
      "order": null,
      "overflow": null,
      "overflow_x": null,
      "overflow_y": null,
      "padding": null,
      "right": null,
      "top": null,
      "visibility": null,
      "width": null
     }
    },
    "0f8fe0fe68c24c54b4deb09221bac239": {
     "model_module": "@jupyter-widgets/base",
     "model_name": "LayoutModel",
     "state": {
      "_model_module": "@jupyter-widgets/base",
      "_model_module_version": "1.2.0",
      "_model_name": "LayoutModel",
      "_view_count": null,
      "_view_module": "@jupyter-widgets/base",
      "_view_module_version": "1.2.0",
      "_view_name": "LayoutView",
      "align_content": null,
      "align_items": null,
      "align_self": null,
      "border": null,
      "bottom": null,
      "display": null,
      "flex": null,
      "flex_flow": null,
      "grid_area": null,
      "grid_auto_columns": null,
      "grid_auto_flow": null,
      "grid_auto_rows": null,
      "grid_column": null,
      "grid_gap": null,
      "grid_row": null,
      "grid_template_areas": null,
      "grid_template_columns": null,
      "grid_template_rows": null,
      "height": null,
      "justify_content": null,
      "justify_items": null,
      "left": null,
      "margin": null,
      "max_height": null,
      "max_width": null,
      "min_height": null,
      "min_width": null,
      "object_fit": null,
      "object_position": null,
      "order": null,
      "overflow": null,
      "overflow_x": null,
      "overflow_y": null,
      "padding": null,
      "right": null,
      "top": null,
      "visibility": null,
      "width": null
     }
    },
    "0fb32f573566457b90101be9ddd76f96": {
     "model_module": "@jupyter-widgets/controls",
     "model_name": "IntProgressModel",
     "state": {
      "_dom_classes": [],
      "_model_module": "@jupyter-widgets/controls",
      "_model_module_version": "1.5.0",
      "_model_name": "IntProgressModel",
      "_view_count": null,
      "_view_module": "@jupyter-widgets/controls",
      "_view_module_version": "1.5.0",
      "_view_name": "ProgressView",
      "bar_style": "success",
      "description": "",
      "description_tooltip": null,
      "layout": "IPY_MODEL_308e1c2947514dfd8ceeaf4974797d79",
      "max": 747,
      "min": 0,
      "orientation": "horizontal",
      "style": "IPY_MODEL_96007880668a4e649a5a91612ae79a91",
      "value": 747
     }
    },
    "100d95e8663d415fbdce7dd5cfb7f898": {
     "model_module": "@jupyter-widgets/controls",
     "model_name": "IntProgressModel",
     "state": {
      "_dom_classes": [],
      "_model_module": "@jupyter-widgets/controls",
      "_model_module_version": "1.5.0",
      "_model_name": "IntProgressModel",
      "_view_count": null,
      "_view_module": "@jupyter-widgets/controls",
      "_view_module_version": "1.5.0",
      "_view_name": "ProgressView",
      "bar_style": "success",
      "description": "",
      "description_tooltip": null,
      "layout": "IPY_MODEL_791d2759b57e4fb1841e5f5e9e485721",
      "max": 747,
      "min": 0,
      "orientation": "horizontal",
      "style": "IPY_MODEL_7a96110b219842a2ab3b53e061cab237",
      "value": 747
     }
    },
    "110d5c0070ad420ab9f1da0de331e48a": {
     "model_module": "@jupyter-widgets/controls",
     "model_name": "IntProgressModel",
     "state": {
      "_dom_classes": [],
      "_model_module": "@jupyter-widgets/controls",
      "_model_module_version": "1.5.0",
      "_model_name": "IntProgressModel",
      "_view_count": null,
      "_view_module": "@jupyter-widgets/controls",
      "_view_module_version": "1.5.0",
      "_view_name": "ProgressView",
      "bar_style": "success",
      "description": "",
      "description_tooltip": null,
      "layout": "IPY_MODEL_d9a72a9ffd04414fa45dcfd523252f0d",
      "max": 747,
      "min": 0,
      "orientation": "horizontal",
      "style": "IPY_MODEL_e381a3af88ea4c348eeeeafd4438a6f9",
      "value": 747
     }
    },
    "1211e137839b48769e25734fa7d21ea4": {
     "model_module": "@jupyter-widgets/base",
     "model_name": "LayoutModel",
     "state": {
      "_model_module": "@jupyter-widgets/base",
      "_model_module_version": "1.2.0",
      "_model_name": "LayoutModel",
      "_view_count": null,
      "_view_module": "@jupyter-widgets/base",
      "_view_module_version": "1.2.0",
      "_view_name": "LayoutView",
      "align_content": null,
      "align_items": null,
      "align_self": null,
      "border": null,
      "bottom": null,
      "display": null,
      "flex": null,
      "flex_flow": null,
      "grid_area": null,
      "grid_auto_columns": null,
      "grid_auto_flow": null,
      "grid_auto_rows": null,
      "grid_column": null,
      "grid_gap": null,
      "grid_row": null,
      "grid_template_areas": null,
      "grid_template_columns": null,
      "grid_template_rows": null,
      "height": null,
      "justify_content": null,
      "justify_items": null,
      "left": null,
      "margin": null,
      "max_height": null,
      "max_width": null,
      "min_height": null,
      "min_width": null,
      "object_fit": null,
      "object_position": null,
      "order": null,
      "overflow": null,
      "overflow_x": null,
      "overflow_y": null,
      "padding": null,
      "right": null,
      "top": null,
      "visibility": null,
      "width": null
     }
    },
    "19fcef2fffad4c24b23bc1f3f5e934db": {
     "model_module": "@jupyter-widgets/base",
     "model_name": "LayoutModel",
     "state": {
      "_model_module": "@jupyter-widgets/base",
      "_model_module_version": "1.2.0",
      "_model_name": "LayoutModel",
      "_view_count": null,
      "_view_module": "@jupyter-widgets/base",
      "_view_module_version": "1.2.0",
      "_view_name": "LayoutView",
      "align_content": null,
      "align_items": null,
      "align_self": null,
      "border": null,
      "bottom": null,
      "display": null,
      "flex": null,
      "flex_flow": null,
      "grid_area": null,
      "grid_auto_columns": null,
      "grid_auto_flow": null,
      "grid_auto_rows": null,
      "grid_column": null,
      "grid_gap": null,
      "grid_row": null,
      "grid_template_areas": null,
      "grid_template_columns": null,
      "grid_template_rows": null,
      "height": null,
      "justify_content": null,
      "justify_items": null,
      "left": null,
      "margin": null,
      "max_height": null,
      "max_width": null,
      "min_height": null,
      "min_width": null,
      "object_fit": null,
      "object_position": null,
      "order": null,
      "overflow": null,
      "overflow_x": null,
      "overflow_y": null,
      "padding": null,
      "right": null,
      "top": null,
      "visibility": null,
      "width": null
     }
    },
    "1df86a6540ce414981a7cd6728ae8762": {
     "model_module": "@jupyter-widgets/controls",
     "model_name": "IntProgressModel",
     "state": {
      "_dom_classes": [],
      "_model_module": "@jupyter-widgets/controls",
      "_model_module_version": "1.5.0",
      "_model_name": "IntProgressModel",
      "_view_count": null,
      "_view_module": "@jupyter-widgets/controls",
      "_view_module_version": "1.5.0",
      "_view_name": "ProgressView",
      "bar_style": "success",
      "description": "",
      "description_tooltip": null,
      "layout": "IPY_MODEL_667cd8afcaeb45cc90cc8cd200aaeb9b",
      "max": 747,
      "min": 0,
      "orientation": "horizontal",
      "style": "IPY_MODEL_3b398f3c2c004564ae243bb99482309c",
      "value": 747
     }
    },
    "21904be89bbe4ee58b6c34403442e8b2": {
     "model_module": "@jupyter-widgets/base",
     "model_name": "LayoutModel",
     "state": {
      "_model_module": "@jupyter-widgets/base",
      "_model_module_version": "1.2.0",
      "_model_name": "LayoutModel",
      "_view_count": null,
      "_view_module": "@jupyter-widgets/base",
      "_view_module_version": "1.2.0",
      "_view_name": "LayoutView",
      "align_content": null,
      "align_items": null,
      "align_self": null,
      "border": null,
      "bottom": null,
      "display": null,
      "flex": null,
      "flex_flow": null,
      "grid_area": null,
      "grid_auto_columns": null,
      "grid_auto_flow": null,
      "grid_auto_rows": null,
      "grid_column": null,
      "grid_gap": null,
      "grid_row": null,
      "grid_template_areas": null,
      "grid_template_columns": null,
      "grid_template_rows": null,
      "height": null,
      "justify_content": null,
      "justify_items": null,
      "left": null,
      "margin": null,
      "max_height": null,
      "max_width": null,
      "min_height": null,
      "min_width": null,
      "object_fit": null,
      "object_position": null,
      "order": null,
      "overflow": null,
      "overflow_x": null,
      "overflow_y": null,
      "padding": null,
      "right": null,
      "top": null,
      "visibility": null,
      "width": null
     }
    },
    "21e1d2d97bf2454496c25d2f59aa75ff": {
     "model_module": "@jupyter-widgets/base",
     "model_name": "LayoutModel",
     "state": {
      "_model_module": "@jupyter-widgets/base",
      "_model_module_version": "1.2.0",
      "_model_name": "LayoutModel",
      "_view_count": null,
      "_view_module": "@jupyter-widgets/base",
      "_view_module_version": "1.2.0",
      "_view_name": "LayoutView",
      "align_content": null,
      "align_items": null,
      "align_self": null,
      "border": null,
      "bottom": null,
      "display": null,
      "flex": null,
      "flex_flow": null,
      "grid_area": null,
      "grid_auto_columns": null,
      "grid_auto_flow": null,
      "grid_auto_rows": null,
      "grid_column": null,
      "grid_gap": null,
      "grid_row": null,
      "grid_template_areas": null,
      "grid_template_columns": null,
      "grid_template_rows": null,
      "height": null,
      "justify_content": null,
      "justify_items": null,
      "left": null,
      "margin": null,
      "max_height": null,
      "max_width": null,
      "min_height": null,
      "min_width": null,
      "object_fit": null,
      "object_position": null,
      "order": null,
      "overflow": null,
      "overflow_x": null,
      "overflow_y": null,
      "padding": null,
      "right": null,
      "top": null,
      "visibility": null,
      "width": null
     }
    },
    "28aae7f761cf43cc88f866bde55f5843": {
     "model_module": "@jupyter-widgets/controls",
     "model_name": "HTMLModel",
     "state": {
      "_dom_classes": [],
      "_model_module": "@jupyter-widgets/controls",
      "_model_module_version": "1.5.0",
      "_model_name": "HTMLModel",
      "_view_count": null,
      "_view_module": "@jupyter-widgets/controls",
      "_view_module_version": "1.5.0",
      "_view_name": "HTMLView",
      "description": "",
      "description_tooltip": null,
      "layout": "IPY_MODEL_bbe8bb654e4b4c558fe1e2464de71235",
      "placeholder": "​",
      "style": "IPY_MODEL_d776891898d24e3d9cd02cddd652a74b",
      "value": "100% 747/747 [02:00&lt;00:00,  6.14it/s]"
     }
    },
    "2dc93488f3c249688ddec0c2581c2bb9": {
     "model_module": "@jupyter-widgets/base",
     "model_name": "LayoutModel",
     "state": {
      "_model_module": "@jupyter-widgets/base",
      "_model_module_version": "1.2.0",
      "_model_name": "LayoutModel",
      "_view_count": null,
      "_view_module": "@jupyter-widgets/base",
      "_view_module_version": "1.2.0",
      "_view_name": "LayoutView",
      "align_content": null,
      "align_items": null,
      "align_self": null,
      "border": null,
      "bottom": null,
      "display": null,
      "flex": null,
      "flex_flow": null,
      "grid_area": null,
      "grid_auto_columns": null,
      "grid_auto_flow": null,
      "grid_auto_rows": null,
      "grid_column": null,
      "grid_gap": null,
      "grid_row": null,
      "grid_template_areas": null,
      "grid_template_columns": null,
      "grid_template_rows": null,
      "height": null,
      "justify_content": null,
      "justify_items": null,
      "left": null,
      "margin": null,
      "max_height": null,
      "max_width": null,
      "min_height": null,
      "min_width": null,
      "object_fit": null,
      "object_position": null,
      "order": null,
      "overflow": null,
      "overflow_x": null,
      "overflow_y": null,
      "padding": null,
      "right": null,
      "top": null,
      "visibility": null,
      "width": null
     }
    },
    "2e7c42871ad24d28afccff97ea345d3e": {
     "model_module": "@jupyter-widgets/controls",
     "model_name": "HBoxModel",
     "state": {
      "_dom_classes": [],
      "_model_module": "@jupyter-widgets/controls",
      "_model_module_version": "1.5.0",
      "_model_name": "HBoxModel",
      "_view_count": null,
      "_view_module": "@jupyter-widgets/controls",
      "_view_module_version": "1.5.0",
      "_view_name": "HBoxView",
      "box_style": "",
      "children": [
       "IPY_MODEL_30e3fa83917741e78238964b1c7f1c15",
       "IPY_MODEL_5e09a3c5d6b245a8af731fa0f8fb2fb3"
      ],
      "layout": "IPY_MODEL_ebd9ab3d654f403ca2a55e1718a95cee"
     }
    },
    "2eb7ed1babe94e0884183327d7a59b04": {
     "model_module": "@jupyter-widgets/controls",
     "model_name": "HTMLModel",
     "state": {
      "_dom_classes": [],
      "_model_module": "@jupyter-widgets/controls",
      "_model_module_version": "1.5.0",
      "_model_name": "HTMLModel",
      "_view_count": null,
      "_view_module": "@jupyter-widgets/controls",
      "_view_module_version": "1.5.0",
      "_view_name": "HTMLView",
      "description": "",
      "description_tooltip": null,
      "layout": "IPY_MODEL_2dc93488f3c249688ddec0c2581c2bb9",
      "placeholder": "​",
      "style": "IPY_MODEL_8cd85bf099f34375bd3c5ae1351a70b9",
      "value": "100% 33869/33869 [02:07&lt;00:00, 264.95it/s]"
     }
    },
    "2fd25200301e498b9a126d5615445975": {
     "model_module": "@jupyter-widgets/controls",
     "model_name": "HBoxModel",
     "state": {
      "_dom_classes": [],
      "_model_module": "@jupyter-widgets/controls",
      "_model_module_version": "1.5.0",
      "_model_name": "HBoxModel",
      "_view_count": null,
      "_view_module": "@jupyter-widgets/controls",
      "_view_module_version": "1.5.0",
      "_view_name": "HBoxView",
      "box_style": "",
      "children": [
       "IPY_MODEL_1df86a6540ce414981a7cd6728ae8762",
       "IPY_MODEL_34e1be79eef940819713eaa8e0c13cf2"
      ],
      "layout": "IPY_MODEL_8e2282a14d614d0789d004971cd8272c"
     }
    },
    "308e1c2947514dfd8ceeaf4974797d79": {
     "model_module": "@jupyter-widgets/base",
     "model_name": "LayoutModel",
     "state": {
      "_model_module": "@jupyter-widgets/base",
      "_model_module_version": "1.2.0",
      "_model_name": "LayoutModel",
      "_view_count": null,
      "_view_module": "@jupyter-widgets/base",
      "_view_module_version": "1.2.0",
      "_view_name": "LayoutView",
      "align_content": null,
      "align_items": null,
      "align_self": null,
      "border": null,
      "bottom": null,
      "display": null,
      "flex": null,
      "flex_flow": null,
      "grid_area": null,
      "grid_auto_columns": null,
      "grid_auto_flow": null,
      "grid_auto_rows": null,
      "grid_column": null,
      "grid_gap": null,
      "grid_row": null,
      "grid_template_areas": null,
      "grid_template_columns": null,
      "grid_template_rows": null,
      "height": null,
      "justify_content": null,
      "justify_items": null,
      "left": null,
      "margin": null,
      "max_height": null,
      "max_width": null,
      "min_height": null,
      "min_width": null,
      "object_fit": null,
      "object_position": null,
      "order": null,
      "overflow": null,
      "overflow_x": null,
      "overflow_y": null,
      "padding": null,
      "right": null,
      "top": null,
      "visibility": null,
      "width": null
     }
    },
    "30e3fa83917741e78238964b1c7f1c15": {
     "model_module": "@jupyter-widgets/controls",
     "model_name": "IntProgressModel",
     "state": {
      "_dom_classes": [],
      "_model_module": "@jupyter-widgets/controls",
      "_model_module_version": "1.5.0",
      "_model_name": "IntProgressModel",
      "_view_count": null,
      "_view_module": "@jupyter-widgets/controls",
      "_view_module_version": "1.5.0",
      "_view_name": "ProgressView",
      "bar_style": "success",
      "description": "",
      "description_tooltip": null,
      "layout": "IPY_MODEL_ef695af18d3f4146b3d3b7b645c54032",
      "max": 747,
      "min": 0,
      "orientation": "horizontal",
      "style": "IPY_MODEL_f9284e2c3a884b2f9769597bf0c0b528",
      "value": 747
     }
    },
    "320b0de9997c4293bb0ce8ef959ea723": {
     "model_module": "@jupyter-widgets/base",
     "model_name": "LayoutModel",
     "state": {
      "_model_module": "@jupyter-widgets/base",
      "_model_module_version": "1.2.0",
      "_model_name": "LayoutModel",
      "_view_count": null,
      "_view_module": "@jupyter-widgets/base",
      "_view_module_version": "1.2.0",
      "_view_name": "LayoutView",
      "align_content": null,
      "align_items": null,
      "align_self": null,
      "border": null,
      "bottom": null,
      "display": null,
      "flex": null,
      "flex_flow": null,
      "grid_area": null,
      "grid_auto_columns": null,
      "grid_auto_flow": null,
      "grid_auto_rows": null,
      "grid_column": null,
      "grid_gap": null,
      "grid_row": null,
      "grid_template_areas": null,
      "grid_template_columns": null,
      "grid_template_rows": null,
      "height": null,
      "justify_content": null,
      "justify_items": null,
      "left": null,
      "margin": null,
      "max_height": null,
      "max_width": null,
      "min_height": null,
      "min_width": null,
      "object_fit": null,
      "object_position": null,
      "order": null,
      "overflow": null,
      "overflow_x": null,
      "overflow_y": null,
      "padding": null,
      "right": null,
      "top": null,
      "visibility": null,
      "width": null
     }
    },
    "334d7fdd567441e59d31c387133df686": {
     "model_module": "@jupyter-widgets/controls",
     "model_name": "DescriptionStyleModel",
     "state": {
      "_model_module": "@jupyter-widgets/controls",
      "_model_module_version": "1.5.0",
      "_model_name": "DescriptionStyleModel",
      "_view_count": null,
      "_view_module": "@jupyter-widgets/base",
      "_view_module_version": "1.2.0",
      "_view_name": "StyleView",
      "description_width": ""
     }
    },
    "34e1be79eef940819713eaa8e0c13cf2": {
     "model_module": "@jupyter-widgets/controls",
     "model_name": "HTMLModel",
     "state": {
      "_dom_classes": [],
      "_model_module": "@jupyter-widgets/controls",
      "_model_module_version": "1.5.0",
      "_model_name": "HTMLModel",
      "_view_count": null,
      "_view_module": "@jupyter-widgets/controls",
      "_view_module_version": "1.5.0",
      "_view_name": "HTMLView",
      "description": "",
      "description_tooltip": null,
      "layout": "IPY_MODEL_bfa1436ac51b477aa1c3b9d593ce6eaf",
      "placeholder": "​",
      "style": "IPY_MODEL_8be8968d9ebe439c8f698ae5bd3d76b0",
      "value": "100% 747/747 [01:59&lt;00:00,  6.24it/s]"
     }
    },
    "35f2c7a51f904b1b8004f4027e1f108e": {
     "model_module": "@jupyter-widgets/base",
     "model_name": "LayoutModel",
     "state": {
      "_model_module": "@jupyter-widgets/base",
      "_model_module_version": "1.2.0",
      "_model_name": "LayoutModel",
      "_view_count": null,
      "_view_module": "@jupyter-widgets/base",
      "_view_module_version": "1.2.0",
      "_view_name": "LayoutView",
      "align_content": null,
      "align_items": null,
      "align_self": null,
      "border": null,
      "bottom": null,
      "display": null,
      "flex": null,
      "flex_flow": null,
      "grid_area": null,
      "grid_auto_columns": null,
      "grid_auto_flow": null,
      "grid_auto_rows": null,
      "grid_column": null,
      "grid_gap": null,
      "grid_row": null,
      "grid_template_areas": null,
      "grid_template_columns": null,
      "grid_template_rows": null,
      "height": null,
      "justify_content": null,
      "justify_items": null,
      "left": null,
      "margin": null,
      "max_height": null,
      "max_width": null,
      "min_height": null,
      "min_width": null,
      "object_fit": null,
      "object_position": null,
      "order": null,
      "overflow": null,
      "overflow_x": null,
      "overflow_y": null,
      "padding": null,
      "right": null,
      "top": null,
      "visibility": null,
      "width": null
     }
    },
    "366c2767e1d34d98a435b09f4f490465": {
     "model_module": "@jupyter-widgets/controls",
     "model_name": "ProgressStyleModel",
     "state": {
      "_model_module": "@jupyter-widgets/controls",
      "_model_module_version": "1.5.0",
      "_model_name": "ProgressStyleModel",
      "_view_count": null,
      "_view_module": "@jupyter-widgets/base",
      "_view_module_version": "1.2.0",
      "_view_name": "StyleView",
      "bar_color": null,
      "description_width": ""
     }
    },
    "3b398f3c2c004564ae243bb99482309c": {
     "model_module": "@jupyter-widgets/controls",
     "model_name": "ProgressStyleModel",
     "state": {
      "_model_module": "@jupyter-widgets/controls",
      "_model_module_version": "1.5.0",
      "_model_name": "ProgressStyleModel",
      "_view_count": null,
      "_view_module": "@jupyter-widgets/base",
      "_view_module_version": "1.2.0",
      "_view_name": "StyleView",
      "bar_color": null,
      "description_width": ""
     }
    },
    "43c635bf51234ed4bf2fcd9089aff55c": {
     "model_module": "@jupyter-widgets/controls",
     "model_name": "HTMLModel",
     "state": {
      "_dom_classes": [],
      "_model_module": "@jupyter-widgets/controls",
      "_model_module_version": "1.5.0",
      "_model_name": "HTMLModel",
      "_view_count": null,
      "_view_module": "@jupyter-widgets/controls",
      "_view_module_version": "1.5.0",
      "_view_name": "HTMLView",
      "description": "",
      "description_tooltip": null,
      "layout": "IPY_MODEL_320b0de9997c4293bb0ce8ef959ea723",
      "placeholder": "​",
      "style": "IPY_MODEL_aaa411676b4c452f9315d3bb3d34c317",
      "value": "100% 747/747 [02:00&lt;00:00,  6.30it/s]"
     }
    },
    "491f41f146a942b0a3a870ee0e20fdce": {
     "model_module": "@jupyter-widgets/controls",
     "model_name": "HTMLModel",
     "state": {
      "_dom_classes": [],
      "_model_module": "@jupyter-widgets/controls",
      "_model_module_version": "1.5.0",
      "_model_name": "HTMLModel",
      "_view_count": null,
      "_view_module": "@jupyter-widgets/controls",
      "_view_module_version": "1.5.0",
      "_view_name": "HTMLView",
      "description": "",
      "description_tooltip": null,
      "layout": "IPY_MODEL_c40aad93165c4899a401bab3b74d24be",
      "placeholder": "​",
      "style": "IPY_MODEL_c96ebbc156644107908b32c955c67a73",
      "value": "100% 33869/33869 [00:07&lt;00:00, 4323.46it/s]"
     }
    },
    "4f60c01111604d468316d847952fb99a": {
     "model_module": "@jupyter-widgets/base",
     "model_name": "LayoutModel",
     "state": {
      "_model_module": "@jupyter-widgets/base",
      "_model_module_version": "1.2.0",
      "_model_name": "LayoutModel",
      "_view_count": null,
      "_view_module": "@jupyter-widgets/base",
      "_view_module_version": "1.2.0",
      "_view_name": "LayoutView",
      "align_content": null,
      "align_items": null,
      "align_self": null,
      "border": null,
      "bottom": null,
      "display": null,
      "flex": null,
      "flex_flow": null,
      "grid_area": null,
      "grid_auto_columns": null,
      "grid_auto_flow": null,
      "grid_auto_rows": null,
      "grid_column": null,
      "grid_gap": null,
      "grid_row": null,
      "grid_template_areas": null,
      "grid_template_columns": null,
      "grid_template_rows": null,
      "height": null,
      "justify_content": null,
      "justify_items": null,
      "left": null,
      "margin": null,
      "max_height": null,
      "max_width": null,
      "min_height": null,
      "min_width": null,
      "object_fit": null,
      "object_position": null,
      "order": null,
      "overflow": null,
      "overflow_x": null,
      "overflow_y": null,
      "padding": null,
      "right": null,
      "top": null,
      "visibility": null,
      "width": null
     }
    },
    "50434ff5ae264b9e94c91b070b0441d1": {
     "model_module": "@jupyter-widgets/controls",
     "model_name": "DescriptionStyleModel",
     "state": {
      "_model_module": "@jupyter-widgets/controls",
      "_model_module_version": "1.5.0",
      "_model_name": "DescriptionStyleModel",
      "_view_count": null,
      "_view_module": "@jupyter-widgets/base",
      "_view_module_version": "1.2.0",
      "_view_name": "StyleView",
      "description_width": ""
     }
    },
    "50c41a6aba7e41939455e682a057949a": {
     "model_module": "@jupyter-widgets/controls",
     "model_name": "IntProgressModel",
     "state": {
      "_dom_classes": [],
      "_model_module": "@jupyter-widgets/controls",
      "_model_module_version": "1.5.0",
      "_model_name": "IntProgressModel",
      "_view_count": null,
      "_view_module": "@jupyter-widgets/controls",
      "_view_module_version": "1.5.0",
      "_view_name": "ProgressView",
      "bar_style": "success",
      "description": "",
      "description_tooltip": null,
      "layout": "IPY_MODEL_0f12a5b62e4747a5a0ef8a4f64dde7aa",
      "max": 33869,
      "min": 0,
      "orientation": "horizontal",
      "style": "IPY_MODEL_9c02464eed6247d989277e830db2729d",
      "value": 33869
     }
    },
    "52028ef9b4f44a2f98b2edc35f6f01d9": {
     "model_module": "@jupyter-widgets/base",
     "model_name": "LayoutModel",
     "state": {
      "_model_module": "@jupyter-widgets/base",
      "_model_module_version": "1.2.0",
      "_model_name": "LayoutModel",
      "_view_count": null,
      "_view_module": "@jupyter-widgets/base",
      "_view_module_version": "1.2.0",
      "_view_name": "LayoutView",
      "align_content": null,
      "align_items": null,
      "align_self": null,
      "border": null,
      "bottom": null,
      "display": null,
      "flex": null,
      "flex_flow": null,
      "grid_area": null,
      "grid_auto_columns": null,
      "grid_auto_flow": null,
      "grid_auto_rows": null,
      "grid_column": null,
      "grid_gap": null,
      "grid_row": null,
      "grid_template_areas": null,
      "grid_template_columns": null,
      "grid_template_rows": null,
      "height": null,
      "justify_content": null,
      "justify_items": null,
      "left": null,
      "margin": null,
      "max_height": null,
      "max_width": null,
      "min_height": null,
      "min_width": null,
      "object_fit": null,
      "object_position": null,
      "order": null,
      "overflow": null,
      "overflow_x": null,
      "overflow_y": null,
      "padding": null,
      "right": null,
      "top": null,
      "visibility": null,
      "width": null
     }
    },
    "5e09a3c5d6b245a8af731fa0f8fb2fb3": {
     "model_module": "@jupyter-widgets/controls",
     "model_name": "HTMLModel",
     "state": {
      "_dom_classes": [],
      "_model_module": "@jupyter-widgets/controls",
      "_model_module_version": "1.5.0",
      "_model_name": "HTMLModel",
      "_view_count": null,
      "_view_module": "@jupyter-widgets/controls",
      "_view_module_version": "1.5.0",
      "_view_name": "HTMLView",
      "description": "",
      "description_tooltip": null,
      "layout": "IPY_MODEL_8974ebfd43a74b128958a6db966da7be",
      "placeholder": "​",
      "style": "IPY_MODEL_334d7fdd567441e59d31c387133df686",
      "value": "100% 747/747 [01:59&lt;00:00,  6.20it/s]"
     }
    },
    "667cd8afcaeb45cc90cc8cd200aaeb9b": {
     "model_module": "@jupyter-widgets/base",
     "model_name": "LayoutModel",
     "state": {
      "_model_module": "@jupyter-widgets/base",
      "_model_module_version": "1.2.0",
      "_model_name": "LayoutModel",
      "_view_count": null,
      "_view_module": "@jupyter-widgets/base",
      "_view_module_version": "1.2.0",
      "_view_name": "LayoutView",
      "align_content": null,
      "align_items": null,
      "align_self": null,
      "border": null,
      "bottom": null,
      "display": null,
      "flex": null,
      "flex_flow": null,
      "grid_area": null,
      "grid_auto_columns": null,
      "grid_auto_flow": null,
      "grid_auto_rows": null,
      "grid_column": null,
      "grid_gap": null,
      "grid_row": null,
      "grid_template_areas": null,
      "grid_template_columns": null,
      "grid_template_rows": null,
      "height": null,
      "justify_content": null,
      "justify_items": null,
      "left": null,
      "margin": null,
      "max_height": null,
      "max_width": null,
      "min_height": null,
      "min_width": null,
      "object_fit": null,
      "object_position": null,
      "order": null,
      "overflow": null,
      "overflow_x": null,
      "overflow_y": null,
      "padding": null,
      "right": null,
      "top": null,
      "visibility": null,
      "width": null
     }
    },
    "6691c90641834bb0bc494e857d35ff4c": {
     "model_module": "@jupyter-widgets/controls",
     "model_name": "HBoxModel",
     "state": {
      "_dom_classes": [],
      "_model_module": "@jupyter-widgets/controls",
      "_model_module_version": "1.5.0",
      "_model_name": "HBoxModel",
      "_view_count": null,
      "_view_module": "@jupyter-widgets/controls",
      "_view_module_version": "1.5.0",
      "_view_name": "HBoxView",
      "box_style": "",
      "children": [
       "IPY_MODEL_708c2d9aff38444abf0bae87677ce7d8",
       "IPY_MODEL_de442d7b218c455bbf8dac176b18a5a7"
      ],
      "layout": "IPY_MODEL_7c8f7f3c8d8f410ab535e9a4af88e761"
     }
    },
    "6a98b73e85fa4a86800d8ee10b81e99c": {
     "model_module": "@jupyter-widgets/controls",
     "model_name": "DescriptionStyleModel",
     "state": {
      "_model_module": "@jupyter-widgets/controls",
      "_model_module_version": "1.5.0",
      "_model_name": "DescriptionStyleModel",
      "_view_count": null,
      "_view_module": "@jupyter-widgets/base",
      "_view_module_version": "1.2.0",
      "_view_name": "StyleView",
      "description_width": ""
     }
    },
    "6c958683110b4d5983405b205611bed8": {
     "model_module": "@jupyter-widgets/base",
     "model_name": "LayoutModel",
     "state": {
      "_model_module": "@jupyter-widgets/base",
      "_model_module_version": "1.2.0",
      "_model_name": "LayoutModel",
      "_view_count": null,
      "_view_module": "@jupyter-widgets/base",
      "_view_module_version": "1.2.0",
      "_view_name": "LayoutView",
      "align_content": null,
      "align_items": null,
      "align_self": null,
      "border": null,
      "bottom": null,
      "display": null,
      "flex": null,
      "flex_flow": null,
      "grid_area": null,
      "grid_auto_columns": null,
      "grid_auto_flow": null,
      "grid_auto_rows": null,
      "grid_column": null,
      "grid_gap": null,
      "grid_row": null,
      "grid_template_areas": null,
      "grid_template_columns": null,
      "grid_template_rows": null,
      "height": null,
      "justify_content": null,
      "justify_items": null,
      "left": null,
      "margin": null,
      "max_height": null,
      "max_width": null,
      "min_height": null,
      "min_width": null,
      "object_fit": null,
      "object_position": null,
      "order": null,
      "overflow": null,
      "overflow_x": null,
      "overflow_y": null,
      "padding": null,
      "right": null,
      "top": null,
      "visibility": null,
      "width": null
     }
    },
    "708c2d9aff38444abf0bae87677ce7d8": {
     "model_module": "@jupyter-widgets/controls",
     "model_name": "IntProgressModel",
     "state": {
      "_dom_classes": [],
      "_model_module": "@jupyter-widgets/controls",
      "_model_module_version": "1.5.0",
      "_model_name": "IntProgressModel",
      "_view_count": null,
      "_view_module": "@jupyter-widgets/controls",
      "_view_module_version": "1.5.0",
      "_view_name": "ProgressView",
      "bar_style": "success",
      "description": "",
      "description_tooltip": null,
      "layout": "IPY_MODEL_21904be89bbe4ee58b6c34403442e8b2",
      "max": 747,
      "min": 0,
      "orientation": "horizontal",
      "style": "IPY_MODEL_067b5d6dfa504a66948f9367508c5259",
      "value": 747
     }
    },
    "73f501964bed45d4a9430a18521a1b1d": {
     "model_module": "@jupyter-widgets/controls",
     "model_name": "HBoxModel",
     "state": {
      "_dom_classes": [],
      "_model_module": "@jupyter-widgets/controls",
      "_model_module_version": "1.5.0",
      "_model_name": "HBoxModel",
      "_view_count": null,
      "_view_module": "@jupyter-widgets/controls",
      "_view_module_version": "1.5.0",
      "_view_name": "HBoxView",
      "box_style": "",
      "children": [
       "IPY_MODEL_a31bee1b38404098813f66fbe6f4248b",
       "IPY_MODEL_43c635bf51234ed4bf2fcd9089aff55c"
      ],
      "layout": "IPY_MODEL_b0a3cb05519c42b0acbba974469cbfbb"
     }
    },
    "751c6df1e0e14f02a1e3bb457c0b5663": {
     "model_module": "@jupyter-widgets/controls",
     "model_name": "HTMLModel",
     "state": {
      "_dom_classes": [],
      "_model_module": "@jupyter-widgets/controls",
      "_model_module_version": "1.5.0",
      "_model_name": "HTMLModel",
      "_view_count": null,
      "_view_module": "@jupyter-widgets/controls",
      "_view_module_version": "1.5.0",
      "_view_name": "HTMLView",
      "description": "",
      "description_tooltip": null,
      "layout": "IPY_MODEL_21e1d2d97bf2454496c25d2f59aa75ff",
      "placeholder": "​",
      "style": "IPY_MODEL_50434ff5ae264b9e94c91b070b0441d1",
      "value": "100% 747/747 [01:59&lt;00:00,  6.10it/s]"
     }
    },
    "76a4977b6e41439a9a2369ca703a82ba": {
     "model_module": "@jupyter-widgets/controls",
     "model_name": "IntProgressModel",
     "state": {
      "_dom_classes": [],
      "_model_module": "@jupyter-widgets/controls",
      "_model_module_version": "1.5.0",
      "_model_name": "IntProgressModel",
      "_view_count": null,
      "_view_module": "@jupyter-widgets/controls",
      "_view_module_version": "1.5.0",
      "_view_name": "ProgressView",
      "bar_style": "success",
      "description": "",
      "description_tooltip": null,
      "layout": "IPY_MODEL_dd46191570644162b2fce6678c65a11a",
      "max": 33869,
      "min": 0,
      "orientation": "horizontal",
      "style": "IPY_MODEL_e788ae7a56ae4ccc88d3c902bd72c1bd",
      "value": 33869
     }
    },
    "7848e5ccc80c4d0ea415984bb4d07a93": {
     "model_module": "@jupyter-widgets/base",
     "model_name": "LayoutModel",
     "state": {
      "_model_module": "@jupyter-widgets/base",
      "_model_module_version": "1.2.0",
      "_model_name": "LayoutModel",
      "_view_count": null,
      "_view_module": "@jupyter-widgets/base",
      "_view_module_version": "1.2.0",
      "_view_name": "LayoutView",
      "align_content": null,
      "align_items": null,
      "align_self": null,
      "border": null,
      "bottom": null,
      "display": null,
      "flex": null,
      "flex_flow": null,
      "grid_area": null,
      "grid_auto_columns": null,
      "grid_auto_flow": null,
      "grid_auto_rows": null,
      "grid_column": null,
      "grid_gap": null,
      "grid_row": null,
      "grid_template_areas": null,
      "grid_template_columns": null,
      "grid_template_rows": null,
      "height": null,
      "justify_content": null,
      "justify_items": null,
      "left": null,
      "margin": null,
      "max_height": null,
      "max_width": null,
      "min_height": null,
      "min_width": null,
      "object_fit": null,
      "object_position": null,
      "order": null,
      "overflow": null,
      "overflow_x": null,
      "overflow_y": null,
      "padding": null,
      "right": null,
      "top": null,
      "visibility": null,
      "width": null
     }
    },
    "791d2759b57e4fb1841e5f5e9e485721": {
     "model_module": "@jupyter-widgets/base",
     "model_name": "LayoutModel",
     "state": {
      "_model_module": "@jupyter-widgets/base",
      "_model_module_version": "1.2.0",
      "_model_name": "LayoutModel",
      "_view_count": null,
      "_view_module": "@jupyter-widgets/base",
      "_view_module_version": "1.2.0",
      "_view_name": "LayoutView",
      "align_content": null,
      "align_items": null,
      "align_self": null,
      "border": null,
      "bottom": null,
      "display": null,
      "flex": null,
      "flex_flow": null,
      "grid_area": null,
      "grid_auto_columns": null,
      "grid_auto_flow": null,
      "grid_auto_rows": null,
      "grid_column": null,
      "grid_gap": null,
      "grid_row": null,
      "grid_template_areas": null,
      "grid_template_columns": null,
      "grid_template_rows": null,
      "height": null,
      "justify_content": null,
      "justify_items": null,
      "left": null,
      "margin": null,
      "max_height": null,
      "max_width": null,
      "min_height": null,
      "min_width": null,
      "object_fit": null,
      "object_position": null,
      "order": null,
      "overflow": null,
      "overflow_x": null,
      "overflow_y": null,
      "padding": null,
      "right": null,
      "top": null,
      "visibility": null,
      "width": null
     }
    },
    "7a96110b219842a2ab3b53e061cab237": {
     "model_module": "@jupyter-widgets/controls",
     "model_name": "ProgressStyleModel",
     "state": {
      "_model_module": "@jupyter-widgets/controls",
      "_model_module_version": "1.5.0",
      "_model_name": "ProgressStyleModel",
      "_view_count": null,
      "_view_module": "@jupyter-widgets/base",
      "_view_module_version": "1.2.0",
      "_view_name": "StyleView",
      "bar_color": null,
      "description_width": ""
     }
    },
    "7c8f7f3c8d8f410ab535e9a4af88e761": {
     "model_module": "@jupyter-widgets/base",
     "model_name": "LayoutModel",
     "state": {
      "_model_module": "@jupyter-widgets/base",
      "_model_module_version": "1.2.0",
      "_model_name": "LayoutModel",
      "_view_count": null,
      "_view_module": "@jupyter-widgets/base",
      "_view_module_version": "1.2.0",
      "_view_name": "LayoutView",
      "align_content": null,
      "align_items": null,
      "align_self": null,
      "border": null,
      "bottom": null,
      "display": null,
      "flex": null,
      "flex_flow": null,
      "grid_area": null,
      "grid_auto_columns": null,
      "grid_auto_flow": null,
      "grid_auto_rows": null,
      "grid_column": null,
      "grid_gap": null,
      "grid_row": null,
      "grid_template_areas": null,
      "grid_template_columns": null,
      "grid_template_rows": null,
      "height": null,
      "justify_content": null,
      "justify_items": null,
      "left": null,
      "margin": null,
      "max_height": null,
      "max_width": null,
      "min_height": null,
      "min_width": null,
      "object_fit": null,
      "object_position": null,
      "order": null,
      "overflow": null,
      "overflow_x": null,
      "overflow_y": null,
      "padding": null,
      "right": null,
      "top": null,
      "visibility": null,
      "width": null
     }
    },
    "832d7ccf29d34bd3b4c09bf00abea138": {
     "model_module": "@jupyter-widgets/controls",
     "model_name": "HTMLModel",
     "state": {
      "_dom_classes": [],
      "_model_module": "@jupyter-widgets/controls",
      "_model_module_version": "1.5.0",
      "_model_name": "HTMLModel",
      "_view_count": null,
      "_view_module": "@jupyter-widgets/controls",
      "_view_module_version": "1.5.0",
      "_view_name": "HTMLView",
      "description": "",
      "description_tooltip": null,
      "layout": "IPY_MODEL_00dc6249ff694c078262994039e40660",
      "placeholder": "​",
      "style": "IPY_MODEL_6a98b73e85fa4a86800d8ee10b81e99c",
      "value": "100% 747/747 [01:59&lt;00:00,  6.28it/s]"
     }
    },
    "8974ebfd43a74b128958a6db966da7be": {
     "model_module": "@jupyter-widgets/base",
     "model_name": "LayoutModel",
     "state": {
      "_model_module": "@jupyter-widgets/base",
      "_model_module_version": "1.2.0",
      "_model_name": "LayoutModel",
      "_view_count": null,
      "_view_module": "@jupyter-widgets/base",
      "_view_module_version": "1.2.0",
      "_view_name": "LayoutView",
      "align_content": null,
      "align_items": null,
      "align_self": null,
      "border": null,
      "bottom": null,
      "display": null,
      "flex": null,
      "flex_flow": null,
      "grid_area": null,
      "grid_auto_columns": null,
      "grid_auto_flow": null,
      "grid_auto_rows": null,
      "grid_column": null,
      "grid_gap": null,
      "grid_row": null,
      "grid_template_areas": null,
      "grid_template_columns": null,
      "grid_template_rows": null,
      "height": null,
      "justify_content": null,
      "justify_items": null,
      "left": null,
      "margin": null,
      "max_height": null,
      "max_width": null,
      "min_height": null,
      "min_width": null,
      "object_fit": null,
      "object_position": null,
      "order": null,
      "overflow": null,
      "overflow_x": null,
      "overflow_y": null,
      "padding": null,
      "right": null,
      "top": null,
      "visibility": null,
      "width": null
     }
    },
    "8ab718bf2f8d400e9c0da2144ff89e1b": {
     "model_module": "@jupyter-widgets/controls",
     "model_name": "HBoxModel",
     "state": {
      "_dom_classes": [],
      "_model_module": "@jupyter-widgets/controls",
      "_model_module_version": "1.5.0",
      "_model_name": "HBoxModel",
      "_view_count": null,
      "_view_module": "@jupyter-widgets/controls",
      "_view_module_version": "1.5.0",
      "_view_name": "HBoxView",
      "box_style": "",
      "children": [
       "IPY_MODEL_b5d23a5122394022b2fed4c9e6ff6991",
       "IPY_MODEL_28aae7f761cf43cc88f866bde55f5843"
      ],
      "layout": "IPY_MODEL_0f8fe0fe68c24c54b4deb09221bac239"
     }
    },
    "8be8968d9ebe439c8f698ae5bd3d76b0": {
     "model_module": "@jupyter-widgets/controls",
     "model_name": "DescriptionStyleModel",
     "state": {
      "_model_module": "@jupyter-widgets/controls",
      "_model_module_version": "1.5.0",
      "_model_name": "DescriptionStyleModel",
      "_view_count": null,
      "_view_module": "@jupyter-widgets/base",
      "_view_module_version": "1.2.0",
      "_view_name": "StyleView",
      "description_width": ""
     }
    },
    "8cd85bf099f34375bd3c5ae1351a70b9": {
     "model_module": "@jupyter-widgets/controls",
     "model_name": "DescriptionStyleModel",
     "state": {
      "_model_module": "@jupyter-widgets/controls",
      "_model_module_version": "1.5.0",
      "_model_name": "DescriptionStyleModel",
      "_view_count": null,
      "_view_module": "@jupyter-widgets/base",
      "_view_module_version": "1.2.0",
      "_view_name": "StyleView",
      "description_width": ""
     }
    },
    "8e2282a14d614d0789d004971cd8272c": {
     "model_module": "@jupyter-widgets/base",
     "model_name": "LayoutModel",
     "state": {
      "_model_module": "@jupyter-widgets/base",
      "_model_module_version": "1.2.0",
      "_model_name": "LayoutModel",
      "_view_count": null,
      "_view_module": "@jupyter-widgets/base",
      "_view_module_version": "1.2.0",
      "_view_name": "LayoutView",
      "align_content": null,
      "align_items": null,
      "align_self": null,
      "border": null,
      "bottom": null,
      "display": null,
      "flex": null,
      "flex_flow": null,
      "grid_area": null,
      "grid_auto_columns": null,
      "grid_auto_flow": null,
      "grid_auto_rows": null,
      "grid_column": null,
      "grid_gap": null,
      "grid_row": null,
      "grid_template_areas": null,
      "grid_template_columns": null,
      "grid_template_rows": null,
      "height": null,
      "justify_content": null,
      "justify_items": null,
      "left": null,
      "margin": null,
      "max_height": null,
      "max_width": null,
      "min_height": null,
      "min_width": null,
      "object_fit": null,
      "object_position": null,
      "order": null,
      "overflow": null,
      "overflow_x": null,
      "overflow_y": null,
      "padding": null,
      "right": null,
      "top": null,
      "visibility": null,
      "width": null
     }
    },
    "96007880668a4e649a5a91612ae79a91": {
     "model_module": "@jupyter-widgets/controls",
     "model_name": "ProgressStyleModel",
     "state": {
      "_model_module": "@jupyter-widgets/controls",
      "_model_module_version": "1.5.0",
      "_model_name": "ProgressStyleModel",
      "_view_count": null,
      "_view_module": "@jupyter-widgets/base",
      "_view_module_version": "1.2.0",
      "_view_name": "StyleView",
      "bar_color": null,
      "description_width": ""
     }
    },
    "9c02464eed6247d989277e830db2729d": {
     "model_module": "@jupyter-widgets/controls",
     "model_name": "ProgressStyleModel",
     "state": {
      "_model_module": "@jupyter-widgets/controls",
      "_model_module_version": "1.5.0",
      "_model_name": "ProgressStyleModel",
      "_view_count": null,
      "_view_module": "@jupyter-widgets/base",
      "_view_module_version": "1.2.0",
      "_view_name": "StyleView",
      "bar_color": null,
      "description_width": ""
     }
    },
    "9c9b4fbd16004896be26240463940543": {
     "model_module": "@jupyter-widgets/controls",
     "model_name": "HBoxModel",
     "state": {
      "_dom_classes": [],
      "_model_module": "@jupyter-widgets/controls",
      "_model_module_version": "1.5.0",
      "_model_name": "HBoxModel",
      "_view_count": null,
      "_view_module": "@jupyter-widgets/controls",
      "_view_module_version": "1.5.0",
      "_view_name": "HBoxView",
      "box_style": "",
      "children": [
       "IPY_MODEL_0fb32f573566457b90101be9ddd76f96",
       "IPY_MODEL_832d7ccf29d34bd3b4c09bf00abea138"
      ],
      "layout": "IPY_MODEL_35f2c7a51f904b1b8004f4027e1f108e"
     }
    },
    "9f39e53f7a174b478e1669d9b9ae0992": {
     "model_module": "@jupyter-widgets/controls",
     "model_name": "HBoxModel",
     "state": {
      "_dom_classes": [],
      "_model_module": "@jupyter-widgets/controls",
      "_model_module_version": "1.5.0",
      "_model_name": "HBoxModel",
      "_view_count": null,
      "_view_module": "@jupyter-widgets/controls",
      "_view_module_version": "1.5.0",
      "_view_name": "HBoxView",
      "box_style": "",
      "children": [
       "IPY_MODEL_110d5c0070ad420ab9f1da0de331e48a",
       "IPY_MODEL_a516d4e4c155416db33938fe6c1b03c1"
      ],
      "layout": "IPY_MODEL_19fcef2fffad4c24b23bc1f3f5e934db"
     }
    },
    "a269da456cc24f688f193f7b468466ce": {
     "model_module": "@jupyter-widgets/controls",
     "model_name": "DescriptionStyleModel",
     "state": {
      "_model_module": "@jupyter-widgets/controls",
      "_model_module_version": "1.5.0",
      "_model_name": "DescriptionStyleModel",
      "_view_count": null,
      "_view_module": "@jupyter-widgets/base",
      "_view_module_version": "1.2.0",
      "_view_name": "StyleView",
      "description_width": ""
     }
    },
    "a31bee1b38404098813f66fbe6f4248b": {
     "model_module": "@jupyter-widgets/controls",
     "model_name": "IntProgressModel",
     "state": {
      "_dom_classes": [],
      "_model_module": "@jupyter-widgets/controls",
      "_model_module_version": "1.5.0",
      "_model_name": "IntProgressModel",
      "_view_count": null,
      "_view_module": "@jupyter-widgets/controls",
      "_view_module_version": "1.5.0",
      "_view_name": "ProgressView",
      "bar_style": "success",
      "description": "",
      "description_tooltip": null,
      "layout": "IPY_MODEL_1211e137839b48769e25734fa7d21ea4",
      "max": 747,
      "min": 0,
      "orientation": "horizontal",
      "style": "IPY_MODEL_af89b9e2514a4ffc86c7b0b823b10023",
      "value": 747
     }
    },
    "a516d4e4c155416db33938fe6c1b03c1": {
     "model_module": "@jupyter-widgets/controls",
     "model_name": "HTMLModel",
     "state": {
      "_dom_classes": [],
      "_model_module": "@jupyter-widgets/controls",
      "_model_module_version": "1.5.0",
      "_model_name": "HTMLModel",
      "_view_count": null,
      "_view_module": "@jupyter-widgets/controls",
      "_view_module_version": "1.5.0",
      "_view_name": "HTMLView",
      "description": "",
      "description_tooltip": null,
      "layout": "IPY_MODEL_4f60c01111604d468316d847952fb99a",
      "placeholder": "​",
      "style": "IPY_MODEL_c9465661cde547908237c23c8921656f",
      "value": "100% 747/747 [01:59&lt;00:00,  6.21it/s]"
     }
    },
    "aaa411676b4c452f9315d3bb3d34c317": {
     "model_module": "@jupyter-widgets/controls",
     "model_name": "DescriptionStyleModel",
     "state": {
      "_model_module": "@jupyter-widgets/controls",
      "_model_module_version": "1.5.0",
      "_model_name": "DescriptionStyleModel",
      "_view_count": null,
      "_view_module": "@jupyter-widgets/base",
      "_view_module_version": "1.2.0",
      "_view_name": "StyleView",
      "description_width": ""
     }
    },
    "af89b9e2514a4ffc86c7b0b823b10023": {
     "model_module": "@jupyter-widgets/controls",
     "model_name": "ProgressStyleModel",
     "state": {
      "_model_module": "@jupyter-widgets/controls",
      "_model_module_version": "1.5.0",
      "_model_name": "ProgressStyleModel",
      "_view_count": null,
      "_view_module": "@jupyter-widgets/base",
      "_view_module_version": "1.2.0",
      "_view_name": "StyleView",
      "bar_color": null,
      "description_width": ""
     }
    },
    "b0a3cb05519c42b0acbba974469cbfbb": {
     "model_module": "@jupyter-widgets/base",
     "model_name": "LayoutModel",
     "state": {
      "_model_module": "@jupyter-widgets/base",
      "_model_module_version": "1.2.0",
      "_model_name": "LayoutModel",
      "_view_count": null,
      "_view_module": "@jupyter-widgets/base",
      "_view_module_version": "1.2.0",
      "_view_name": "LayoutView",
      "align_content": null,
      "align_items": null,
      "align_self": null,
      "border": null,
      "bottom": null,
      "display": null,
      "flex": null,
      "flex_flow": null,
      "grid_area": null,
      "grid_auto_columns": null,
      "grid_auto_flow": null,
      "grid_auto_rows": null,
      "grid_column": null,
      "grid_gap": null,
      "grid_row": null,
      "grid_template_areas": null,
      "grid_template_columns": null,
      "grid_template_rows": null,
      "height": null,
      "justify_content": null,
      "justify_items": null,
      "left": null,
      "margin": null,
      "max_height": null,
      "max_width": null,
      "min_height": null,
      "min_width": null,
      "object_fit": null,
      "object_position": null,
      "order": null,
      "overflow": null,
      "overflow_x": null,
      "overflow_y": null,
      "padding": null,
      "right": null,
      "top": null,
      "visibility": null,
      "width": null
     }
    },
    "b5d23a5122394022b2fed4c9e6ff6991": {
     "model_module": "@jupyter-widgets/controls",
     "model_name": "IntProgressModel",
     "state": {
      "_dom_classes": [],
      "_model_module": "@jupyter-widgets/controls",
      "_model_module_version": "1.5.0",
      "_model_name": "IntProgressModel",
      "_view_count": null,
      "_view_module": "@jupyter-widgets/controls",
      "_view_module_version": "1.5.0",
      "_view_name": "ProgressView",
      "bar_style": "success",
      "description": "",
      "description_tooltip": null,
      "layout": "IPY_MODEL_6c958683110b4d5983405b205611bed8",
      "max": 747,
      "min": 0,
      "orientation": "horizontal",
      "style": "IPY_MODEL_366c2767e1d34d98a435b09f4f490465",
      "value": 747
     }
    },
    "bbe8bb654e4b4c558fe1e2464de71235": {
     "model_module": "@jupyter-widgets/base",
     "model_name": "LayoutModel",
     "state": {
      "_model_module": "@jupyter-widgets/base",
      "_model_module_version": "1.2.0",
      "_model_name": "LayoutModel",
      "_view_count": null,
      "_view_module": "@jupyter-widgets/base",
      "_view_module_version": "1.2.0",
      "_view_name": "LayoutView",
      "align_content": null,
      "align_items": null,
      "align_self": null,
      "border": null,
      "bottom": null,
      "display": null,
      "flex": null,
      "flex_flow": null,
      "grid_area": null,
      "grid_auto_columns": null,
      "grid_auto_flow": null,
      "grid_auto_rows": null,
      "grid_column": null,
      "grid_gap": null,
      "grid_row": null,
      "grid_template_areas": null,
      "grid_template_columns": null,
      "grid_template_rows": null,
      "height": null,
      "justify_content": null,
      "justify_items": null,
      "left": null,
      "margin": null,
      "max_height": null,
      "max_width": null,
      "min_height": null,
      "min_width": null,
      "object_fit": null,
      "object_position": null,
      "order": null,
      "overflow": null,
      "overflow_x": null,
      "overflow_y": null,
      "padding": null,
      "right": null,
      "top": null,
      "visibility": null,
      "width": null
     }
    },
    "bed8dffae76c4fe397d59290983d5ae9": {
     "model_module": "@jupyter-widgets/base",
     "model_name": "LayoutModel",
     "state": {
      "_model_module": "@jupyter-widgets/base",
      "_model_module_version": "1.2.0",
      "_model_name": "LayoutModel",
      "_view_count": null,
      "_view_module": "@jupyter-widgets/base",
      "_view_module_version": "1.2.0",
      "_view_name": "LayoutView",
      "align_content": null,
      "align_items": null,
      "align_self": null,
      "border": null,
      "bottom": null,
      "display": null,
      "flex": null,
      "flex_flow": null,
      "grid_area": null,
      "grid_auto_columns": null,
      "grid_auto_flow": null,
      "grid_auto_rows": null,
      "grid_column": null,
      "grid_gap": null,
      "grid_row": null,
      "grid_template_areas": null,
      "grid_template_columns": null,
      "grid_template_rows": null,
      "height": null,
      "justify_content": null,
      "justify_items": null,
      "left": null,
      "margin": null,
      "max_height": null,
      "max_width": null,
      "min_height": null,
      "min_width": null,
      "object_fit": null,
      "object_position": null,
      "order": null,
      "overflow": null,
      "overflow_x": null,
      "overflow_y": null,
      "padding": null,
      "right": null,
      "top": null,
      "visibility": null,
      "width": null
     }
    },
    "bfa1436ac51b477aa1c3b9d593ce6eaf": {
     "model_module": "@jupyter-widgets/base",
     "model_name": "LayoutModel",
     "state": {
      "_model_module": "@jupyter-widgets/base",
      "_model_module_version": "1.2.0",
      "_model_name": "LayoutModel",
      "_view_count": null,
      "_view_module": "@jupyter-widgets/base",
      "_view_module_version": "1.2.0",
      "_view_name": "LayoutView",
      "align_content": null,
      "align_items": null,
      "align_self": null,
      "border": null,
      "bottom": null,
      "display": null,
      "flex": null,
      "flex_flow": null,
      "grid_area": null,
      "grid_auto_columns": null,
      "grid_auto_flow": null,
      "grid_auto_rows": null,
      "grid_column": null,
      "grid_gap": null,
      "grid_row": null,
      "grid_template_areas": null,
      "grid_template_columns": null,
      "grid_template_rows": null,
      "height": null,
      "justify_content": null,
      "justify_items": null,
      "left": null,
      "margin": null,
      "max_height": null,
      "max_width": null,
      "min_height": null,
      "min_width": null,
      "object_fit": null,
      "object_position": null,
      "order": null,
      "overflow": null,
      "overflow_x": null,
      "overflow_y": null,
      "padding": null,
      "right": null,
      "top": null,
      "visibility": null,
      "width": null
     }
    },
    "c40aad93165c4899a401bab3b74d24be": {
     "model_module": "@jupyter-widgets/base",
     "model_name": "LayoutModel",
     "state": {
      "_model_module": "@jupyter-widgets/base",
      "_model_module_version": "1.2.0",
      "_model_name": "LayoutModel",
      "_view_count": null,
      "_view_module": "@jupyter-widgets/base",
      "_view_module_version": "1.2.0",
      "_view_name": "LayoutView",
      "align_content": null,
      "align_items": null,
      "align_self": null,
      "border": null,
      "bottom": null,
      "display": null,
      "flex": null,
      "flex_flow": null,
      "grid_area": null,
      "grid_auto_columns": null,
      "grid_auto_flow": null,
      "grid_auto_rows": null,
      "grid_column": null,
      "grid_gap": null,
      "grid_row": null,
      "grid_template_areas": null,
      "grid_template_columns": null,
      "grid_template_rows": null,
      "height": null,
      "justify_content": null,
      "justify_items": null,
      "left": null,
      "margin": null,
      "max_height": null,
      "max_width": null,
      "min_height": null,
      "min_width": null,
      "object_fit": null,
      "object_position": null,
      "order": null,
      "overflow": null,
      "overflow_x": null,
      "overflow_y": null,
      "padding": null,
      "right": null,
      "top": null,
      "visibility": null,
      "width": null
     }
    },
    "c9465661cde547908237c23c8921656f": {
     "model_module": "@jupyter-widgets/controls",
     "model_name": "DescriptionStyleModel",
     "state": {
      "_model_module": "@jupyter-widgets/controls",
      "_model_module_version": "1.5.0",
      "_model_name": "DescriptionStyleModel",
      "_view_count": null,
      "_view_module": "@jupyter-widgets/base",
      "_view_module_version": "1.2.0",
      "_view_name": "StyleView",
      "description_width": ""
     }
    },
    "c96ebbc156644107908b32c955c67a73": {
     "model_module": "@jupyter-widgets/controls",
     "model_name": "DescriptionStyleModel",
     "state": {
      "_model_module": "@jupyter-widgets/controls",
      "_model_module_version": "1.5.0",
      "_model_name": "DescriptionStyleModel",
      "_view_count": null,
      "_view_module": "@jupyter-widgets/base",
      "_view_module_version": "1.2.0",
      "_view_name": "StyleView",
      "description_width": ""
     }
    },
    "d776891898d24e3d9cd02cddd652a74b": {
     "model_module": "@jupyter-widgets/controls",
     "model_name": "DescriptionStyleModel",
     "state": {
      "_model_module": "@jupyter-widgets/controls",
      "_model_module_version": "1.5.0",
      "_model_name": "DescriptionStyleModel",
      "_view_count": null,
      "_view_module": "@jupyter-widgets/base",
      "_view_module_version": "1.2.0",
      "_view_name": "StyleView",
      "description_width": ""
     }
    },
    "d9a72a9ffd04414fa45dcfd523252f0d": {
     "model_module": "@jupyter-widgets/base",
     "model_name": "LayoutModel",
     "state": {
      "_model_module": "@jupyter-widgets/base",
      "_model_module_version": "1.2.0",
      "_model_name": "LayoutModel",
      "_view_count": null,
      "_view_module": "@jupyter-widgets/base",
      "_view_module_version": "1.2.0",
      "_view_name": "LayoutView",
      "align_content": null,
      "align_items": null,
      "align_self": null,
      "border": null,
      "bottom": null,
      "display": null,
      "flex": null,
      "flex_flow": null,
      "grid_area": null,
      "grid_auto_columns": null,
      "grid_auto_flow": null,
      "grid_auto_rows": null,
      "grid_column": null,
      "grid_gap": null,
      "grid_row": null,
      "grid_template_areas": null,
      "grid_template_columns": null,
      "grid_template_rows": null,
      "height": null,
      "justify_content": null,
      "justify_items": null,
      "left": null,
      "margin": null,
      "max_height": null,
      "max_width": null,
      "min_height": null,
      "min_width": null,
      "object_fit": null,
      "object_position": null,
      "order": null,
      "overflow": null,
      "overflow_x": null,
      "overflow_y": null,
      "padding": null,
      "right": null,
      "top": null,
      "visibility": null,
      "width": null
     }
    },
    "dd46191570644162b2fce6678c65a11a": {
     "model_module": "@jupyter-widgets/base",
     "model_name": "LayoutModel",
     "state": {
      "_model_module": "@jupyter-widgets/base",
      "_model_module_version": "1.2.0",
      "_model_name": "LayoutModel",
      "_view_count": null,
      "_view_module": "@jupyter-widgets/base",
      "_view_module_version": "1.2.0",
      "_view_name": "LayoutView",
      "align_content": null,
      "align_items": null,
      "align_self": null,
      "border": null,
      "bottom": null,
      "display": null,
      "flex": null,
      "flex_flow": null,
      "grid_area": null,
      "grid_auto_columns": null,
      "grid_auto_flow": null,
      "grid_auto_rows": null,
      "grid_column": null,
      "grid_gap": null,
      "grid_row": null,
      "grid_template_areas": null,
      "grid_template_columns": null,
      "grid_template_rows": null,
      "height": null,
      "justify_content": null,
      "justify_items": null,
      "left": null,
      "margin": null,
      "max_height": null,
      "max_width": null,
      "min_height": null,
      "min_width": null,
      "object_fit": null,
      "object_position": null,
      "order": null,
      "overflow": null,
      "overflow_x": null,
      "overflow_y": null,
      "padding": null,
      "right": null,
      "top": null,
      "visibility": null,
      "width": null
     }
    },
    "de442d7b218c455bbf8dac176b18a5a7": {
     "model_module": "@jupyter-widgets/controls",
     "model_name": "HTMLModel",
     "state": {
      "_dom_classes": [],
      "_model_module": "@jupyter-widgets/controls",
      "_model_module_version": "1.5.0",
      "_model_name": "HTMLModel",
      "_view_count": null,
      "_view_module": "@jupyter-widgets/controls",
      "_view_module_version": "1.5.0",
      "_view_name": "HTMLView",
      "description": "",
      "description_tooltip": null,
      "layout": "IPY_MODEL_ee4e84d601224959b0bf67e4e1308016",
      "placeholder": "​",
      "style": "IPY_MODEL_a269da456cc24f688f193f7b468466ce",
      "value": "100% 747/747 [02:01&lt;00:00,  6.21it/s]"
     }
    },
    "e381a3af88ea4c348eeeeafd4438a6f9": {
     "model_module": "@jupyter-widgets/controls",
     "model_name": "ProgressStyleModel",
     "state": {
      "_model_module": "@jupyter-widgets/controls",
      "_model_module_version": "1.5.0",
      "_model_name": "ProgressStyleModel",
      "_view_count": null,
      "_view_module": "@jupyter-widgets/base",
      "_view_module_version": "1.2.0",
      "_view_name": "StyleView",
      "bar_color": null,
      "description_width": ""
     }
    },
    "e788ae7a56ae4ccc88d3c902bd72c1bd": {
     "model_module": "@jupyter-widgets/controls",
     "model_name": "ProgressStyleModel",
     "state": {
      "_model_module": "@jupyter-widgets/controls",
      "_model_module_version": "1.5.0",
      "_model_name": "ProgressStyleModel",
      "_view_count": null,
      "_view_module": "@jupyter-widgets/base",
      "_view_module_version": "1.2.0",
      "_view_name": "StyleView",
      "bar_color": null,
      "description_width": ""
     }
    },
    "ebd9ab3d654f403ca2a55e1718a95cee": {
     "model_module": "@jupyter-widgets/base",
     "model_name": "LayoutModel",
     "state": {
      "_model_module": "@jupyter-widgets/base",
      "_model_module_version": "1.2.0",
      "_model_name": "LayoutModel",
      "_view_count": null,
      "_view_module": "@jupyter-widgets/base",
      "_view_module_version": "1.2.0",
      "_view_name": "LayoutView",
      "align_content": null,
      "align_items": null,
      "align_self": null,
      "border": null,
      "bottom": null,
      "display": null,
      "flex": null,
      "flex_flow": null,
      "grid_area": null,
      "grid_auto_columns": null,
      "grid_auto_flow": null,
      "grid_auto_rows": null,
      "grid_column": null,
      "grid_gap": null,
      "grid_row": null,
      "grid_template_areas": null,
      "grid_template_columns": null,
      "grid_template_rows": null,
      "height": null,
      "justify_content": null,
      "justify_items": null,
      "left": null,
      "margin": null,
      "max_height": null,
      "max_width": null,
      "min_height": null,
      "min_width": null,
      "object_fit": null,
      "object_position": null,
      "order": null,
      "overflow": null,
      "overflow_x": null,
      "overflow_y": null,
      "padding": null,
      "right": null,
      "top": null,
      "visibility": null,
      "width": null
     }
    },
    "ee4e84d601224959b0bf67e4e1308016": {
     "model_module": "@jupyter-widgets/base",
     "model_name": "LayoutModel",
     "state": {
      "_model_module": "@jupyter-widgets/base",
      "_model_module_version": "1.2.0",
      "_model_name": "LayoutModel",
      "_view_count": null,
      "_view_module": "@jupyter-widgets/base",
      "_view_module_version": "1.2.0",
      "_view_name": "LayoutView",
      "align_content": null,
      "align_items": null,
      "align_self": null,
      "border": null,
      "bottom": null,
      "display": null,
      "flex": null,
      "flex_flow": null,
      "grid_area": null,
      "grid_auto_columns": null,
      "grid_auto_flow": null,
      "grid_auto_rows": null,
      "grid_column": null,
      "grid_gap": null,
      "grid_row": null,
      "grid_template_areas": null,
      "grid_template_columns": null,
      "grid_template_rows": null,
      "height": null,
      "justify_content": null,
      "justify_items": null,
      "left": null,
      "margin": null,
      "max_height": null,
      "max_width": null,
      "min_height": null,
      "min_width": null,
      "object_fit": null,
      "object_position": null,
      "order": null,
      "overflow": null,
      "overflow_x": null,
      "overflow_y": null,
      "padding": null,
      "right": null,
      "top": null,
      "visibility": null,
      "width": null
     }
    },
    "ef5525ba9f5e4cae906c9da86f4a08ee": {
     "model_module": "@jupyter-widgets/controls",
     "model_name": "HBoxModel",
     "state": {
      "_dom_classes": [],
      "_model_module": "@jupyter-widgets/controls",
      "_model_module_version": "1.5.0",
      "_model_name": "HBoxModel",
      "_view_count": null,
      "_view_module": "@jupyter-widgets/controls",
      "_view_module_version": "1.5.0",
      "_view_name": "HBoxView",
      "box_style": "",
      "children": [
       "IPY_MODEL_76a4977b6e41439a9a2369ca703a82ba",
       "IPY_MODEL_2eb7ed1babe94e0884183327d7a59b04"
      ],
      "layout": "IPY_MODEL_7848e5ccc80c4d0ea415984bb4d07a93"
     }
    },
    "ef695af18d3f4146b3d3b7b645c54032": {
     "model_module": "@jupyter-widgets/base",
     "model_name": "LayoutModel",
     "state": {
      "_model_module": "@jupyter-widgets/base",
      "_model_module_version": "1.2.0",
      "_model_name": "LayoutModel",
      "_view_count": null,
      "_view_module": "@jupyter-widgets/base",
      "_view_module_version": "1.2.0",
      "_view_name": "LayoutView",
      "align_content": null,
      "align_items": null,
      "align_self": null,
      "border": null,
      "bottom": null,
      "display": null,
      "flex": null,
      "flex_flow": null,
      "grid_area": null,
      "grid_auto_columns": null,
      "grid_auto_flow": null,
      "grid_auto_rows": null,
      "grid_column": null,
      "grid_gap": null,
      "grid_row": null,
      "grid_template_areas": null,
      "grid_template_columns": null,
      "grid_template_rows": null,
      "height": null,
      "justify_content": null,
      "justify_items": null,
      "left": null,
      "margin": null,
      "max_height": null,
      "max_width": null,
      "min_height": null,
      "min_width": null,
      "object_fit": null,
      "object_position": null,
      "order": null,
      "overflow": null,
      "overflow_x": null,
      "overflow_y": null,
      "padding": null,
      "right": null,
      "top": null,
      "visibility": null,
      "width": null
     }
    },
    "f4e8eb6d8d974129b1f964661db2041e": {
     "model_module": "@jupyter-widgets/controls",
     "model_name": "HBoxModel",
     "state": {
      "_dom_classes": [],
      "_model_module": "@jupyter-widgets/controls",
      "_model_module_version": "1.5.0",
      "_model_name": "HBoxModel",
      "_view_count": null,
      "_view_module": "@jupyter-widgets/controls",
      "_view_module_version": "1.5.0",
      "_view_name": "HBoxView",
      "box_style": "",
      "children": [
       "IPY_MODEL_50c41a6aba7e41939455e682a057949a",
       "IPY_MODEL_491f41f146a942b0a3a870ee0e20fdce"
      ],
      "layout": "IPY_MODEL_bed8dffae76c4fe397d59290983d5ae9"
     }
    },
    "f9284e2c3a884b2f9769597bf0c0b528": {
     "model_module": "@jupyter-widgets/controls",
     "model_name": "ProgressStyleModel",
     "state": {
      "_model_module": "@jupyter-widgets/controls",
      "_model_module_version": "1.5.0",
      "_model_name": "ProgressStyleModel",
      "_view_count": null,
      "_view_module": "@jupyter-widgets/base",
      "_view_module_version": "1.2.0",
      "_view_name": "StyleView",
      "bar_color": null,
      "description_width": ""
     }
    }
   }
  }
 },
 "nbformat": 4,
 "nbformat_minor": 1
}
